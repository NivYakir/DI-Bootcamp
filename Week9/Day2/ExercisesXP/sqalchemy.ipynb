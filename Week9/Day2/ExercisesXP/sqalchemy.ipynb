{
 "cells": [
  {
   "cell_type": "code",
   "execution_count": 88,
   "id": "3b5befdf",
   "metadata": {},
   "outputs": [],
   "source": [
    "### download and extract chinook sample DB\n",
    "import urllib.request\n",
    "import zipfile\n",
    "from functools import partial\n",
    "import os\n",
    "\n",
    "chinook_url = 'http://www.sqlitetutorial.net/wp-content/uploads/2018/03/chinook.zip'\n",
    "if not os.path.exists('chinook.zip'):\n",
    "    print('downloading chinook.zip ', end='')\n",
    "    with urllib.request.urlopen(chinook_url) as response:\n",
    "        with open('chinook.zip', 'wb') as f:\n",
    "            for data in iter(partial(response.read, 4*1024), b''):\n",
    "                print('.', end='', flush=True)\n",
    "                f.write(data)\n",
    "\n",
    "zipfile.ZipFile('chinook.zip').extractall()\n",
    "assert os.path.exists('chinook.db')"
   ]
  },
  {
   "cell_type": "code",
   "execution_count": 89,
   "id": "4d37df6d",
   "metadata": {},
   "outputs": [],
   "source": [
    "### useful: functions for displaying results from sql queries using pandas\n",
    "from IPython.display import display\n",
    "import pandas as pd\n",
    "\n",
    "def sql(query):\n",
    "    print()\n",
    "    print(query)\n",
    "    print()\n",
    "\n",
    "def get_results(query):\n",
    "    global engine\n",
    "    q = query.statement if isinstance(query, sqlalchemy.orm.query.Query) else query\n",
    "    return pd.read_sql(q, engine)\n",
    "\n",
    "def display_results(query):\n",
    "    df = get_results(query)\n",
    "    display(df)\n",
    "    sql(query)"
   ]
  },
  {
   "cell_type": "markdown",
   "id": "2da1a0d0",
   "metadata": {},
   "source": [
    "# Exercise 1 : Open the database"
   ]
  },
  {
   "cell_type": "code",
   "execution_count": 90,
   "id": "4a6ac1fd",
   "metadata": {},
   "outputs": [],
   "source": [
    "# open the database using sqlalchemy module interface\n",
    "import sqlalchemy\n",
    "from sqlalchemy import create_engine, MetaData, Table, select\n",
    "\n",
    "# create an engine object in a variable named engine\n",
    "engine = create_engine(\"sqlite:///chinook.db\")\n",
    "\n",
    "# establishing connection to engine\n",
    "conn = engine.connect()"
   ]
  },
  {
   "cell_type": "code",
   "execution_count": 91,
   "id": "db9e7800",
   "metadata": {},
   "outputs": [],
   "source": [
    "### useful: extract classes from the chinook database\n",
    "metadata = sqlalchemy.MetaData()\n",
    "metadata.reflect(engine)\n",
    "\n",
    "## we need to do this once\n",
    "from sqlalchemy.ext.automap import automap_base\n",
    "\n",
    "# produce a set of mappings from this MetaData.\n",
    "Base = automap_base(metadata=metadata)\n",
    "\n",
    "# calling prepare() just sets up mapped classes and relationships.\n",
    "Base.prepare()\n",
    "\n",
    "# also prepare an orm session\n",
    "from sqlalchemy.orm import sessionmaker\n",
    "Session = sessionmaker(bind=engine)\n",
    "session = Session()"
   ]
  },
  {
   "cell_type": "markdown",
   "id": "9bc07334",
   "metadata": {},
   "source": [
    "# Exercise 2: Table Names"
   ]
  },
  {
   "cell_type": "code",
   "execution_count": 92,
   "id": "062ba200",
   "metadata": {},
   "outputs": [
    {
     "name": "stdout",
     "output_type": "stream",
     "text": [
      "dict_keys(['albums', 'artists', 'customers', 'employees', 'genres', 'invoice_items', 'tracks', 'media_types', 'invoices', 'playlist_track', 'playlists'])\n",
      "genres: GenreId, Name\n",
      "artists: ArtistId, Name\n",
      "albums: AlbumId, Title, ArtistId\n",
      "playlists: PlaylistId, Name\n",
      "employees: EmployeeId, LastName, FirstName, Title, ReportsTo, BirthDate, HireDate, Address, City, State, Country, PostalCode, Phone, Fax, Email\n",
      "invoices: InvoiceId, CustomerId, InvoiceDate, BillingAddress, BillingCity, BillingState, BillingCountry, BillingPostalCode, Total\n",
      "invoice_items: InvoiceLineId, InvoiceId, TrackId, UnitPrice, Quantity\n",
      "tracks: TrackId, Name, AlbumId, MediaTypeId, GenreId, Composer, Milliseconds, Bytes, UnitPrice\n",
      "media_types: MediaTypeId, Name\n",
      "customers: CustomerId, FirstName, LastName, Company, Address, City, State, Country, PostalCode, Phone, Fax, Email, SupportRepId\n"
     ]
    }
   ],
   "source": [
    "# Print the Name of Each Table in the Database\n",
    "print(metadata.tables.keys())\n",
    "\n",
    "# OR Print Table Names + Columns\n",
    "for table_name, orm_class in Base.classes.items():\n",
    "    cols = \", \".join([col.name for col in orm_class.__table__.columns])\n",
    "    print(f\"{table_name}: {cols}\")"
   ]
  },
  {
   "cell_type": "markdown",
   "id": "c3b47644",
   "metadata": {},
   "source": [
    "# Exercise 3: Tracks "
   ]
  },
  {
   "cell_type": "code",
   "execution_count": 93,
   "id": "b873b9c6",
   "metadata": {},
   "outputs": [
    {
     "name": "stdout",
     "output_type": "stream",
     "text": [
      "For Those About To Rock (We Salute You)\n",
      "Balls to the Wall\n",
      "Fast As a Shark\n",
      "For Those About To Rock (We Salute You)\n",
      "Balls to the Wall\n",
      "Fast As a Shark\n"
     ]
    }
   ],
   "source": [
    "from sqlalchemy.sql import text\n",
    "from sqlalchemy import select\n",
    "\n",
    "# Check the name of every column in Tracks Table\n",
    "tracks = metadata.tables['tracks']\n",
    "# print([c.name for c in tracks.columns])\n",
    "\n",
    "# Select the First 3 Rows from Table\n",
    "query = select(tracks.c.Name)\n",
    "exe = conn.execute(query)\n",
    "result = exe.fetchmany(3)\n",
    "\n",
    "# Print the Tracks Row by Row\n",
    "for row in result:\n",
    "    print(row[0])\n",
    "\n",
    "# OR - Using Text Method\n",
    "query = text(\"\"\"\n",
    "SELECT Name FROM tracks LIMIT 3\n",
    "\"\"\")\n",
    "exe = conn.execute(query)\n",
    "\n",
    "result = exe.fetchall()\n",
    "for row in result:\n",
    "    print(row[0])\n",
    "\n"
   ]
  },
  {
   "cell_type": "markdown",
   "id": "73195107",
   "metadata": {},
   "source": [
    "# Exercise 4 : Albums from Tracks"
   ]
  },
  {
   "cell_type": "code",
   "execution_count": 94,
   "id": "b11b881b",
   "metadata": {},
   "outputs": [
    {
     "name": "stdout",
     "output_type": "stream",
     "text": [
      "For Those About To Rock (We Salute You) - For Those About To Rock We Salute You\n",
      "Put The Finger On You - For Those About To Rock We Salute You\n",
      "Let's Get It Up - For Those About To Rock We Salute You\n",
      "Inject The Venom - For Those About To Rock We Salute You\n",
      "Snowballed - For Those About To Rock We Salute You\n",
      "Evil Walks - For Those About To Rock We Salute You\n",
      "C.O.D. - For Those About To Rock We Salute You\n",
      "Breaking The Rules - For Those About To Rock We Salute You\n",
      "Night Of The Long Knives - For Those About To Rock We Salute You\n",
      "Spellbound - For Those About To Rock We Salute You\n",
      "Balls to the Wall - Balls to the Wall\n",
      "Fast As a Shark - Restless and Wild\n",
      "Restless and Wild - Restless and Wild\n",
      "Princess of the Dawn - Restless and Wild\n",
      "Go Down - Let There Be Rock\n",
      "Dog Eat Dog - Let There Be Rock\n",
      "Let There Be Rock - Let There Be Rock\n",
      "Bad Boy Boogie - Let There Be Rock\n",
      "Problem Child - Let There Be Rock\n",
      "Overdose - Let There Be Rock\n"
     ]
    }
   ],
   "source": [
    "# print out the track name and albums title of the first 20 tracks in the tracks table\n",
    "# create instance for albumns table\n",
    "albums = metadata.tables['albums']\n",
    "\n",
    "# Join the tables to be able to Retrieve the Album Title\n",
    "query = (\n",
    "    select(tracks.c.Name, albums.c.Title)\n",
    "    .select_from(tracks.join(albums, tracks.c.AlbumId == albums.c.AlbumId))\n",
    ")\n",
    "\n",
    "# Execute Query and Fetch the Result\n",
    "exe = conn.execute(query)\n",
    "result = exe.fetchmany(20)\n",
    "\n",
    "# Print the result row by row\n",
    "for row in result:\n",
    "    print(f\"{row[0]} - {row[1]}\")\n"
   ]
  },
  {
   "cell_type": "code",
   "execution_count": 95,
   "id": "87ba8c27",
   "metadata": {},
   "outputs": [
    {
     "name": "stdout",
     "output_type": "stream",
     "text": [
      "For Those About To Rock (We Salute You) - For Those About To Rock We Salute You\n",
      "Put The Finger On You - For Those About To Rock We Salute You\n",
      "Let's Get It Up - For Those About To Rock We Salute You\n",
      "Inject The Venom - For Those About To Rock We Salute You\n",
      "Snowballed - For Those About To Rock We Salute You\n",
      "Evil Walks - For Those About To Rock We Salute You\n",
      "C.O.D. - For Those About To Rock We Salute You\n",
      "Breaking The Rules - For Those About To Rock We Salute You\n",
      "Night Of The Long Knives - For Those About To Rock We Salute You\n",
      "Spellbound - For Those About To Rock We Salute You\n",
      "Balls to the Wall - Balls to the Wall\n",
      "Fast As a Shark - Restless and Wild\n",
      "Restless and Wild - Restless and Wild\n",
      "Princess of the Dawn - Restless and Wild\n",
      "Go Down - Let There Be Rock\n",
      "Dog Eat Dog - Let There Be Rock\n",
      "Let There Be Rock - Let There Be Rock\n",
      "Bad Boy Boogie - Let There Be Rock\n",
      "Problem Child - Let There Be Rock\n",
      "Overdose - Let There Be Rock\n"
     ]
    }
   ],
   "source": [
    "# Using Text Method\n",
    "query = text(\"\"\"\n",
    "             SELECT t.Name, a.Title\n",
    "             FROM tracks AS t\n",
    "             JOIN albums AS a\n",
    "             ON t.AlbumID == a.AlbumID\n",
    "             \"\"\")\n",
    "\n",
    "exe = conn.execute(query)\n",
    "result = exe.fetchmany(20)\n",
    "\n",
    "for row in result:\n",
    "    print(f\"{row[0]} - {row[1]}\")"
   ]
  },
  {
   "cell_type": "markdown",
   "id": "31de177e",
   "metadata": {},
   "source": [
    "# Exercise 5: Tracks sold"
   ]
  },
  {
   "cell_type": "code",
   "execution_count": 96,
   "id": "78bd7c1a",
   "metadata": {},
   "outputs": [
    {
     "name": "stdout",
     "output_type": "stream",
     "text": [
      "(1, 1, 2, 0.99, 1)\n",
      "(2, 1, 4, 0.99, 1)\n",
      "(3, 2, 6, 0.99, 1)\n",
      "(4, 2, 8, 0.99, 1)\n",
      "(5, 2, 10, 0.99, 1)\n",
      "(6, 2, 12, 0.99, 1)\n",
      "(7, 3, 16, 0.99, 1)\n",
      "(8, 3, 20, 0.99, 1)\n",
      "(9, 3, 24, 0.99, 1)\n",
      "(10, 3, 28, 0.99, 1)\n"
     ]
    }
   ],
   "source": [
    "# print out the first 10 track sales from the invoice_items table\n",
    "query = text(\"\"\"SELECT * FROM invoice_items LIMIT 10\"\"\")\n",
    "exe = conn.execute(query)\n",
    "result = exe.fetchall()\n",
    "\n",
    "for row in result:\n",
    "    print(row)"
   ]
  },
  {
   "cell_type": "code",
   "execution_count": 97,
   "id": "cb56e961",
   "metadata": {},
   "outputs": [
    {
     "name": "stdout",
     "output_type": "stream",
     "text": [
      "Track: Balls to the Wall\n",
      "Quantity: 1\n",
      "\n",
      "Track: Restless and Wild\n",
      "Quantity: 1\n",
      "\n",
      "Track: Put The Finger On You\n",
      "Quantity: 1\n",
      "\n",
      "Track: Inject The Venom\n",
      "Quantity: 1\n",
      "\n",
      "Track: Evil Walks\n",
      "Quantity: 1\n",
      "\n",
      "Track: Breaking The Rules\n",
      "Quantity: 1\n",
      "\n",
      "Track: Dog Eat Dog\n",
      "Quantity: 1\n",
      "\n",
      "Track: Overdose\n",
      "Quantity: 1\n",
      "\n",
      "Track: Love In An Elevator\n",
      "Quantity: 1\n",
      "\n",
      "Track: Janie's Got A Gun\n",
      "Quantity: 1\n",
      "\n"
     ]
    }
   ],
   "source": [
    "# Print the Names of the Track Sold and the Quantity Sold\n",
    "query = text(\"\"\"\n",
    "SELECT tracks.Name, invoice_items.Quantity\n",
    "FROM invoice_items\n",
    "JOIN tracks\n",
    "ON tracks.TrackId = invoice_items.TrackId\n",
    "\"\"\")\n",
    "\n",
    "# Execute Above Query\n",
    "exe = conn.execute(query)\n",
    "result = exe.fetchmany(10)\n",
    "\n",
    "# Print Out the Result\n",
    "for row in result:\n",
    "    print(f\"Track: {row[0]}\\nQuantity: {row[1]}\\n\")\n"
   ]
  },
  {
   "cell_type": "markdown",
   "id": "45a54582",
   "metadata": {},
   "source": [
    "# Exercise 6 : Top tracks sold"
   ]
  },
  {
   "cell_type": "code",
   "execution_count": 98,
   "id": "2868e1aa",
   "metadata": {},
   "outputs": [
    {
     "name": "stdout",
     "output_type": "stream",
     "text": [
      "Track: Balls to the Wall - Quantity Sold: 2\n",
      "Track: Inject The Venom - Quantity Sold: 2\n",
      "Track: Snowballed - Quantity Sold: 2\n",
      "Track: Overdose - Quantity Sold: 2\n",
      "Track: Deuces Are Wild - Quantity Sold: 2\n",
      "Track: Not The Doctor - Quantity Sold: 2\n",
      "Track: Por Causa De Você - Quantity Sold: 2\n",
      "Track: Welcome Home (Sanitarium) - Quantity Sold: 2\n",
      "Track: Snowblind - Quantity Sold: 2\n",
      "Track: Cornucopia - Quantity Sold: 2\n"
     ]
    }
   ],
   "source": [
    "# print the names of top 10 tracks sold, and how many they times they were sold\n",
    "query = text(\"\"\"\n",
    "SELECT t.Name, sum(i.Quantity) AS QuantitySold\n",
    "FROM invoice_items AS i\n",
    "JOIN tracks as t\n",
    "ON i.TrackID = t.TrackID\n",
    "GROUP BY i.TrackID, t.Name\n",
    "ORDER BY QuantitySold DESC\n",
    "\"\"\")\n",
    "\n",
    "exe = conn.execute(query)\n",
    "result = exe.fetchmany(10)\n",
    "\n",
    "for row in result:\n",
    "    print(f\"Track: {row[0]} - Quantity Sold: {row[1]}\")\n"
   ]
  },
  {
   "cell_type": "markdown",
   "id": "f6a01687",
   "metadata": {},
   "source": [
    "# Exercise 7: Exercise 7 : Top selling artists"
   ]
  },
  {
   "cell_type": "code",
   "execution_count": 99,
   "id": "4c9c5212",
   "metadata": {},
   "outputs": [
    {
     "name": "stdout",
     "output_type": "stream",
     "text": [
      "Artist: Iron Maiden\n",
      "Total Sales: $138.60\n",
      "\n",
      "Artist: U2\n",
      "Total Sales: $105.93\n",
      "\n",
      "Artist: Metallica\n",
      "Total Sales: $90.09\n",
      "\n",
      "Artist: Led Zeppelin\n",
      "Total Sales: $86.13\n",
      "\n",
      "Artist: Lost\n",
      "Total Sales: $81.59\n",
      "\n",
      "Artist: The Office\n",
      "Total Sales: $49.75\n",
      "\n",
      "Artist: Os Paralamas Do Sucesso\n",
      "Total Sales: $44.55\n",
      "\n",
      "Artist: Deep Purple\n",
      "Total Sales: $43.56\n",
      "\n",
      "Artist: Faith No More\n",
      "Total Sales: $41.58\n",
      "\n",
      "Artist: Eric Clapton\n",
      "Total Sales: $39.60\n",
      "\n"
     ]
    }
   ],
   "source": [
    "# Who are the top 10 highest selling artists?\n",
    "query = text(\"\"\"\n",
    "SELECT a.Name, SUM(i.Quantity * i.UnitPrice) AS Sales\n",
    "FROM invoice_items AS i\n",
    "JOIN tracks AS t ON i.TrackID = t.TrackID\n",
    "JOIN albums AS al ON t.AlbumID = al.AlbumId\n",
    "JOIN artists AS a ON al.ArtistID = a.ArtistID\n",
    "GROUP BY a.Name\n",
    "ORDER BY Sales DESC\n",
    "\"\"\")\n",
    "\n",
    "exe = conn.execute(query)\n",
    "result = exe.fetchmany(10)\n",
    "\n",
    "for row in result:\n",
    "    print(f\"Artist: {row[0]}\\nTotal Sales: ${row[1]:.2f}\\n\")"
   ]
  }
 ],
 "metadata": {
  "kernelspec": {
   "display_name": "jupyter_env",
   "language": "python",
   "name": "python3"
  },
  "language_info": {
   "codemirror_mode": {
    "name": "ipython",
    "version": 3
   },
   "file_extension": ".py",
   "mimetype": "text/x-python",
   "name": "python",
   "nbconvert_exporter": "python",
   "pygments_lexer": "ipython3",
   "version": "3.12.11"
  }
 },
 "nbformat": 4,
 "nbformat_minor": 5
}
