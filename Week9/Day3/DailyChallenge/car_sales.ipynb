{
 "cells": [
  {
   "cell_type": "code",
   "execution_count": 50,
   "id": "9d733fea",
   "metadata": {},
   "outputs": [],
   "source": [
    "import numpy as np # linear algebra\n",
    "import pandas as pd # data manipulation and analysis\n",
    "import matplotlib.pyplot as plt # data visualization\n",
    "import seaborn as sns # data visualization\n",
    "sns.set_style('whitegrid') # set style for visualization\n",
    "import warnings # ignore warnings\n",
    "warnings.filterwarnings('ignore')\n",
    "import requests, zipfile, io\n",
    "from sklearn.impute import KNNImputer"
   ]
  },
  {
   "cell_type": "markdown",
   "id": "adfa494b",
   "metadata": {},
   "source": [
    "# Loading Dataset"
   ]
  },
  {
   "cell_type": "code",
   "execution_count": 51,
   "id": "444e14dc",
   "metadata": {},
   "outputs": [],
   "source": [
    "# Download and Unzip the Dataset\n",
    "url = \"https://github.com/devtlv/Datasets-DA-Bootcamp-2-/raw/refs/heads/main/Week%205%20-%20Data%20Processing/W5D4%20-%20Mini-project/US%20Cars%20Dataset.zip\"\n",
    "\n",
    "r = requests.get(url)\n",
    "z = zipfile.ZipFile(io.BytesIO(r.content))\n",
    "z.extractall(\"data\")"
   ]
  },
  {
   "cell_type": "code",
   "execution_count": 52,
   "id": "5a3372fa",
   "metadata": {},
   "outputs": [
    {
     "name": "stdout",
     "output_type": "stream",
     "text": [
      "<class 'pandas.core.frame.DataFrame'>\n",
      "RangeIndex: 2499 entries, 0 to 2498\n",
      "Data columns (total 13 columns):\n",
      " #   Column        Non-Null Count  Dtype  \n",
      "---  ------        --------------  -----  \n",
      " 0   Unnamed: 0    2499 non-null   int64  \n",
      " 1   price         2499 non-null   int64  \n",
      " 2   brand         2499 non-null   object \n",
      " 3   model         2499 non-null   object \n",
      " 4   year          2499 non-null   int64  \n",
      " 5   title_status  2499 non-null   object \n",
      " 6   mileage       2499 non-null   float64\n",
      " 7   color         2499 non-null   object \n",
      " 8   vin           2499 non-null   object \n",
      " 9   lot           2499 non-null   int64  \n",
      " 10  state         2499 non-null   object \n",
      " 11  country       2499 non-null   object \n",
      " 12  condition     2499 non-null   object \n",
      "dtypes: float64(1), int64(4), object(8)\n",
      "memory usage: 253.9+ KB\n",
      "None    Unnamed: 0  price      brand    model  year   title_status   mileage  \\\n",
      "0           0   6300     toyota  cruiser  2008  clean vehicle  274117.0   \n",
      "1           1   2899       ford       se  2011  clean vehicle  190552.0   \n",
      "2           2   5350      dodge      mpv  2018  clean vehicle   39590.0   \n",
      "3           3  25000       ford     door  2014  clean vehicle   64146.0   \n",
      "4           4  27700  chevrolet     1500  2018  clean vehicle    6654.0   \n",
      "\n",
      "    color                  vin        lot       state country      condition  \n",
      "0   black    jtezu11f88k007763  159348797  new jersey     usa   10 days left  \n",
      "1  silver    2fmdk3gc4bbb02217  166951262   tennessee     usa    6 days left  \n",
      "2  silver    3c4pdcgg5jt346413  167655728     georgia     usa    2 days left  \n",
      "3    blue    1ftfw1et4efc23745  167753855    virginia     usa  22 hours left  \n",
      "4     red    3gcpcrec2jg473991  167763266     florida     usa  22 hours left  \n"
     ]
    }
   ],
   "source": [
    "# Loading Set into a Dataframe\n",
    "df = pd.read_csv(r'C:\\Repositories\\DI-Bootcamp\\Week9\\Day3\\DailyChallenge\\data\\USA_cars_datasets.csv')\n",
    "print(df.info(), df.head())"
   ]
  },
  {
   "cell_type": "code",
   "execution_count": 53,
   "id": "b1e8286d",
   "metadata": {},
   "outputs": [
    {
     "data": {
      "text/html": [
       "<div>\n",
       "<style scoped>\n",
       "    .dataframe tbody tr th:only-of-type {\n",
       "        vertical-align: middle;\n",
       "    }\n",
       "\n",
       "    .dataframe tbody tr th {\n",
       "        vertical-align: top;\n",
       "    }\n",
       "\n",
       "    .dataframe thead th {\n",
       "        text-align: right;\n",
       "    }\n",
       "</style>\n",
       "<table border=\"1\" class=\"dataframe\">\n",
       "  <thead>\n",
       "    <tr style=\"text-align: right;\">\n",
       "      <th></th>\n",
       "      <th>Unnamed: 0</th>\n",
       "      <th>price</th>\n",
       "      <th>year</th>\n",
       "      <th>mileage</th>\n",
       "      <th>lot</th>\n",
       "    </tr>\n",
       "  </thead>\n",
       "  <tbody>\n",
       "    <tr>\n",
       "      <th>count</th>\n",
       "      <td>2499.000000</td>\n",
       "      <td>2499.000000</td>\n",
       "      <td>2499.000000</td>\n",
       "      <td>2.499000e+03</td>\n",
       "      <td>2.499000e+03</td>\n",
       "    </tr>\n",
       "    <tr>\n",
       "      <th>mean</th>\n",
       "      <td>1249.000000</td>\n",
       "      <td>18767.671469</td>\n",
       "      <td>2016.714286</td>\n",
       "      <td>5.229869e+04</td>\n",
       "      <td>1.676914e+08</td>\n",
       "    </tr>\n",
       "    <tr>\n",
       "      <th>std</th>\n",
       "      <td>721.543484</td>\n",
       "      <td>12116.094936</td>\n",
       "      <td>3.442656</td>\n",
       "      <td>5.970552e+04</td>\n",
       "      <td>2.038772e+05</td>\n",
       "    </tr>\n",
       "    <tr>\n",
       "      <th>min</th>\n",
       "      <td>0.000000</td>\n",
       "      <td>0.000000</td>\n",
       "      <td>1973.000000</td>\n",
       "      <td>0.000000e+00</td>\n",
       "      <td>1.593488e+08</td>\n",
       "    </tr>\n",
       "    <tr>\n",
       "      <th>25%</th>\n",
       "      <td>624.500000</td>\n",
       "      <td>10200.000000</td>\n",
       "      <td>2016.000000</td>\n",
       "      <td>2.146650e+04</td>\n",
       "      <td>1.676253e+08</td>\n",
       "    </tr>\n",
       "    <tr>\n",
       "      <th>50%</th>\n",
       "      <td>1249.000000</td>\n",
       "      <td>16900.000000</td>\n",
       "      <td>2018.000000</td>\n",
       "      <td>3.536500e+04</td>\n",
       "      <td>1.677451e+08</td>\n",
       "    </tr>\n",
       "    <tr>\n",
       "      <th>75%</th>\n",
       "      <td>1873.500000</td>\n",
       "      <td>25555.500000</td>\n",
       "      <td>2019.000000</td>\n",
       "      <td>6.347250e+04</td>\n",
       "      <td>1.677798e+08</td>\n",
       "    </tr>\n",
       "    <tr>\n",
       "      <th>max</th>\n",
       "      <td>2498.000000</td>\n",
       "      <td>84900.000000</td>\n",
       "      <td>2020.000000</td>\n",
       "      <td>1.017936e+06</td>\n",
       "      <td>1.678055e+08</td>\n",
       "    </tr>\n",
       "  </tbody>\n",
       "</table>\n",
       "</div>"
      ],
      "text/plain": [
       "        Unnamed: 0         price         year       mileage           lot\n",
       "count  2499.000000   2499.000000  2499.000000  2.499000e+03  2.499000e+03\n",
       "mean   1249.000000  18767.671469  2016.714286  5.229869e+04  1.676914e+08\n",
       "std     721.543484  12116.094936     3.442656  5.970552e+04  2.038772e+05\n",
       "min       0.000000      0.000000  1973.000000  0.000000e+00  1.593488e+08\n",
       "25%     624.500000  10200.000000  2016.000000  2.146650e+04  1.676253e+08\n",
       "50%    1249.000000  16900.000000  2018.000000  3.536500e+04  1.677451e+08\n",
       "75%    1873.500000  25555.500000  2019.000000  6.347250e+04  1.677798e+08\n",
       "max    2498.000000  84900.000000  2020.000000  1.017936e+06  1.678055e+08"
      ]
     },
     "execution_count": 53,
     "metadata": {},
     "output_type": "execute_result"
    }
   ],
   "source": [
    "# Understanding Numeric Columns\n",
    "df.describe()"
   ]
  },
  {
   "cell_type": "code",
   "execution_count": 54,
   "id": "e3a19933",
   "metadata": {},
   "outputs": [
    {
     "name": "stdout",
     "output_type": "stream",
     "text": [
      "brand\n",
      "ford               1235\n",
      "dodge               432\n",
      "nissan              312\n",
      "chevrolet           297\n",
      "gmc                  42\n",
      "jeep                 30\n",
      "chrysler             18\n",
      "bmw                  17\n",
      "hyundai              15\n",
      "buick                13\n",
      "kia                  13\n",
      "infiniti             12\n",
      "honda                12\n",
      "mercedes-benz        10\n",
      "cadillac             10\n",
      "heartland             5\n",
      "audi                  4\n",
      "land                  4\n",
      "peterbilt             4\n",
      "acura                 3\n",
      "mazda                 2\n",
      "lexus                 2\n",
      "lincoln               2\n",
      "toyota                1\n",
      "harley-davidson       1\n",
      "jaguar                1\n",
      "maserati              1\n",
      "ram                   1\n",
      "Name: count, dtype: int64 \n",
      "\n",
      "model\n",
      "door       651\n",
      "f-150      219\n",
      "doors      148\n",
      "caravan    102\n",
      "mpv         87\n",
      "          ... \n",
      "juke         1\n",
      "xterra       1\n",
      "kicks        1\n",
      "xd           1\n",
      "nvp          1\n",
      "Name: count, Length: 127, dtype: int64 \n",
      "\n",
      "title_status\n",
      "clean vehicle        2336\n",
      "salvage insurance     163\n",
      "Name: count, dtype: int64 \n",
      "\n",
      "color\n",
      "white                                      707\n",
      "black                                      516\n",
      "gray                                       395\n",
      "silver                                     300\n",
      "red                                        192\n",
      "blue                                       151\n",
      "no_color                                    61\n",
      "green                                       24\n",
      "orange                                      20\n",
      "gold                                        19\n",
      "charcoal                                    18\n",
      "brown                                       15\n",
      "yellow                                       9\n",
      "magnetic metallic                            6\n",
      "shadow black                                 5\n",
      "color:                                       5\n",
      "beige                                        5\n",
      "ingot silver metallic                        4\n",
      "oxford white                                 4\n",
      "billet silver metallic clearcoat             3\n",
      "triple yellow tri-coat                       3\n",
      "super black                                  3\n",
      "off-white                                    2\n",
      "ruby red metallic tinted clearcoat           2\n",
      "cayenne red                                  2\n",
      "white platinum tri-coat metallic             2\n",
      "tuxedo black metallic                        2\n",
      "black clearcoat                              2\n",
      "bright white clearcoat                       2\n",
      "phantom black                                1\n",
      "maroon                                       1\n",
      "dark blue                                    1\n",
      "turquoise                                    1\n",
      "purple                                       1\n",
      "competition orange                           1\n",
      "toreador red                                 1\n",
      "jazz blue pearlcoat                          1\n",
      "light blue                                   1\n",
      "kona blue metallic                           1\n",
      "royal crimson metallic tinted clearcoat      1\n",
      "ruby red                                     1\n",
      "guard                                        1\n",
      "ingot silver                                 1\n",
      "lightning blue                               1\n",
      "tan                                          1\n",
      "burgundy                                     1\n",
      "morningsky blue                              1\n",
      "pearl white                                  1\n",
      "glacier white                                1\n",
      "Name: count, dtype: int64 \n",
      "\n",
      "vin\n",
      "1gndt13s632267445    2\n",
      "1g1al58f787159241    2\n",
      "3gcrkse37ag234620    2\n",
      "1gnevhkw8jj148388    2\n",
      "3n1cn7ap4jl884311    1\n",
      "                    ..\n",
      "5xypg4a59lg616029    1\n",
      "1g4ps5sk1e4188639    1\n",
      "1fadp5auxhl109013    1\n",
      "1fdwf37r28eb95687    1\n",
      "1gks2gkc6hr328389    1\n",
      "Name: count, Length: 2495, dtype: int64 \n",
      "\n",
      "state\n",
      "pennsylvania      299\n",
      "florida           246\n",
      "texas             214\n",
      "california        190\n",
      "michigan          169\n",
      "north carolina    146\n",
      "minnesota         119\n",
      "illinois          113\n",
      "wisconsin          94\n",
      "virginia           90\n",
      "new jersey         87\n",
      "nevada             85\n",
      "oklahoma           71\n",
      "south carolina     64\n",
      "new york           58\n",
      "georgia            51\n",
      "missouri           46\n",
      "arizona            33\n",
      "ohio               31\n",
      "oregon             27\n",
      "massachusetts      27\n",
      "tennessee          26\n",
      "connecticut        25\n",
      "mississippi        24\n",
      "colorado           21\n",
      "west virginia      21\n",
      "alabama            17\n",
      "washington         14\n",
      "indiana            14\n",
      "arkansas           12\n",
      "louisiana          11\n",
      "utah               10\n",
      "kentucky            9\n",
      "ontario             7\n",
      "nebraska            4\n",
      "kansas              4\n",
      "new mexico          4\n",
      "maryland            4\n",
      "new hampshire       4\n",
      "rhode island        2\n",
      "vermont             2\n",
      "idaho               2\n",
      "wyoming             1\n",
      "montana             1\n",
      "Name: count, dtype: int64 \n",
      "\n",
      "country\n",
      "usa       2492\n",
      "canada       7\n",
      "Name: count, dtype: int64 \n",
      "\n",
      "condition\n",
      "2 days left        832\n",
      "21 hours left      492\n",
      "3 days left        137\n",
      "14 hours left      108\n",
      "1 days left         91\n",
      "8 days left         82\n",
      "17 hours left       76\n",
      "20 hours left       67\n",
      "9 days left         58\n",
      "22 hours left       57\n",
      "6 days left         52\n",
      "18 hours left       48\n",
      "19 hours left       45\n",
      "7 days left         43\n",
      "11 days left        42\n",
      "16 hours left       36\n",
      "2 hours left        26\n",
      "10 days left        23\n",
      "Listing Expired     20\n",
      "29 minutes          18\n",
      "4 days left         16\n",
      "23 hours left       16\n",
      "5 hours left        16\n",
      "1 minutes           15\n",
      "6 hours left        12\n",
      "24 hours left        9\n",
      "15 hours left        8\n",
      "12 days left         8\n",
      "34 minutes           7\n",
      "7 hours left         7\n",
      "5 days left          6\n",
      "15 days left         4\n",
      "9 minutes            3\n",
      "1 hours left         3\n",
      "3 hours left         2\n",
      "47 minutes           2\n",
      "48 minutes           2\n",
      "16 minutes           1\n",
      "32 minutes           1\n",
      "30 minutes           1\n",
      "27 minutes           1\n",
      "13 days left         1\n",
      "53 minutes           1\n",
      "28 minutes           1\n",
      "4 hours left         1\n",
      "12 hours left        1\n",
      "36 minutes           1\n",
      "Name: count, dtype: int64 \n",
      "\n"
     ]
    }
   ],
   "source": [
    "# Understanding Categorical Columns\n",
    "categorical_df = df.select_dtypes(exclude=['number'])\n",
    "\n",
    "for col in categorical_df:\n",
    "    print(categorical_df[col].value_counts(), '\\n')"
   ]
  },
  {
   "cell_type": "markdown",
   "id": "65f77171",
   "metadata": {},
   "source": [
    "# Cleaning and Preprocessing"
   ]
  },
  {
   "cell_type": "code",
   "execution_count": 55,
   "id": "1d554d67",
   "metadata": {},
   "outputs": [
    {
     "name": "stdout",
     "output_type": "stream",
     "text": [
      "<class 'pandas.core.frame.DataFrame'>\n",
      "RangeIndex: 2499 entries, 0 to 2498\n",
      "Data columns (total 12 columns):\n",
      " #   Column        Non-Null Count  Dtype  \n",
      "---  ------        --------------  -----  \n",
      " 0   price         2499 non-null   int64  \n",
      " 1   brand         2499 non-null   object \n",
      " 2   model         2499 non-null   object \n",
      " 3   year          2499 non-null   int64  \n",
      " 4   title_status  2499 non-null   object \n",
      " 5   mileage       2499 non-null   float64\n",
      " 6   color         2499 non-null   object \n",
      " 7   vin           2499 non-null   object \n",
      " 8   lot           2499 non-null   int64  \n",
      " 9   state         2499 non-null   object \n",
      " 10  country       2499 non-null   object \n",
      " 11  condition     2499 non-null   object \n",
      "dtypes: float64(1), int64(3), object(8)\n",
      "memory usage: 234.4+ KB\n"
     ]
    }
   ],
   "source": [
    "# Dropping Unecessary Columns\n",
    "df = df.drop(columns=['Unnamed: 0'])\n",
    "df.info()"
   ]
  },
  {
   "cell_type": "code",
   "execution_count": null,
   "id": "7bc656ea",
   "metadata": {},
   "outputs": [
    {
     "data": {
      "text/plain": [
       "color\n",
       "white                                      707\n",
       "black                                      516\n",
       "gray                                       395\n",
       "silver                                     300\n",
       "red                                        192\n",
       "blue                                       151\n",
       "no_color                                    66\n",
       "green                                       24\n",
       "orange                                      20\n",
       "gold                                        19\n",
       "charcoal                                    18\n",
       "brown                                       15\n",
       "yellow                                       9\n",
       "magnetic metallic                            6\n",
       "beige                                        5\n",
       "shadow black                                 5\n",
       "oxford white                                 4\n",
       "ingot silver metallic                        4\n",
       "super black                                  3\n",
       "triple yellow tri-coat                       3\n",
       "billet silver metallic clearcoat             3\n",
       "ruby red metallic tinted clearcoat           2\n",
       "bright white clearcoat                       2\n",
       "off-white                                    2\n",
       "white platinum tri-coat metallic             2\n",
       "tuxedo black metallic                        2\n",
       "black clearcoat                              2\n",
       "cayenne red                                  2\n",
       "maroon                                       1\n",
       "dark blue                                    1\n",
       "turquoise                                    1\n",
       "light blue                                   1\n",
       "purple                                       1\n",
       "competition orange                           1\n",
       "phantom black                                1\n",
       "jazz blue pearlcoat                          1\n",
       "toreador red                                 1\n",
       "kona blue metallic                           1\n",
       "royal crimson metallic tinted clearcoat      1\n",
       "ruby red                                     1\n",
       "guard                                        1\n",
       "ingot silver                                 1\n",
       "lightning blue                               1\n",
       "tan                                          1\n",
       "burgundy                                     1\n",
       "morningsky blue                              1\n",
       "pearl white                                  1\n",
       "glacier white                                1\n",
       "Name: count, dtype: int64"
      ]
     },
     "execution_count": 56,
     "metadata": {},
     "output_type": "execute_result"
    }
   ],
   "source": [
    "# Colors Column\n",
    "# During EDA there were a few weird values, use the condition to find the index of these entries\n",
    "no_colors = df[df['color'] == 'color:'].index\n",
    "\n",
    "# Change the value in 'color' column to no color, depnding on the indexes\n",
    "df.loc[no_colors, 'color'] = 'no_color'\n",
    "\n",
    "df['color'].value_counts()"
   ]
  },
  {
   "cell_type": "code",
   "execution_count": 57,
   "id": "0cf19d96",
   "metadata": {},
   "outputs": [
    {
     "data": {
      "text/plain": [
       "simple_condition\n",
       "Days Left       1395\n",
       "Hours Left      1030\n",
       "Minutes Left      54\n",
       "Expired           20\n",
       "Name: count, dtype: int64"
      ]
     },
     "execution_count": 57,
     "metadata": {},
     "output_type": "execute_result"
    }
   ],
   "source": [
    "# Condition Column\n",
    "# Group less common values\n",
    "def simplify_condition(condition):\n",
    "    if pd.isna(condition):\n",
    "        return 'Unknown'\n",
    "    elif 'Expired' in str(condition):\n",
    "        return 'Expired'\n",
    "    elif 'days left' in str(condition):\n",
    "        return 'Days Left'\n",
    "    elif 'hours left' in str(condition):\n",
    "        return 'Hours Left'\n",
    "    elif 'minutes' in str(condition):\n",
    "        return 'Minutes Left'\n",
    "    else:\n",
    "        return 'Other'\n",
    "    \n",
    "df['simple_condition'] = df['condition'].apply(simplify_condition)\n",
    "\n",
    "df['simple_condition'].value_counts()"
   ]
  },
  {
   "cell_type": "markdown",
   "id": "3bdabf5b",
   "metadata": {},
   "source": [
    "# Visual Analysis"
   ]
  },
  {
   "cell_type": "code",
   "execution_count": 58,
   "id": "7690a926",
   "metadata": {},
   "outputs": [
    {
     "data": {
      "image/png": "[encoded data removed]",
      "text/plain": [
       "<Figure size 1000x600 with 1 Axes>"
      ]
     },
     "metadata": {},
     "output_type": "display_data"
    }
   ],
   "source": [
    "# Visualizing Price Distribution\n",
    "plt.figure(figsize=(10,6))\n",
    "sns.histplot(df, x='price', kde=True)\n",
    "plt.show()\n"
   ]
  },
  {
   "cell_type": "code",
   "execution_count": 59,
   "id": "968a6ec0",
   "metadata": {},
   "outputs": [
    {
     "data": {
      "image/png": "[encoded data removed]",
      "text/plain": [
       "<Figure size 640x480 with 1 Axes>"
      ]
     },
     "metadata": {},
     "output_type": "display_data"
    }
   ],
   "source": [
    "# Create a box plot showing price distribution by brand (top 10 brands)\n",
    "# Determine Top 10 Brands\n",
    "top_10_brands = df['brand'].value_counts().head(10)\n",
    "\n",
    "# Filter DF to Only include these brands\n",
    "df_10 = df[df['brand'].isin(top_10_brands.index)]\n",
    "\n",
    "# Create Box Plot\n",
    "sns.boxplot(df_10, x='price', y='brand', orient='h', palette='Set2')\n",
    "plt.show()\n"
   ]
  },
  {
   "cell_type": "code",
   "execution_count": 61,
   "id": "d10c2cda",
   "metadata": {},
   "outputs": [
    {
     "data": {
      "application/vnd.plotly.v1+json": {
       "config": {
        "plotlyServerURL": "https://plot.ly"
       },
       "data": [
        {
         "hovertemplate": "simple_condition=Days Left<br>price=%{x}<br>mileage=%{y}<extra></extra>",
         "legendgroup": "Days Left",
         "marker": {
          "color": "#636efa",
          "symbol": "circle"
         },
         "mode": "markers",
         "name": "Days Left",
         "showlegend": true,
         "type": "scattergl",
         "x": {
          "bdata": "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",
          "dtype": "i4"
         },
         "xaxis": "x",
         "y": {
          "bdata": "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",
          "dtype": "f8"
         },
         "yaxis": "y"
        },
        {
         "hovertemplate": "simple_condition=Hours Left<br>price=%{x}<br>mileage=%{y}<extra></extra>",
         "legendgroup": "Hours Left",
         "marker": {
          "color": "#EF553B",
          "symbol": "circle"
         },
         "mode": "markers",
         "name": "Hours Left",
         "showlegend": true,
         "type": "scattergl",
         "x": {
          "bdata": "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",
          "dtype": "i4"
         },
         "xaxis": "x",
         "y": {
          "bdata": "AAAAAEBS70AAAAAAAP65QAAAAADQMQJBAAAAAED51kAAAAAAgE3CQAAAAAAAVfpAAAAAAEBc40AAAAAAQF/WQAAAAABQmfhAAAAAAMAk2UAAAAAAgIjTQAAAAACAjepAAAAAAIBo3UAAAAAAYML5QAAAAAAAYttAAAAAACDg9kAAAAAAAL/ZQAAAAADwkfFAAAAAAECS5kAAAAAAILjsQAAAAABAT9tAAAAAALAT+0AAAAAAAPyiQAAAAAC4jQVBAAAAAEBY3UAAAAAA8Ov3QAAAAACAut1AAAAAAABL3EAAAAAAgPvRQAAAAADAeeNAAAAAAMBa30AAAAAAANPkQAAAAACgH+NAAAAAAEDX4kAAAAAAgDDbQAAAAABgmulAAAAAAECw2EAAAAAAAL7fQAAAAAAAMOFAAAAAACD+4EAAAAAAQEjeQAAAAABANddAAAAAAOAt4EAAAAAAAOvdQAAAAACA1thAAAAAAABo5EAAAAAAAD7fQAAAAADAuttAAAAAACBW4EAAAAAAgPfIQAAAAABAaNhAAAAAAMCS0EAAAAAAAJ/WQAAAAABA59RAAAAAAECr0kAAAAAAACvoQAAAAABgAOFAAAAAAMCk20AAAAAAwPHRQAAAAADAeudAAAAAAGAh7EAAAAAAoB/nQAAAAABA8tdAAAAAAIB0z0AAAAAAIBLtQAAAAADA9upAAAAAAMAM4EAAAAAA4GDjQAAAAACg/eZAAAAAAAB430AAAAAAoAvpQAAAAACg/eRAAAAAAKCU4EAAAAAAQGHTQAAAAADA/+JAAAAAAODz4UAAAAAAgEnsQAAAAAAA99JAAAAAAFDT9kAAAAAAgHPUQAAAAACgMvVAAAAAAGBb5kAAAAAAoMnoQAAAAADApu5AAAAAAGCi8kAAAAAAoA7jQAAAAABQy/FAAAAAAGCw5kAAAAAAAFe6QAAAAABAXeBAAAAAAAC+30AAAAAAYPTyQAAAAADA3OlAAAAAAECX10AAAAAAIBjpQAAAAACgUOFAAAAAACBl40AAAAAAkIDyQAAAAAAAa+BAAAAAAOBj80AAAAAAACvcQAAAAACA/+1AAAAAAOB37EAAAAAAoCLgQAAAAACAldFAAAAAALAd/kAAAAAAKH0AQQAAAADw5BJBAAAAAACz+kAAAAAAEIjxQAAAAAB41QpBAAAAAECN5EAAAAAAYGHtQAAAAACgV+ZAAAAAACD1/kAAAAAAsCbxQAAAAADgk+tAAAAAAHjQBUEAAAAA6CwFQQAAAABQiftAAAAAAKCg80AAAAAAkFAHQQAAAAAg6gdBAAAAAKB+C0EAAAAAkPn6QAAAAADoAABBAAAAAFhWAUEAAAAAAGDFQAAAAABA9NpAAAAAAAArz0AAAAAAwH7fQAAAAABANNlAAAAAAEDt2UAAAAAAgJgDQQAAAACQgv5AAAAAAAD3zkAAAAAAQK7rQAAAAACA5MNAAAAAAFCy/EAAAAAAOJIPQQAAAACAGNBAAAAAAOBs4UAAAAAAAKECQQAAAADAfdFAAAAAAIDH1EAAAAAAoBTnQAAAAAAwAgVBAAAAAIBI2kAAAAAAoDbzQAAAAAAgfeRAAAAAAED43kAAAAAAAAAAAAAAAACIwwdBAAAAAKzfE0EAAAAAgMXoQAAAAAA4zwZBAAAAAEDz9kAAAAAAANXpQAAAAACgd+VAAAAAADCU/EAAAAAAKDYCQQAAAABgY/tAAAAAAAAAAAAAAAAACNEIQQAAAACgfeFAAAAAAMDY30AAAAAAwLH5QAAAAACABgRBAAAAAHAeEkEAAAAAsMwIQQAAAACwMvFAAAAAAEDN0UAAAAAAkGf1QAAAAACg9+RAAAAAAFB9+UAAAAAAQOzrQAAAAACg7QxBAAAAAAA07UAAAAAAQDLUQAAAAABwxgBBAAAAAMAC6kAAAAAAwI7aQAAAAABAXNRAAAAAABBxA0EAAAAAMHHwQAAAAADIkQZBAAAAAICp/EAAAAAAwFbnQAAAAADwDwxBAAAAAIAI00AAAAAAAELlQAAAAAAADPZAAAAAADgJAEEAAAAAgKjeQAAAAABAU9lAAAAAAPC08UAAAAAAAI/CQAAAAADA1tBAAAAAAMBu8UAAAAAAgKvdQAAAAADo5QVBAAAAAIA260AAAAAA1E8SQQAAAADgtAtBAAAAACBN5EAAAAAAANz+QAAAAABwqAVBAAAAAECi1kAAAAAAwAXVQAAAAAB4HwJBAAAAAEA0BkEAAAAAmCEBQQAAAACAKNpAAAAAAGDw4UAAAAAAAM/kQAAAAABwkvVAAAAAAGB04UAAAAAAGGMEQQAAAADAo/lAAAAAAICTxUAAAAAAcJPxQAAAAADAXNxAAAAAAACc4UAAAAAAAHwQQQAAAAAAcPxAAAAAAECZ8UAAAAAAkA0SQQAAAAAYEgJBAAAAAABCxkAAAAAAgIHnQAAAAACgBeFAAAAAACBcEEEAAAAAcNz7QAAAAACAzNpAAAAAAMCsAUEAAAAAAEHGQAAAAACgueJAAAAAAIBv3UAAAAAA6FgQQQAAAABA1+VAAAAAAMCT9kAAAAAAgBjZQAAAAABQ8wJBAAAAAICH6kAAAAAA8Br9QAAAAAAAEuVAAAAAAMDB4EAAAAAA8I31QAAAAADgwPlAAAAAAIBi00AAAAAAcHP8QAAAAACAWfVAAAAAAACA30AAAAAAMocrQQAAAADAqdhAAAAAAHguBEEAAAAAkM/8QAAAAAAw9/tAAAAAAGDVDkEAAAAAgN7hQAAAAAAAAAAAAAAAAEC13UAAAAAA0HgAQQAAAADYjwBBAAAAAJAz9UAAAAAAkOb1QAAAAADAVuRAAAAAAKz7LUEAAAAAgDTfQAAAAAAwAgVBAAAAAEgoBUEAAAAAWMIBQQAAAAAAPuNAAAAAAKAQL0EAAAAA4GfgQAAAAACIwwdBAAAAAEQBH0EAAAAA+LMGQQAAAAAAzNtAAAAAAGjrAkEAAAAAsHz0QAAAAABAruNAAAAAACg2AkEAAAAAOEECQQAAAABg//BAAAAAAOC44UAAAAAAAAAAAAAAAAAgjOVAAAAAAMA/+0AAAAAAYDbhQAAAAAAAh85AAAAAAADhzEAAAAAAgNDNQAAAAACAaM5AAAAAAED56UAAAAAAADvRQAAAAADwVPRAAAAAAAA20EAAAAAAMFz6QAAAAABAYtFAAAAAANBK/UAAAAAA8CHwQAAAAABAddJAAAAAAECp1EAAAAAAQDzdQAAAAAAAkexAAAAAAIC/1kAAAAAAwDHTQAAAAAAAO8hAAAAAAECO0UAAAAAAgEbPQAAAAAAAF8xAAAAAAADewkAAAAAAgPPOQAAAAADAmNVAAAAAAAAex0AAAAAAAOnYQAAAAAAAxdFAAAAAAIDfyEAAAAAAABbqQAAAAAAAhdFAAAAAAKAg4kAAAAAAQKDQQAAAAACAZOJAAAAAAIDezkAAAAAAIF7lQAAAAAAAJ8ZAAAAAAABq4UAAAAAAAPbIQAAAAABAx+JAAAAAAIDO4EAAAAAAILTmQAAAAAAAxdRAAAAAAEBN3kAAAAAAwPXjQAAAAAAAG+BAAAAAACBv8kAAAAAA4IHjQAAAAADA8tJAAAAAAHB88EAAAAAAgGbgQAAAAACAu8NAAAAAAIDa2UAAAAAAoKfjQAAAAAAAWeNAAAAAACDI50AAAAAAMEr2QAAAAAAAYGZAAAAAAEAk3UAAAAAAAKLAQAAAAACg9+RAAAAAAIDa2kAAAAAAQGneQAAAAAAATNRAAAAAAGC36UAAAAAAwGTZQAAAAAAAk99AAAAAAMCs4UAAAAAAYEbgQAAAAABACeVAAAAAAED810AAAAAAgFbKQAAAAAAAUs5AAAAAAACSwUAAAAAAQBbnQAAAAADA1OBAAAAAAGDo5kAAAAAA4CvqQAAAAAAAWeRAAAAAAOCZ4UAAAAAAIMjkQAAAAAAgs+NAAAAAAOBi5EAAAAAAQPLaQAAAAABActdAAAAAABDs9EAAAAAAwKHYQAAAAADARdtAAAAAAIAd60AAAAAAwJ7xQAAAAADgMuxAAAAAAKCD90AAAAAAAMT1QAAAAABA/vtAAAAAAFClBUEAAAAA4MjhQAAAAADAM9dAAAAAAGAS6UAAAAAAQIzpQAAAAADAW9RAAAAAAOCv6kAAAAAAIDzsQAAAAAAAvexAAAAAAMBG0kAAAAAAQOntQAAAAAB4FgBBAAAAAICC1UAAAAAAAH3rQAAAAABAqPNAAAAAAPCr+UAAAAAAACLzQAAAAAAAT/tAAAAAAABO9EAAAAAAwJ3sQAAAAAAAbspAAAAAAABH9kAAAAAAAOfvQAAAAADA6edAAAAAAGCJ40AAAAAAYF/2QAAAAAAA8vRAAAAAAMCC/0AAAAAAwK/aQAAAAABAhd1AAAAAAMDI0kAAAAAAgHLCQAAAAAAAt9JAAAAAAEBr6kAAAAAAwEzfQAAAAAAAC81AAAAAAICJ30AAAAAAgNDDQAAAAAAwjvNAAAAAACCC6EAAAAAAgCnyQAAAAABQlfJAAAAAAAAU9EAAAAAA4JoBQQAAAACAJNhAAAAAAMAd5EAAAAAAQLzZQAAAAACAxP9AAAAAAAD2zUAAAAAAgPTHQAAAAACAKfdAAAAAAICG0UAAAAAAAF3aQAAAAAAAj7ZAAAAAAACe4kAAAAAAgFTkQAAAAAAAKcZAAAAAAAD3vEAAAAAA4LnoQAAAAADAjdZAAAAAAADQ4EAAAAAAQITnQAAAAADAQPtAAAAAAIAbz0AAAAAAQM3bQAAAAADgkuFAAAAAAKiqAUEAAAAA4O0DQQAAAAAALdNAAAAAAGDD9UAAAAAAANrTQAAAAADQBvVAAAAAAMAP1kAAAAAAgE/6QAAAAAAAz8xAAAAAAIBK2kAAAAAAQKDbQAAAAAAgk+JAAAAAAODK4EAAAAAAYEvjQAAAAACAG9xAAAAAAABj3UAAAAAAwNLZQAAAAABATdxAAAAAACAM4EAAAAAAoKD8QAAAAABAA9BAAAAAAACYz0AAAAAAAAyRQAAAAAAAENFAAAAAAKA+/kAAAAAAwDvTQAAAAADAbNdAAAAAAADC0EAAAAAAQEzaQAAAAADANdlAAAAAAACIs0AAAAAASJIGQQAAAABQcfNAAAAAAOBS+kAAAAAA4EL3QAAAAAAAE/FAAAAAAKCp90AAAAAAILnxQAAAAACAk85AAAAAAMBi/0AAAAAAQH3RQAAAAACATc1AAAAAAICQ00AAAAAAQA3hQAAAAACAncpAAAAAAEDU30AAAAAAgH3WQAAAAACAa/NAAAAAAIBZzUAAAAAAwG7cQAAAAAAgSeFAAAAAAMDN00AAAAAAgHrZQAAAAABAWfpAAAAAAAAdzUAAAAAA4MzgQAAAAABAoNFAAAAAAAC10UAAAAAAgKf6QAAAAAAA3NhAAAAAAOC84kAAAAAAwLDdQAAAAAAAl9tAAAAAAAAo30AAAAAAQGbXQAAAAADAYdZAAAAAAMBT1kAAAAAAIPTiQAAAAADA2udAAAAAAACm2kAAAAAAQGn4QAAAAADQiPRAAAAAALCd9UAAAAAAkKn4QAAAAACA+sNAAAAAAIDc5kAAAAAAgGHbQAAAAADABNpAAAAAAOCj4UAAAAAAgDndQAAAAAAArNpAAAAAAIDo3EAAAAAA4FrgQAAAAAAgzedAAAAAAABt2kAAAAAAwFPWQAAAAADAGtFAAAAAAACgzEAAAAAAIBLiQAAAAAAA1spAAAAAAACF1UAAAAAAgNfZQAAAAADAmdZAAAAAAADv0EAAAAAAQA3dQAAAAAAANuFAAAAAAECZ3UAAAAAAYF32QAAAAABwewpBAAAAACAfCUEAAAAAAGS5QAAAAAAAILdAAAAAAIBU3EAAAAAAgKfPQAAAAADgTe1AAAAAANDa/kAAAAAAEDsCQQAAAACAW8VAAAAAAKBeAkEAAAAA4Mn9QAAAAADA6NJAAAAAAMDy5EAAAAAAABB5QAAAAACAosVAAAAAAICm4EAAAAAAAM28QAAAAAAAPKRAAAAAAMBX5EAAAAAAgFXNQAAAAAAAZsJAAAAAAABx5EAAAAAAQG/QQAAAAAAAkrhAAAAAAGCl7UAAAAAAgM3WQAAAAAAA6J9AAAAAAKB04EAAAAAAAObAQAAAAABg9OhAAAAAAIBFzUAAAAAAgETPQAAAAAAAfsVAAAAAAODx5EAAAAAAAInCQAAAAABgDuNAAAAAAABNykAAAAAAgBDBQAAAAAAAurVAAAAAAIDhykAAAAAAAGbEQAAAAAAAXORAAAAAAIDVzkAAAAAAQCHRQAAAAAAAtc1AAAAAAIAC4EAAAAAAoPXkQAAAAAAASuxAAAAAAMD14kAAAAAAwCbfQAAAAABAC95AAAAAAKC+40AAAAAAIJ7zQAAAAABAlfZAAAAAAPAz8EAAAAAAAB7LQAAAAAAoughBAAAAAADd2UAAAAAAAPiFQAAAAACAttFAAAAAAID5xUAAAAAAALzGQAAAAABAkeBAAAAAAECb1EAAAAAAAADfQAAAAACAhdFAAAAAAFCT8UAAAAAAwOIAQQAAAAAAL9dAAAAAAACc4UAAAAAAQF3SQAAAAACAucNAAAAAAIB5xEAAAAAAACLRQAAAAACA28NAAAAAAIBgxkAAAAAAgPfZQAAAAABAQuFAAAAAAIBMyUAAAAAAQBHaQAAAAADAe9hAAAAAAEBg4EAAAAAAAGqzQAAAAAAg6uNAAAAAAGCc+kAAAAAAAJrsQAAAAABgFutAAAAAACCL4UAAAAAAQCnVQAAAAACAZ89AAAAAAMBc5kAAAAAAwDHVQAAAAABgwelAAAAAAOAz4kAAAAAAQGjdQAAAAACA7NpAAAAAAIDd20AAAAAAsLPzQAAAAACAg9dAAAAAAODd4kAAAAAAuOsBQQAAAADAH99AAAAAAADqqEAAAAAAwLHbQAAAAABA8eRAAAAAAACk3EAAAAAAoH3wQAAAAACg+u5AAAAAACCy4kAAAAAAgNbQQAAAAACAXddAAAAAAID/xUAAAAAAgKHCQAAAAAAAJMtAAAAAAGCO4EAAAAAAgAzeQAAAAADA/9FAAAAAAACWwkAAAAAAgB7QQAAAAACAGMZAAAAAAACqwkAAAAAAgGDQQAAAAADAAdBAAAAAAACL0UAAAAAAgMfOQAAAAACAo+FAAAAAAOAU5EAAAAAAMKT5QAAAAADAdupAAAAAAOAu9EAAAAAAgHXEQAAAAACgE+1AAAAAABDt9UAAAAAA4EDlQAAAAACgeORAAAAAAIDKxkAAAAAAgEHlQAAAAADAwuxAAAAAAIB6+EAAAAAAMOMDQQAAAAAAo/JAAAAAAJiDAEEAAAAAoOTyQAAAAADQ/v1AAAAAAADTx0AAAAAAAJTOQAAAAACA5s5AAAAAAAA3ukAAAAAAAObOQAAAAACgHfFAAAAAAIDd+EAAAAAAgELcQAAAAACA6PZAAAAAAIB12EAAAAAAQOXQQAAAAACgZuNAAAAAAOCr5UAAAAAAUP8GQQAAAAAAKKNAAAAAAIBF30AAAAAAALTXQAAAAADAAOFAAAAAAGCs4kAAAAAAgC3cQAAAAAAAe8pAAAAAAIAZ0UAAAAAAwHT3QAAAAAAAIIdAAAAAAAAAHEAAAAAA4NvgQAAAAABALtBAAAAAAABSoEAAAAAAgBbiQAAAAACA7c5AAAAAAGAY4kAAAAAAYHzgQAAAAADADNpAAAAAAADw3EAAAAAAAIzGQAAAAAAgTOVAAAAAAOA25EAAAAAAwFbgQAAAAACA0s9AAAAAAAAl1EAAAAAAQJ3dQAAAAADwRfBAAAAAAECV0kAAAAAAgO3GQAAAAACACdlAAAAAAACrs0AAAAAAAIffQAAAAAAQQ/pAAAAAADCM90AAAAAAMCj3QAAAAABwi/pAAAAAALB09kAAAAAAIJ7yQAAAAACwAwJBAAAAAGBV4EAAAAAAQFXQQAAAAACAddJAAAAAAMCA0kAAAAAAgArRQAAAAAAA9M5AAAAAAAAJxUAAAAAAEBT4QAAAAABQKvpAAAAAAAAG5UAAAAAACDEFQQAAAAAgl/RAAAAAAIBh+UAAAAAAoOgAQQAAAADAV/VAAAAAACDE7EAAAAAAfoQuQQAAAACwCPZAAAAAAMCw80AAAAAA0OL0QAAAAABgIOpAAAAAAACj50AAAAAAQOHbQAAAAAAAivNAAAAAAJA4/UAAAAAAMKX4QAAAAAAAbtlAAAAAAGC5AEEAAAAAEAEAQQAAAABAf9VAAAAAAGCm5EAAAAAAQEnYQAAAAACATdBAAAAAAEAB2EAAAAAAELX/QAAAAACAsd9AAAAAAMhKDEEAAAAAeJ4OQQAAAAAAM8FAAAAAAIDn0EAAAAAAAJjLQAAAAACABuNAAAAAABAT+UAAAAAAwBP4QAAAAADAztxAAAAAAPB5+EAAAAAAAHQEQQAAAAAABOJAAAAAABDe8kAAAAAAAAXcQAAAAADAZthAAAAAAMDv0UAAAAAA6GEDQQAAAAAAgN1AAAAAAOC870AAAAAAAGrAQAAAAACwp/9AAAAAAED43kAAAAAAwNr6QAAAAADActFAAAAAANDq+kAAAAAAgI/UQAAAAACgw/BAAAAAAACQykAAAAAA8LnxQAAAAADAwN5AAAAAAEBl30AAAAAAgAfaQAAAAAAAmtBAAAAAAAAsz0AAAAAAwOjjQAAAAAAgx+NAAAAAAMDb40AAAAAAALXJQAAAAACABsNAAAAAAEBK3kAAAAAAQJ7cQAAAAACgDelAAAAAAKAP4kAAAAAAAKLcQAAAAABQIfdAAAAAAIg0FkEAAAAAcKLzQAAAAABQj/ZAAAAAAJCN+UAAAAAAgIfnQAAAAACA0e9AAAAAAIAJwkAAAAAAoCX5QAAAAACAC8xAAAAAAMBg7EAAAAAAAFDKQAAAAADwRP5AAAAAAPCk+EAAAAAAAPiEQAAAAACgBO5AAAAAABDp9EAAAAAA4E3vQAAAAABA7/5AAAAAACAD+kAAAAAAgOjGQAAAAADQzPRAAAAAABCr8UAAAAAAILTwQAAAAACQq/FAAAAAAECG00AAAAAAgDTIQAAAAACANNlAAAAAAEDV/0AAAAAAADLOQAAAAADAvvZAAAAAADDt/EAAAAAAAOSgQAAAAAAgaOhAAAAAAADgzUAAAAAAIKbhQAAAAABAoeRAAAAAAIBU5kAAAAAAIAToQAAAAABAYOZAAAAAAID94UAAAAAAcHn5QAAAAABAq+BAAAAAACD54EAAAAAAAOTfQAAAAACgAuFAAAAAACBg5EAAAAAAgLDHQAAAAAAA09dAAAAAAGBe4kAAAAAAoG/2QAAAAAB4lAFBAAAAAICCzkAAAAAA4MPqQAAAAADgd+tAAAAAAADMA0EAAAAA4GLiQAAAAACgs/hAAAAAAPApCUEAAAAAYMf5QAAAAABg6vFAAAAAAEAj00AAAAAAAIBwQAAAAACg6uRAAAAAAMDj5EAAAAAAwIfhQAAAAADwbvhAAAAAAMBC00AAAAAA4LDlQAAAAABgs/ZAAAAAAID94UAAAAAAoGjgQAAAAABAWttAAAAAAMAy5EAAAAAAIAP4QAAAAADAVeNAAAAAAECE1EAAAAAAADTcQAAAAACA9NtAAAAAAAABzUAAAAAAABHkQAAAAAAA5shAAAAAAIBhzEAAAAAAgB3PQAAAAACAPcVAAAAAAABx3kAAAAAAALzPQAAAAABAttFAAAAAAAAQ2UAAAAAAgEzeQAAAAADgKORAAAAAAIBL5UAAAAAAQNrcQAAAAADAu9dAAAAAAED33EAAAAAAQGrSQAAAAAAAQ8xAAAAAAICv5EAAAAAAgB7iQAAAAAAA0NlAAAAAAICb10AAAAAAAAneQAAAAABAtt9AAAAAAMBo1kAAAAAAwLnQQAAAAABATtRAAAAAAMDB30AAAAAAgEzaQAAAAADg8ONAAAAAAIDX5UAAAAAAANfSQAAAAADAltdAAAAAACBL4EAAAAAAgD3cQAAAAADAHdVAAAAAAACwz0AAAAAAgMnZQAAAAACAI9tAAAAAAIC70kAAAAAAgB7HQAAAAACAQ9VAAAAAAIBS0UAAAAAAgJHaQAAAAAAAB9RAAAAAAMBm2EAAAAAAQMbUQAAAAADATddAAAAAAIDT3kAAAAAAQKvYQAAAAAAAJdRAAAAAAEDt3UAAAAAAIIbjQAAAAAAAJeNAAAAAAAAD5kAAAAAA4CnjQAAAAADApeZAAAAAAKB640AAAAAAYB7kQAAAAAAA2eNAAAAAAMDP3kAAAAAAIO3iQAAAAADA6uRAAAAAAKBK5EAAAAAAABbkQAAAAACgFuRAAAAAAICE6UAAAAAAQB/vQAAAAADAk9dAAAAAAMBr20AAAAAAYPTpQAAAAAAgA/dAAAAAAEAF8EAAAAAAwHjiQAAAAACAGctAAAAAAACIt0AAAAAAUL/yQAAAAABAst1AAAAAAADo5UAAAAAAoLPkQAAAAACAYtBAAAAAAIDw4EAAAAAAQADeQAAAAAAAEOpAAAAAAIDI1EAAAAAAAELEQAAAAACAXMFAAAAAAEAy/0AAAAAAAB/tQAAAAABAjOZAAAAAAIDg3UAAAAAAIHHjQAAAAABgvONAAAAAACAa4kAAAAAAAOrgQAAAAAAA7eJAAAAAAKBt4kAAAAAAANjaQAAAAACASeJAAAAAAKBu40AAAAAAQO3hQAAAAADgreFAAAAAAGDU4kAAAAAAoHnjQAAAAACAb+RAAAAAAMBD40AAAAAAYKHjQAAAAABg3uBAAAAAAMBk3kAAAAAAwOHdQAAAAADgtONAAAAAACCj5UAAAAAAwCbgQAAAAAAAwNdAAAAAAMDA5EAAAAAAgCDkQAAAAABgSORAAAAAAIB+40AAAAAAYKjjQAAAAACga+FAAAAAAGAg4EAAAAAAIN/gQAAAAACA2t5AAAAAAMCi3kA=",
          "dtype": "f8"
         },
         "yaxis": "y"
        },
        {
         "hovertemplate": "simple_condition=Minutes Left<br>price=%{x}<br>mileage=%{y}<extra></extra>",
         "legendgroup": "Minutes Left",
         "marker": {
          "color": "#00cc96",
          "symbol": "circle"
         },
         "mode": "markers",
         "name": "Minutes Left",
         "showlegend": true,
         "type": "scattergl",
         "x": {
          "bdata": "LEwAAAtSAACfYwAAbmsAAHppAABCagAAbmsAAAprAADqZwAAFmkAAAprAAA2bAAA3mkAAN5pAADTZAAA6mcAAN5pAABCagAA6mcAAERIAAB8RwAAOEoAAERIAADkVwAApDgAAIQ1AAAoIwAAcBcAAKQ4AAD4KgAAgD4AAHRAAAAwKgAAqGEAAHgeAAAcJQAApDgAAKQ4AABELwAA/CEAAFxEAAAsTAAA+CoAAPgqAACEHAAAZBkAAHAXAABkGQAAjDwAALyxAAAgTgAAJCwAAOQ+AAAsZQAA",
          "dtype": "i4"
         },
         "xaxis": "x",
         "y": {
          "bdata": "AAAAAMCT3kAAAAAAgIrlQAAAAADANdJAAAAAAACJz0AAAAAAgF3PQAAAAACAHdJAAAAAAMCP0UAAAAAAwG7RQAAAAACAv9FAAAAAAABn10AAAAAAgK7TQAAAAADA3dNAAAAAAACn0kAAAAAAgIvTQAAAAACAQ9VAAAAAAEC01EAAAAAAgEHVQAAAAACAJthAAAAAAEBs2EAAAAAAAE71QAAAAACA6vtAAAAAADBB+0AAAAAAMGH5QAAAAAAARfBAAAAAACDK/UAAAAAAgC3NQAAAAABABvRAAAAAAFD9/UAAAAAAILzjQAAAAAAAsfRAAAAAAADo10AAAAAA6NEAQQAAAADA7/NAAAAAAKCu4EAAAAAAMJr5QAAAAABQDPFAAAAAAHB590AAAAAAcHL8QAAAAADArdxAAAAAAMCx8kAAAAAAoH/8QAAAAABg1OtAAAAAAGB140AAAAAAoHbgQAAAAACwoP5AAAAAAGBb+UAAAAAAMDIBQQAAAABwWvdAAAAAALAhAEEAAAAA4DPwQAAAAACA6/RAAAAAAAB650AAAAAAYML3QAAAAAAgpOBA",
          "dtype": "f8"
         },
         "yaxis": "y"
        },
        {
         "hovertemplate": "simple_condition=Expired<br>price=%{x}<br>mileage=%{y}<extra></extra>",
         "legendgroup": "Expired",
         "marker": {
          "color": "#ab63fa",
          "symbol": "circle"
         },
         "mode": "markers",
         "name": "Expired",
         "showlegend": true,
         "type": "scattergl",
         "x": {
          "bdata": "bGsAAIgsAACILAAAQB8AAKhhAAAMSQAAxIYAAHTWAAD0fgAAlEMAADwPAADkVwAAsE8AAMBdAABYGwAAlI4AAEfqAABH6gAAxDsAADiVAAA=",
          "dtype": "i4"
         },
         "xaxis": "x",
         "y": {
          "bdata": "AAAAAKDN5UAAAAAAwEbzQAAAAABAn/VAAAAAAAA980AAAAAAIMPzQAAAAADAwOFAAAAAAOAD5EAAAAAAgBzMQAAAAADAWdtAAAAAAIBp20AAAAAAALB2QAAAAADgnuhAAAAAAMAy7UAAAAAAYLbjQAAAAADAk/lAAAAAAEBc6kAAAAAAAMBRQAAAAAAAwGVAAAAAAEC84kAAAAAAwM7mQA==",
          "dtype": "f8"
         },
         "yaxis": "y"
        }
       ],
       "layout": {
        "legend": {
         "title": {
          "text": "simple_condition"
         },
         "tracegroupgap": 0
        },
        "template": {
         "data": {
          "bar": [
           {
            "error_x": {
             "color": "#2a3f5f"
            },
            "error_y": {
             "color": "#2a3f5f"
            },
            "marker": {
             "line": {
              "color": "#E5ECF6",
              "width": 0.5
             },
             "pattern": {
              "fillmode": "overlay",
              "size": 10,
              "solidity": 0.2
             }
            },
            "type": "bar"
           }
          ],
          "barpolar": [
           {
            "marker": {
             "line": {
              "color": "#E5ECF6",
              "width": 0.5
             },
             "pattern": {
              "fillmode": "overlay",
              "size": 10,
              "solidity": 0.2
             }
            },
            "type": "barpolar"
           }
          ],
          "carpet": [
           {
            "aaxis": {
             "endlinecolor": "#2a3f5f",
             "gridcolor": "white",
             "linecolor": "white",
             "minorgridcolor": "white",
             "startlinecolor": "#2a3f5f"
            },
            "baxis": {
             "endlinecolor": "#2a3f5f",
             "gridcolor": "white",
             "linecolor": "white",
             "minorgridcolor": "white",
             "startlinecolor": "#2a3f5f"
            },
            "type": "carpet"
           }
          ],
          "choropleth": [
           {
            "colorbar": {
             "outlinewidth": 0,
             "ticks": ""
            },
            "type": "choropleth"
           }
          ],
          "contour": [
           {
            "colorbar": {
             "outlinewidth": 0,
             "ticks": ""
            },
            "colorscale": [
             [
              0,
              "#0d0887"
             ],
             [
              0.1111111111111111,
              "#46039f"
             ],
             [
              0.2222222222222222,
              "#7201a8"
             ],
             [
              0.3333333333333333,
              "#9c179e"
             ],
             [
              0.4444444444444444,
              "#bd3786"
             ],
             [
              0.5555555555555556,
              "#d8576b"
             ],
             [
              0.6666666666666666,
              "#ed7953"
             ],
             [
              0.7777777777777778,
              "#fb9f3a"
             ],
             [
              0.8888888888888888,
              "#fdca26"
             ],
             [
              1,
              "#f0f921"
             ]
            ],
            "type": "contour"
           }
          ],
          "contourcarpet": [
           {
            "colorbar": {
             "outlinewidth": 0,
             "ticks": ""
            },
            "type": "contourcarpet"
           }
          ],
          "heatmap": [
           {
            "colorbar": {
             "outlinewidth": 0,
             "ticks": ""
            },
            "colorscale": [
             [
              0,
              "#0d0887"
             ],
             [
              0.1111111111111111,
              "#46039f"
             ],
             [
              0.2222222222222222,
              "#7201a8"
             ],
             [
              0.3333333333333333,
              "#9c179e"
             ],
             [
              0.4444444444444444,
              "#bd3786"
             ],
             [
              0.5555555555555556,
              "#d8576b"
             ],
             [
              0.6666666666666666,
              "#ed7953"
             ],
             [
              0.7777777777777778,
              "#fb9f3a"
             ],
             [
              0.8888888888888888,
              "#fdca26"
             ],
             [
              1,
              "#f0f921"
             ]
            ],
            "type": "heatmap"
           }
          ],
          "histogram": [
           {
            "marker": {
             "pattern": {
              "fillmode": "overlay",
              "size": 10,
              "solidity": 0.2
             }
            },
            "type": "histogram"
           }
          ],
          "histogram2d": [
           {
            "colorbar": {
             "outlinewidth": 0,
             "ticks": ""
            },
            "colorscale": [
             [
              0,
              "#0d0887"
             ],
             [
              0.1111111111111111,
              "#46039f"
             ],
             [
              0.2222222222222222,
              "#7201a8"
             ],
             [
              0.3333333333333333,
              "#9c179e"
             ],
             [
              0.4444444444444444,
              "#bd3786"
             ],
             [
              0.5555555555555556,
              "#d8576b"
             ],
             [
              0.6666666666666666,
              "#ed7953"
             ],
             [
              0.7777777777777778,
              "#fb9f3a"
             ],
             [
              0.8888888888888888,
              "#fdca26"
             ],
             [
              1,
              "#f0f921"
             ]
            ],
            "type": "histogram2d"
           }
          ],
          "histogram2dcontour": [
           {
            "colorbar": {
             "outlinewidth": 0,
             "ticks": ""
            },
            "colorscale": [
             [
              0,
              "#0d0887"
             ],
             [
              0.1111111111111111,
              "#46039f"
             ],
             [
              0.2222222222222222,
              "#7201a8"
             ],
             [
              0.3333333333333333,
              "#9c179e"
             ],
             [
              0.4444444444444444,
              "#bd3786"
             ],
             [
              0.5555555555555556,
              "#d8576b"
             ],
             [
              0.6666666666666666,
              "#ed7953"
             ],
             [
              0.7777777777777778,
              "#fb9f3a"
             ],
             [
              0.8888888888888888,
              "#fdca26"
             ],
             [
              1,
              "#f0f921"
             ]
            ],
            "type": "histogram2dcontour"
           }
          ],
          "mesh3d": [
           {
            "colorbar": {
             "outlinewidth": 0,
             "ticks": ""
            },
            "type": "mesh3d"
           }
          ],
          "parcoords": [
           {
            "line": {
             "colorbar": {
              "outlinewidth": 0,
              "ticks": ""
             }
            },
            "type": "parcoords"
           }
          ],
          "pie": [
           {
            "automargin": true,
            "type": "pie"
           }
          ],
          "scatter": [
           {
            "fillpattern": {
             "fillmode": "overlay",
             "size": 10,
             "solidity": 0.2
            },
            "type": "scatter"
           }
          ],
          "scatter3d": [
           {
            "line": {
             "colorbar": {
              "outlinewidth": 0,
              "ticks": ""
             }
            },
            "marker": {
             "colorbar": {
              "outlinewidth": 0,
              "ticks": ""
             }
            },
            "type": "scatter3d"
           }
          ],
          "scattercarpet": [
           {
            "marker": {
             "colorbar": {
              "outlinewidth": 0,
              "ticks": ""
             }
            },
            "type": "scattercarpet"
           }
          ],
          "scattergeo": [
           {
            "marker": {
             "colorbar": {
              "outlinewidth": 0,
              "ticks": ""
             }
            },
            "type": "scattergeo"
           }
          ],
          "scattergl": [
           {
            "marker": {
             "colorbar": {
              "outlinewidth": 0,
              "ticks": ""
             }
            },
            "type": "scattergl"
           }
          ],
          "scattermap": [
           {
            "marker": {
             "colorbar": {
              "outlinewidth": 0,
              "ticks": ""
             }
            },
            "type": "scattermap"
           }
          ],
          "scattermapbox": [
           {
            "marker": {
             "colorbar": {
              "outlinewidth": 0,
              "ticks": ""
             }
            },
            "type": "scattermapbox"
           }
          ],
          "scatterpolar": [
           {
            "marker": {
             "colorbar": {
              "outlinewidth": 0,
              "ticks": ""
             }
            },
            "type": "scatterpolar"
           }
          ],
          "scatterpolargl": [
           {
            "marker": {
             "colorbar": {
              "outlinewidth": 0,
              "ticks": ""
             }
            },
            "type": "scatterpolargl"
           }
          ],
          "scatterternary": [
           {
            "marker": {
             "colorbar": {
              "outlinewidth": 0,
              "ticks": ""
             }
            },
            "type": "scatterternary"
           }
          ],
          "surface": [
           {
            "colorbar": {
             "outlinewidth": 0,
             "ticks": ""
            },
            "colorscale": [
             [
              0,
              "#0d0887"
             ],
             [
              0.1111111111111111,
              "#46039f"
             ],
             [
              0.2222222222222222,
              "#7201a8"
             ],
             [
              0.3333333333333333,
              "#9c179e"
             ],
             [
              0.4444444444444444,
              "#bd3786"
             ],
             [
              0.5555555555555556,
              "#d8576b"
             ],
             [
              0.6666666666666666,
              "#ed7953"
             ],
             [
              0.7777777777777778,
              "#fb9f3a"
             ],
             [
              0.8888888888888888,
              "#fdca26"
             ],
             [
              1,
              "#f0f921"
             ]
            ],
            "type": "surface"
           }
          ],
          "table": [
           {
            "cells": {
             "fill": {
              "color": "#EBF0F8"
             },
             "line": {
              "color": "white"
             }
            },
            "header": {
             "fill": {
              "color": "#C8D4E3"
             },
             "line": {
              "color": "white"
             }
            },
            "type": "table"
           }
          ]
         },
         "layout": {
          "annotationdefaults": {
           "arrowcolor": "#2a3f5f",
           "arrowhead": 0,
           "arrowwidth": 1
          },
          "autotypenumbers": "strict",
          "coloraxis": {
           "colorbar": {
            "outlinewidth": 0,
            "ticks": ""
           }
          },
          "colorscale": {
           "diverging": [
            [
             0,
             "#8e0152"
            ],
            [
             0.1,
             "#c51b7d"
            ],
            [
             0.2,
             "#de77ae"
            ],
            [
             0.3,
             "#f1b6da"
            ],
            [
             0.4,
             "#fde0ef"
            ],
            [
             0.5,
             "#f7f7f7"
            ],
            [
             0.6,
             "#e6f5d0"
            ],
            [
             0.7,
             "#b8e186"
            ],
            [
             0.8,
             "#7fbc41"
            ],
            [
             0.9,
             "#4d9221"
            ],
            [
             1,
             "#276419"
            ]
           ],
           "sequential": [
            [
             0,
             "#0d0887"
            ],
            [
             0.1111111111111111,
             "#46039f"
            ],
            [
             0.2222222222222222,
             "#7201a8"
            ],
            [
             0.3333333333333333,
             "#9c179e"
            ],
            [
             0.4444444444444444,
             "#bd3786"
            ],
            [
             0.5555555555555556,
             "#d8576b"
            ],
            [
             0.6666666666666666,
             "#ed7953"
            ],
            [
             0.7777777777777778,
             "#fb9f3a"
            ],
            [
             0.8888888888888888,
             "#fdca26"
            ],
            [
             1,
             "#f0f921"
            ]
           ],
           "sequentialminus": [
            [
             0,
             "#0d0887"
            ],
            [
             0.1111111111111111,
             "#46039f"
            ],
            [
             0.2222222222222222,
             "#7201a8"
            ],
            [
             0.3333333333333333,
             "#9c179e"
            ],
            [
             0.4444444444444444,
             "#bd3786"
            ],
            [
             0.5555555555555556,
             "#d8576b"
            ],
            [
             0.6666666666666666,
             "#ed7953"
            ],
            [
             0.7777777777777778,
             "#fb9f3a"
            ],
            [
             0.8888888888888888,
             "#fdca26"
            ],
            [
             1,
             "#f0f921"
            ]
           ]
          },
          "colorway": [
           "#636efa",
           "#EF553B",
           "#00cc96",
           "#ab63fa",
           "#FFA15A",
           "#19d3f3",
           "#FF6692",
           "#B6E880",
           "#FF97FF",
           "#FECB52"
          ],
          "font": {
           "color": "#2a3f5f"
          },
          "geo": {
           "bgcolor": "white",
           "lakecolor": "white",
           "landcolor": "#E5ECF6",
           "showlakes": true,
           "showland": true,
           "subunitcolor": "white"
          },
          "hoverlabel": {
           "align": "left"
          },
          "hovermode": "closest",
          "mapbox": {
           "style": "light"
          },
          "paper_bgcolor": "white",
          "plot_bgcolor": "#E5ECF6",
          "polar": {
           "angularaxis": {
            "gridcolor": "white",
            "linecolor": "white",
            "ticks": ""
           },
           "bgcolor": "#E5ECF6",
           "radialaxis": {
            "gridcolor": "white",
            "linecolor": "white",
            "ticks": ""
           }
          },
          "scene": {
           "xaxis": {
            "backgroundcolor": "#E5ECF6",
            "gridcolor": "white",
            "gridwidth": 2,
            "linecolor": "white",
            "showbackground": true,
            "ticks": "",
            "zerolinecolor": "white"
           },
           "yaxis": {
            "backgroundcolor": "#E5ECF6",
            "gridcolor": "white",
            "gridwidth": 2,
            "linecolor": "white",
            "showbackground": true,
            "ticks": "",
            "zerolinecolor": "white"
           },
           "zaxis": {
            "backgroundcolor": "#E5ECF6",
            "gridcolor": "white",
            "gridwidth": 2,
            "linecolor": "white",
            "showbackground": true,
            "ticks": "",
            "zerolinecolor": "white"
           }
          },
          "shapedefaults": {
           "line": {
            "color": "#2a3f5f"
           }
          },
          "ternary": {
           "aaxis": {
            "gridcolor": "white",
            "linecolor": "white",
            "ticks": ""
           },
           "baxis": {
            "gridcolor": "white",
            "linecolor": "white",
            "ticks": ""
           },
           "bgcolor": "#E5ECF6",
           "caxis": {
            "gridcolor": "white",
            "linecolor": "white",
            "ticks": ""
           }
          },
          "title": {
           "x": 0.05
          },
          "xaxis": {
           "automargin": true,
           "gridcolor": "white",
           "linecolor": "white",
           "ticks": "",
           "title": {
            "standoff": 15
           },
           "zerolinecolor": "white",
           "zerolinewidth": 2
          },
          "yaxis": {
           "automargin": true,
           "gridcolor": "white",
           "linecolor": "white",
           "ticks": "",
           "title": {
            "standoff": 15
           },
           "zerolinecolor": "white",
           "zerolinewidth": 2
          }
         }
        },
        "title": {
         "text": "Vehicle Price by Mileage and Condition"
        },
        "xaxis": {
         "anchor": "y",
         "domain": [
          0,
          1
         ],
         "title": {
          "text": "price"
         }
        },
        "yaxis": {
         "anchor": "x",
         "domain": [
          0,
          1
         ],
         "title": {
          "text": "mileage"
         }
        }
       }
      }
     },
     "metadata": {},
     "output_type": "display_data"
    }
   ],
   "source": [
    "import plotly.express as px\n",
    "# Create an interactive scatter plot of Price vs. Mileage, color-coded by Condition\n",
    "fig = px.scatter(df, x='price', y='mileage', color='simple_condition', title='Vehicle Price by Mileage and Condition')\n",
    "fig.show()"
   ]
  },
  {
   "cell_type": "code",
   "execution_count": 70,
   "id": "f05da662",
   "metadata": {},
   "outputs": [
    {
     "data": {
      "image/png": "[encoded data removed]",
      "text/plain": [
       "<Figure size 1000x800 with 2 Axes>"
      ]
     },
     "metadata": {},
     "output_type": "display_data"
    }
   ],
   "source": [
    "# Create a heatmap of average prices by brand and condition\n",
    "# Create Aggregated Series\n",
    "avgs = df.groupby(['brand', 'simple_condition'])['price'].mean()\n",
    "\n",
    "\n",
    "# Convert Series to a DataFrame and pivot\n",
    "heatmap_data = avgs.reset_index().pivot(index='brand', \n",
    "                                       columns='simple_condition', \n",
    "                                       values='price')\n",
    "\n",
    "# Plot Heatmap\n",
    "plt.figure(figsize=(10, 8))\n",
    "sns.heatmap(heatmap_data, \n",
    "           annot=True,          # Show values in cells\n",
    "           fmt='.0f',           # Format as integers (no decimals)\n",
    "           cmap='coolwarm',       # Color scheme\n",
    "           cbar_kws={'label': 'Average Price ($)'})\n",
    "plt.title('Average Car Prices by Brand and Condition')\n",
    "plt.show()"
   ]
  }
 ],
 "metadata": {
  "kernelspec": {
   "display_name": "jupyter_env",
   "language": "python",
   "name": "python3"
  },
  "language_info": {
   "codemirror_mode": {
    "name": "ipython",
    "version": 3
   },
   "file_extension": ".py",
   "mimetype": "text/x-python",
   "name": "python",
   "nbconvert_exporter": "python",
   "pygments_lexer": "ipython3",
   "version": "3.12.11"
  }
 },
 "nbformat": 4,
 "nbformat_minor": 5
}
