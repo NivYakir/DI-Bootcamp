{
  "cells": [
    {
      "cell_type": "markdown",
      "metadata": {
        "id": "IEnxa0o3k39c"
      },
      "source": [
        " Install Required Libraries"
      ]
    },
    {
      "cell_type": "code",
      "execution_count": 1,
      "metadata": {
        "colab": {
          "base_uri": "https://localhost:8080/"
        },
        "id": "8ponenesiel6",
        "outputId": "c83bc873-cee3-453d-cd10-1bbc198238cf"
      },
      "outputs": [
        {
          "name": "stdout",
          "output_type": "stream",
          "text": [
            "2.0.43\n"
          ]
        }
      ],
      "source": [
        "import sqlalchemy\n",
        "print(sqlalchemy.__version__)\n"
      ]
    },
    {
      "cell_type": "markdown",
      "metadata": {
        "id": "vsmxW0aokknS"
      },
      "source": [
        "create_engine() is the universal way to configure connections.\n",
        "\n",
        ".connect() gives us a live connection object to run queries."
      ]
    },
    {
      "cell_type": "code",
      "execution_count": 2,
      "metadata": {
        "colab": {
          "base_uri": "https://localhost:8080/"
        },
        "id": "aZBNYUtHiepi",
        "outputId": "b281b5e5-416e-4430-ba67-633dd8214077"
      },
      "outputs": [
        {
          "data": {
            "text/plain": [
              "<sqlalchemy.engine.base.Connection at 0x78a91fe5bf50>"
            ]
          },
          "execution_count": 2,
          "metadata": {},
          "output_type": "execute_result"
        }
      ],
      "source": [
        "from sqlalchemy import create_engine\n",
        "\n",
        "# Create an engine connected to the database\n",
        "engine = create_engine(\"sqlite:///european_database.sqlite\")\n",
        "\n",
        "# Connect to the database\n",
        "conn = engine.connect()\n",
        "conn"
      ]
    },
    {
      "cell_type": "markdown",
      "metadata": {
        "id": "nbRTOXLskqbl"
      },
      "source": [
        "Create a MetaData() object to store schema.\n",
        "\n",
        "Use metadata.reflect(bind=engine) to read existing tables."
      ]
    },
    {
      "cell_type": "code",
      "execution_count": 3,
      "metadata": {
        "colab": {
          "base_uri": "https://localhost:8080/"
        },
        "id": "3-LZsc9aiesa",
        "outputId": "33f2b11e-37b7-4af0-cfe4-d1d02e8c2874"
      },
      "outputs": [
        {
          "name": "stdout",
          "output_type": "stream",
          "text": [
            "dict_keys(['divisions', 'matchs'])\n"
          ]
        }
      ],
      "source": [
        "from sqlalchemy import MetaData\n",
        "\n",
        "# Store table and schema structure\n",
        "metadata = MetaData()\n",
        "\n",
        "# Automatically read table definitions\n",
        "metadata.reflect(bind=engine)\n",
        "\n",
        "# Print table names\n",
        "print(metadata.tables.keys())\n"
      ]
    },
    {
      "cell_type": "code",
      "execution_count": 4,
      "metadata": {
        "id": "pq9cSs9nTXRf"
      },
      "outputs": [],
      "source": [
        "from sqlalchemy import Table, Column, Integer, Text\n",
        "\n",
        "teams = Table(\n",
        "    'teams', metadata,\n",
        "    Column('team_id', Integer, primary_key=True),\n",
        "    Column('team_name', Text, nullable=False),\n",
        "    Column('city', Text, nullable=False)\n",
        ")\n",
        "\n",
        "metadata.create_all(engine)\n"
      ]
    },
    {
      "cell_type": "code",
      "execution_count": 5,
      "metadata": {
        "colab": {
          "base_uri": "https://localhost:8080/"
        },
        "id": "UnaCrGeZJwpe",
        "outputId": "8d930b14-5708-424a-ac45-c81b0c5c5c88"
      },
      "outputs": [
        {
          "name": "stdout",
          "output_type": "stream",
          "text": [
            "dict_keys(['divisions', 'matchs', 'teams'])\n"
          ]
        }
      ],
      "source": [
        "print(metadata.tables.keys())"
      ]
    },
    {
      "cell_type": "code",
      "execution_count": 6,
      "metadata": {
        "colab": {
          "base_uri": "https://localhost:8080/"
        },
        "id": "TmhCuu7hieze",
        "outputId": "f962c385-3ba1-4cfc-bc64-e429266ed5e7"
      },
      "outputs": [
        {
          "data": {
            "text/plain": [
              "<sqlalchemy.engine.cursor.CursorResult at 0x78a91f816900>"
            ]
          },
          "execution_count": 6,
          "metadata": {},
          "output_type": "execute_result"
        }
      ],
      "source": [
        "# Insert multiple rows\n",
        "insert_query = teams.insert().values([\n",
        "    {'team_id': 1, 'team_name': 'Team A', 'city': 'City A'},\n",
        "    {'team_id': 2, 'team_name': 'Team B', 'city': 'City B'},\n",
        "    {'team_id': 3, 'team_name': 'Team C', 'city': 'City C'},\n",
        "    {'team_id': 4, 'team_name': 'Team D', 'city': 'City C'}\n",
        "])\n",
        "\n",
        "# Run the insert operation\n",
        "conn.execute(insert_query)\n"
      ]
    },
    {
      "cell_type": "code",
      "execution_count": 7,
      "metadata": {
        "colab": {
          "base_uri": "https://localhost:8080/"
        },
        "id": "pTkplQxPie3S",
        "outputId": "3b6afd34-06e4-415e-e0b1-e726af2ddf9a"
      },
      "outputs": [
        {
          "name": "stdout",
          "output_type": "stream",
          "text": [
            "Table('teams', MetaData(), Column('team_id', Integer(), table=<teams>, primary_key=True, nullable=False), Column('team_name', Text(), table=<teams>, nullable=False), Column('city', Text(), table=<teams>, nullable=False), schema=None)\n"
          ]
        }
      ],
      "source": [
        "if 'teams' in metadata.tables:\n",
        "    print(repr(metadata.tables['teams']))\n",
        "else:\n",
        "    print(\"Table 'teams' does not exist.\")\n"
      ]
    },
    {
      "cell_type": "code",
      "execution_count": 8,
      "metadata": {
        "colab": {
          "base_uri": "https://localhost:8080/"
        },
        "id": "9C_XlGvVie6X",
        "outputId": "1a79958d-d985-442a-9532-5d954b47217d"
      },
      "outputs": [
        {
          "name": "stdout",
          "output_type": "stream",
          "text": [
            "(1, 'Team A', 'City A')\n",
            "(2, 'Team B', 'City B')\n",
            "(3, 'Team C', 'City C')\n",
            "(4, 'Team D', 'City C')\n"
          ]
        }
      ],
      "source": [
        "from sqlalchemy import select\n",
        "\n",
        "# Reference the 'teams' table\n",
        "teams = metadata.tables['teams']\n",
        "\n",
        "# Create a SELECT query\n",
        "query = select(teams)\n",
        "\n",
        "# Execute query\n",
        "result_proxy = conn.execute(query)\n",
        "\n",
        "# Fetch all results\n",
        "rows = result_proxy.fetchall()\n",
        "\n",
        "# Print each row\n",
        "for row in rows:\n",
        "    print(row)\n",
        "\n"
      ]
    },
    {
      "cell_type": "markdown",
      "metadata": {
        "id": "M6mY2KqbLmng"
      },
      "source": [
        "Challenge: using the table object divisions, print the column names. What does the table consist of ?"
      ]
    },
    {
      "cell_type": "code",
      "execution_count": null,
      "metadata": {
        "id": "5cIX0FbdLlXj"
      },
      "outputs": [],
      "source": []
    },
    {
      "cell_type": "code",
      "execution_count": 9,
      "metadata": {
        "colab": {
          "base_uri": "https://localhost:8080/"
        },
        "id": "j5-_ALiYgC2m",
        "outputId": "51ca0aa7-f9ad-4a54-b13a-1d3cdc9c1868"
      },
      "outputs": [
        {
          "name": "stdout",
          "output_type": "stream",
          "text": [
            "Columns in 'teams' table:\n",
            "team_id: INTEGER\n",
            "team_name: TEXT\n",
            "city: TEXT\n",
            "\n",
            "Rows in 'teams' table:\n",
            "   team_id team_name    city\n",
            "0        1    Team A  City A\n",
            "1        2    Team B  City B\n",
            "2        3    Team C  City C\n",
            "3        4    Team D  City C\n"
          ]
        }
      ],
      "source": [
        "import pandas as pd\n",
        "\n",
        "\n",
        "query = select(teams.c)  # select all columns\n",
        " # Read SQL results into DataFrame\n",
        "df = pd.read_sql(query, conn)\n",
        "\n",
        "# Print schema: column names and data types\n",
        "print(\"Columns in 'teams' table:\")\n",
        "for col in teams.columns:\n",
        "  print(f\"{col.name}: {col.type}\")\n",
        "\n",
        "print(\"\\nRows in 'teams' table:\")\n",
        "print(df.head())"
      ]
    },
    {
      "cell_type": "code",
      "execution_count": 10,
      "metadata": {
        "colab": {
          "base_uri": "https://localhost:8080/"
        },
        "id": "rxRxoL3zraEZ",
        "outputId": "211523ec-0b39-4a35-aa89-758503f710b7"
      },
      "outputs": [
        {
          "name": "stdout",
          "output_type": "stream",
          "text": [
            "SELECT teams.team_id, teams.team_name, teams.city \n",
            "FROM teams\n"
          ]
        }
      ],
      "source": [
        "query = teams.select()  # Same as select(teams)\n",
        "print(query)\n"
      ]
    },
    {
      "cell_type": "code",
      "execution_count": 11,
      "metadata": {
        "colab": {
          "base_uri": "https://localhost:8080/"
        },
        "id": "jSavdzHksN76",
        "outputId": "19e2eaa0-bf54-4fed-82cc-e8464534bd3d"
      },
      "outputs": [
        {
          "name": "stdout",
          "output_type": "stream",
          "text": [
            "[(1, 'Team A', 'City A'), (2, 'Team B', 'City B')]\n"
          ]
        }
      ],
      "source": [
        "exe = conn.execute(query)         # Execute query\n",
        "result = exe.fetchmany(2)         # Get top 2 rows\n",
        "print(result)\n"
      ]
    },
    {
      "cell_type": "code",
      "execution_count": 12,
      "metadata": {
        "colab": {
          "base_uri": "https://localhost:8080/"
        },
        "id": "sn_9ej-PsZYV",
        "outputId": "80656092-617a-4d02-b468-9d2962dac0b2"
      },
      "outputs": [
        {
          "name": "stdout",
          "output_type": "stream",
          "text": [
            "('Team A',)\n",
            "('Team B',)\n",
            "('Team C',)\n",
            "('Team D',)\n"
          ]
        }
      ],
      "source": [
        "query = select(teams.c.team_name) #Show only a specific column\n",
        "result = conn.execute(query).fetchall()\n",
        "for row in result:\n",
        "    print(row)\n"
      ]
    },
    {
      "cell_type": "code",
      "execution_count": 13,
      "metadata": {
        "colab": {
          "base_uri": "https://localhost:8080/"
        },
        "id": "lf7Rmb_qsfYh",
        "outputId": "194edb87-d635-4614-da8d-f4c66afd4707"
      },
      "outputs": [
        {
          "name": "stdout",
          "output_type": "stream",
          "text": [
            "('City A',)\n",
            "('City B',)\n",
            "('City C',)\n"
          ]
        }
      ],
      "source": [
        "from sqlalchemy import distinct\n",
        "\n",
        "query = select(distinct(teams.c.city)) #Show only distinct values of a column\n",
        "result = conn.execute(query).fetchall()\n",
        "for row in result:\n",
        "    print(row)\n"
      ]
    },
    {
      "cell_type": "code",
      "execution_count": null,
      "metadata": {
        "id": "bBcUtQ_GrM0T"
      },
      "outputs": [],
      "source": []
    },
    {
      "cell_type": "code",
      "execution_count": 14,
      "metadata": {
        "id": "yc3dH-m5hcdH"
      },
      "outputs": [],
      "source": [
        "import sqlalchemy as db\n",
        "\n",
        "# Step 1: Create a new SQLite database engine\n",
        "engine = db.create_engine('sqlite:///datacamp.sqlite')\n",
        "\n",
        "# Step 2: Establish connection\n",
        "conn = engine.connect()\n",
        "\n",
        "# Step 3: Initialize metadata\n",
        "metadata = db.MetaData()\n",
        "\n",
        "# Step 4: Define 'Student' table schema\n",
        "Student = db.Table('Student', metadata,\n",
        "    db.Column('Id', db.Integer(), primary_key=True, autoincrement=True),\n",
        "    db.Column('Name', db.String(255), nullable=False),\n",
        "    db.Column('Major', db.String(255), default=\"Math\"),\n",
        "    db.Column('Pass', db.Boolean(), default=True)\n",
        ")\n",
        "\n",
        "# Step 5: Create table in the database\n",
        "metadata.create_all(engine)\n"
      ]
    },
    {
      "cell_type": "code",
      "execution_count": 16,
      "metadata": {
        "colab": {
          "base_uri": "https://localhost:8080/"
        },
        "id": "2twsyP-OidjR",
        "outputId": "a6cd271d-0e6f-47de-c6c3-61de17def569"
      },
      "outputs": [
        {
          "name": "stdout",
          "output_type": "stream",
          "text": [
            "<sqlalchemy.engine.cursor.CursorResult object at 0x78a9127a4050>\n",
            "[(1, 'Matthew', 'English', True), (2, 'Matthew', 'English', True), (3, 'Matthew', 'English', True)]\n"
          ]
        }
      ],
      "source": [
        "# Insert one row\n",
        "query = db.insert(Student).values(Name='Matthew', Major='English', Pass=True)\n",
        "result = conn.execute(query)\n",
        "print(result)\n",
        "\n",
        "\n",
        "result = conn.execute(query)\n",
        "output = conn.execute(db.select(Student)).fetchall()\n",
        "print(output)"
      ]
    },
    {
      "cell_type": "code",
      "execution_count": 17,
      "metadata": {
        "colab": {
          "base_uri": "https://localhost:8080/"
        },
        "id": "AArAO6ymidml",
        "outputId": "90bffa6f-5473-4620-8d9e-fc378954085b"
      },
      "outputs": [
        {
          "name": "stdout",
          "output_type": "stream",
          "text": [
            "[(1, 'Matthew', 'English', True), (2, 'Matthew', 'English', True), (3, 'Matthew', 'English', True), (4, 'Nisha', 'Science', False), (5, 'Natasha', 'Math', True), (6, 'Ben', 'English', False)]\n"
          ]
        }
      ],
      "source": [
        "# Insert multiple rows\n",
        "query = db.insert(Student)\n",
        "values_list = [\n",
        "    {'Name': 'Nisha', 'Major': \"Science\", 'Pass': False},\n",
        "    {'Name': 'Natasha', 'Major': \"Math\", 'Pass': True},\n",
        "    {'Name': 'Ben', 'Major': \"English\", 'Pass': False}\n",
        "]\n",
        "\n",
        "result = conn.execute(query, values_list)\n",
        "\n",
        "# Check results\n",
        "output = conn.execute(db.select(Student)).fetchall()\n",
        "print(output)\n"
      ]
    },
    {
      "cell_type": "code",
      "execution_count": 18,
      "metadata": {
        "colab": {
          "base_uri": "https://localhost:8080/"
        },
        "id": "MCaS_l89idtP",
        "outputId": "995dca05-8d9a-49d0-f310-e2b01951f776"
      },
      "outputs": [
        {
          "name": "stdout",
          "output_type": "stream",
          "text": [
            "[('Matthew', 'English'), ('Matthew', 'English'), ('Matthew', 'English'), ('Natasha', 'Math')]\n"
          ]
        }
      ],
      "source": [
        "from sqlalchemy.sql import text\n",
        "\n",
        "query = text(\"SELECT Name, Major FROM Student WHERE Pass = True\")\n",
        "output = conn.execute(query)\n",
        "print(output.fetchall())\n"
      ]
    },
    {
      "cell_type": "code",
      "execution_count": 20,
      "metadata": {
        "colab": {
          "base_uri": "https://localhost:8080/"
        },
        "id": "dlhUdtZZN_v4",
        "outputId": "5065eb68-ace7-412b-f7dd-56bdf539c4f3"
      },
      "outputs": [
        {
          "name": "stdout",
          "output_type": "stream",
          "text": [
            "[('Matthew', 'English'), ('Matthew', 'English'), ('Matthew', 'English'), ('Natasha', 'Math')]\n"
          ]
        }
      ],
      "source": [
        "query = select(Student.c.Name, Student.c.Major).where(Student.c.Pass == True)\n",
        "output = conn.execute(query)\n",
        "print(output.fetchall())\n"
      ]
    },
    {
      "cell_type": "code",
      "execution_count": 21,
      "metadata": {
        "colab": {
          "base_uri": "https://localhost:8080/"
        },
        "id": "p0V_ci_XhmYO",
        "outputId": "35279077-47ef-43c3-ed4d-c6d2062cd536"
      },
      "outputs": [
        {
          "name": "stdout",
          "output_type": "stream",
          "text": [
            "[(1, 'Matthew', 'English', True), (2, 'Matthew', 'English', True), (3, 'Matthew', 'English', True), (6, 'Ben', 'English', False)]\n"
          ]
        }
      ],
      "source": [
        "query = Student.select().where(Student.columns.Major == 'English')\n",
        "output = conn.execute(query)\n",
        "print(output.fetchall())\n"
      ]
    },
    {
      "cell_type": "code",
      "execution_count": 22,
      "metadata": {
        "colab": {
          "base_uri": "https://localhost:8080/"
        },
        "id": "5dkgNCEmhmfR",
        "outputId": "4ec2dd2a-b3b5-4c82-86f0-990904929a09"
      },
      "outputs": [
        {
          "name": "stdout",
          "output_type": "stream",
          "text": [
            "[(1, 'Matthew', 'English', True), (2, 'Matthew', 'English', True), (3, 'Matthew', 'English', True), (4, 'Nisha', 'Science', False), (6, 'Ben', 'English', False)]\n"
          ]
        }
      ],
      "source": [
        "query = Student.select().where(\n",
        "    db.or_(\n",
        "        Student.columns.Major == 'English',\n",
        "        Student.columns.Pass == False\n",
        "    )\n",
        ")\n",
        "output = conn.execute(query)\n",
        "print(output.fetchall())\n"
      ]
    },
    {
      "cell_type": "code",
      "execution_count": 23,
      "metadata": {
        "colab": {
          "base_uri": "https://localhost:8080/"
        },
        "id": "s_I4zMw3xPzT",
        "outputId": "cfe53204-96ae-4254-8c55-934facc9a2fb"
      },
      "outputs": [
        {
          "data": {
            "text/plain": [
              "<sqlalchemy.sql.selectable.Select object at 0x78a913024a70>"
            ]
          },
          "execution_count": 23,
          "metadata": {},
          "output_type": "execute_result"
        }
      ],
      "source": [
        "# IN clause\n",
        "Student.select().where(Student.columns.Major.in_(['English', 'Math']))\n",
        "\n",
        "# AND/OR condition\n",
        "Student.select().where(\n",
        "    db.or_(\n",
        "        Student.columns.Major == 'English',\n",
        "        Student.columns.Pass == True\n",
        "    )\n",
        ")\n",
        "\n",
        "# ORDER BY\n",
        "Student.select().order_by(db.desc(Student.columns.Name))\n",
        "\n",
        "# LIMIT\n",
        "Student.select().limit(3)\n"
      ]
    },
    {
      "cell_type": "markdown",
      "metadata": {
        "id": "sk6kuiWPRF9G"
      },
      "source": [
        "Now look for students that have Science major and have passed."
      ]
    },
    {
      "cell_type": "code",
      "execution_count": 28,
      "metadata": {
        "colab": {
          "base_uri": "https://localhost:8080/"
        },
        "id": "Jpb4rVf0xR2F",
        "outputId": "c3dce773-145d-4a94-f4b0-57b84d3a2ce5"
      },
      "outputs": [
        {
          "name": "stdout",
          "output_type": "stream",
          "text": [
            "[(4, 'Nisha', 'Science', False)]\n",
            "[(4, 'Nisha', 'Science', 0)]\n"
          ]
        }
      ],
      "source": [
        "query = Student.select().where(\n",
        "    db.and_(\n",
        "        Student.columns.Major == 'Science',\n",
        "        Student.columns.Pass == False\n",
        "        )\n",
        ")\n",
        "output = conn.execute(query)\n",
        "print(output.fetchall())\n",
        "\n",
        "from sqlalchemy.sql import text\n",
        "\n",
        "query = text(\"SELECT * FROM Student WHERE Pass = False AND Major = 'Science'\")\n",
        "output = conn.execute(query)\n",
        "print(output.fetchall())"
      ]
    },
    {
      "cell_type": "code",
      "execution_count": 29,
      "metadata": {
        "colab": {
          "base_uri": "https://localhost:8080/"
        },
        "id": "0jboMDQrxzLH",
        "outputId": "ce4d612d-7d55-4283-b317-2358951b45f1"
      },
      "outputs": [
        {
          "name": "stdout",
          "output_type": "stream",
          "text": [
            "[(21,)]\n",
            "[(3.5,)]\n",
            "[(6,)]\n",
            "[(1,)]\n",
            "[(6,)]\n"
          ]
        }
      ],
      "source": [
        "from sqlalchemy import func, select\n",
        "\n",
        "# Sum of Id values\n",
        "sum_query = select(func.sum(Student.columns.Id))\n",
        "print(conn.execute(sum_query).fetchall())\n",
        "\n",
        "# Average of Id values\n",
        "avg_query = select(func.avg(Student.columns.Id))\n",
        "print(conn.execute(avg_query).fetchall())\n",
        "\n",
        "# Count of students\n",
        "count_query = select(func.count(Student.columns.Id))\n",
        "print(conn.execute(count_query).fetchall())\n",
        "\n",
        "# Minimum Id\n",
        "min_query = select(func.min(Student.columns.Id))\n",
        "print(conn.execute(min_query).fetchall())\n",
        "\n",
        "# Maximum Id\n",
        "max_query = select(func.max(Student.columns.Id))\n",
        "print(conn.execute(max_query).fetchall())\n"
      ]
    },
    {
      "cell_type": "code",
      "execution_count": 31,
      "metadata": {
        "colab": {
          "base_uri": "https://localhost:8080/"
        },
        "id": "4kY49Uf9x8sN",
        "outputId": "ac64ab95-eecc-465d-d309-5bc0b82d6580"
      },
      "outputs": [
        {
          "name": "stdout",
          "output_type": "stream",
          "text": [
            "[(2, False), (4, True)]\n"
          ]
        }
      ],
      "source": [
        "# Group by Pass status and count the IDs\n",
        "group_query = select(\n",
        "    func.count(Student.columns.Id),\n",
        "    Student.columns.Pass\n",
        ").group_by(Student.columns.Pass)\n",
        "\n",
        "print(conn.execute(group_query).fetchall())\n"
      ]
    },
    {
      "cell_type": "code",
      "execution_count": 33,
      "metadata": {
        "colab": {
          "base_uri": "https://localhost:8080/"
        },
        "id": "DeAR0hYeyAPk",
        "outputId": "0fc8c705-334f-459c-c919-8961ad690a5e"
      },
      "outputs": [
        {
          "name": "stdout",
          "output_type": "stream",
          "text": [
            "[('Matthew',), ('Nisha',), ('Natasha',), ('Ben',)]\n"
          ]
        }
      ],
      "source": [
        "# Correct way to select distinct values\n",
        "distinct_query = select(func.distinct(Student.columns.Name))\n",
        "print(conn.execute(distinct_query).fetchall())\n"
      ]
    },
    {
      "cell_type": "code",
      "execution_count": 34,
      "metadata": {
        "colab": {
          "base_uri": "https://localhost:8080/"
        },
        "id": "RVi3m7DfyJ70",
        "outputId": "e6b12d2f-b6b1-426f-ad2d-9018bd55cd66"
      },
      "outputs": [
        {
          "name": "stdout",
          "output_type": "stream",
          "text": [
            "[('English', False, 1), ('English', True, 3), ('Math', True, 1), ('Science', False, 1)]\n"
          ]
        }
      ],
      "source": [
        "from sqlalchemy import select, func\n",
        "\n",
        "# Count number of students per (Major, Pass) combination\n",
        "query = select(\n",
        "    Student.columns.Major,\n",
        "    Student.columns.Pass,\n",
        "    func.count(Student.columns.Id)\n",
        ").group_by(\n",
        "    Student.columns.Major,\n",
        "    Student.columns.Pass\n",
        ")\n",
        "\n",
        "# Execute and print result\n",
        "result = conn.execute(query).fetchall()\n",
        "print(result)\n"
      ]
    },
    {
      "cell_type": "code",
      "execution_count": 36,
      "metadata": {
        "colab": {
          "base_uri": "https://localhost:8080/"
        },
        "id": "KLhjSjquyBgp",
        "outputId": "5b2f625a-9546-4a8c-d882-cb90efcf7c64"
      },
      "outputs": [
        {
          "name": "stdout",
          "output_type": "stream",
          "text": [
            "[('English', 3), ('Math', 1)]\n"
          ]
        }
      ],
      "source": [
        "from sqlalchemy import select, func\n",
        "\n",
        "# Build the full query\n",
        "query = (\n",
        "    select(\n",
        "        Student.columns.Major,\n",
        "        func.count(Student.columns.Id).label(\"student_count\")\n",
        "    )\n",
        "    .where(Student.columns.Pass == True)  # WHERE Pass = True\n",
        "    .group_by(Student.columns.Major)      # GROUP BY Major\n",
        "    .having(func.count(Student.columns.Id) >= 1)  # HAVING COUNT(Id) > 1\n",
        ")\n",
        "\n",
        "# Execute the query\n",
        "result = conn.execute(query).fetchall()\n",
        "\n",
        "# Print the results\n",
        "print(result)\n"
      ]
    },
    {
      "cell_type": "code",
      "execution_count": 38,
      "metadata": {
        "colab": {
          "base_uri": "https://localhost:8080/"
        },
        "id": "a0A8Y_9_yXqR",
        "outputId": "277311ca-4cd6-4ebd-e94d-f653e2be0a7d"
      },
      "outputs": [
        {
          "name": "stdout",
          "output_type": "stream",
          "text": [
            "[('English', 3), ('Math', 1)]\n"
          ]
        }
      ],
      "source": [
        "from sqlalchemy.sql import text\n",
        "\n",
        "# Define the full SQL query as a string\n",
        "query = text(\"\"\"\n",
        "    SELECT Major, COUNT(Id) AS student_count\n",
        "    FROM Student\n",
        "    WHERE Pass = 1\n",
        "    GROUP BY Major\n",
        "    HAVING COUNT(Id) >= 1\n",
        "\"\"\")\n",
        "\n",
        "# Execute the query\n",
        "result = conn.execute(query).fetchall()\n",
        "\n",
        "# Print the result\n",
        "print(result)\n"
      ]
    },
    {
      "cell_type": "code",
      "execution_count": null,
      "metadata": {
        "id": "iPiYWuNY3aiL"
      },
      "outputs": [],
      "source": []
    },
    {
      "cell_type": "code",
      "execution_count": 39,
      "metadata": {
        "colab": {
          "base_uri": "https://localhost:8080/"
        },
        "id": "G5n2zE8v3Xs2",
        "outputId": "bd59743a-c5ec-4f06-99db-b6b4f6d1e9e9"
      },
      "outputs": [
        {
          "name": "stdout",
          "output_type": "stream",
          "text": [
            "   Id     Name    Major   Pass\n",
            "0   1  Matthew  English   True\n",
            "1   2  Matthew  English   True\n",
            "2   3  Matthew  English   True\n",
            "3   5  Natasha     Math   True\n",
            "4   6      Ben  English  False\n"
          ]
        }
      ],
      "source": [
        "import pandas as pd\n",
        "\n",
        "# Query students with English or Math major\n",
        "query = Student.select().where(Student.columns.Major.in_(['English', 'Math']))\n",
        "output = conn.execute(query)\n",
        "\n",
        "# Fetch results and convert to DataFrame\n",
        "results = output.fetchall()\n",
        "df = pd.DataFrame(results)\n",
        "\n",
        "# Assign column names from the query output\n",
        "df.columns = output.keys()\n",
        "\n",
        "# Display the DataFrame\n",
        "print(df)\n"
      ]
    },
    {
      "cell_type": "code",
      "execution_count": 41,
      "metadata": {
        "colab": {
          "base_uri": "https://localhost:8080/"
        },
        "id": "qH6Z3x673hs4",
        "outputId": "ad322f9e-8546-4cc0-a9a9-f1a5e8a4a38e"
      },
      "outputs": [
        {
          "name": "stdout",
          "output_type": "stream",
          "text": [
            "   Id     Name    Major   Pass\n",
            "0   1  Matthew  English   True\n",
            "1   2  Matthew  English   True\n",
            "2   3  Matthew  English   True\n",
            "3   5  Natasha     Math   True\n",
            "4   6      Ben  English  False\n",
            "<class 'pandas.core.frame.DataFrame'>\n",
            "RangeIndex: 5 entries, 0 to 4\n",
            "Data columns (total 4 columns):\n",
            " #   Column  Non-Null Count  Dtype \n",
            "---  ------  --------------  ----- \n",
            " 0   Id      5 non-null      int64 \n",
            " 1   Name    5 non-null      object\n",
            " 2   Major   5 non-null      object\n",
            " 3   Pass    5 non-null      bool  \n",
            "dtypes: bool(1), int64(1), object(2)\n",
            "memory usage: 257.0+ bytes\n"
          ]
        }
      ],
      "source": [
        "df = pd.read_sql(query, conn)\n",
        "print(df)\n",
        "\n",
        "df.info()"
      ]
    }
  ],
  "metadata": {
    "colab": {
      "provenance": []
    },
    "kernelspec": {
      "display_name": "jupyter_env",
      "language": "python",
      "name": "python3"
    },
    "language_info": {
      "codemirror_mode": {
        "name": "ipython",
        "version": 3
      },
      "file_extension": ".py",
      "mimetype": "text/x-python",
      "name": "python",
      "nbconvert_exporter": "python",
      "pygments_lexer": "ipython3",
      "version": "3.12.11"
    }
  },
  "nbformat": 4,
  "nbformat_minor": 0
}
