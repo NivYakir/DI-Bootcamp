{
 "cells": [
  {
   "cell_type": "code",
   "execution_count": 2,
   "id": "85e11944",
   "metadata": {},
   "outputs": [],
   "source": [
    "import pandas as pd\n"
   ]
  },
  {
   "cell_type": "code",
   "execution_count": null,
   "id": "28141a7b",
   "metadata": {},
   "outputs": [],
   "source": []
  },
  {
   "cell_type": "markdown",
   "id": "5028c16d",
   "metadata": {},
   "source": [
    "# Graph Types\n"
   ]
  },
  {
   "cell_type": "markdown",
   "id": "1ded04c5",
   "metadata": {},
   "source": [
    "* **Line Graphs**: Ideal for showing trends and changes over time. Often, the X-axis represents time\n",
    "* **Bar Graphs**: Effective for displaying differences in quantities among **discrete** categories\n",
    "* **Histrogram**: Greatly assists in showing the **distribution** of a continuous set. They help in understanding the underlying frequency distribution (normal, skewed, bimodal) of a set of continuous values\n",
    "* **Box Plot**: Used to show the distribution of quantitative data and highlight the median, quartiles, and outliers\n",
    "* **Scatter Plot**: Used to show the relationship between 2 quantitative variables\n",
    "* **Bubble Chart**: An extension of scatterplots, adding an additional dimension (size of the bubble) to represent another quantitative variable\n",
    "* **Tree Map**: Used to display hierarchical data as a set of nested rectangles, showing proportions\n",
    "* **Heatmap**: Used to show the magnitude of a phenomenon as color in two dimensions\n",
    "* **Wordcloud**: Visually represent text data, with the size of each word indicating the frequency or importance in the source text"
   ]
  },
  {
   "cell_type": "markdown",
   "id": "b2ef19b1",
   "metadata": {},
   "source": [
    "# Data Formatting"
   ]
  },
  {
   "cell_type": "code",
   "execution_count": 1,
   "id": "5f5c4b25",
   "metadata": {},
   "outputs": [
    {
     "name": "stdout",
     "output_type": "stream",
     "text": [
      "hello\n"
     ]
    }
   ],
   "source": [
    "# What you need to remember from it, from a given pandas dataframe df:\n",
    "df = pd.DataFrame({\n",
    "    'name' : 'Niv'\n",
    "})\n",
    "\n",
    "# to eliminate all missing values : \n",
    "df.dropna(inplace=True)\n",
    "\n",
    "# to check the data types : \n",
    "df.dtypes\n",
    "# convert a data type a to a data type b : \n",
    "df['column_name_a'] = df['column_name_a'].astype('b') # for example : df['Tweet Location'] = df['Tweet Location'].astype('string')).\n",
    "\n",
    "# to format all categorical data to lowercase : \n",
    "df['column_name'] = df['column_name'].str.lower()\n",
    "# to remove all whitespace : \n",
    "df['column_name'] = df['column_name'].str.replace(' ', '')\n",
    "\n",
    "# to remove leading whitespace in strings: \n",
    "df['column_name'] = df['column_name'].str.lstrip()\n",
    "\n",
    "# to remove trailing whitespace in strings: \n",
    "df['column_name'] = df['column_name'].str.rstrip()\n",
    "\n",
    "# to remove whitespace from both ends: \n",
    "df['column_name'] = df['column_name'].str.strip()\n",
    "\n",
    "# to list all unique values in a column : \n",
    "df['column_name'].unique()"
   ]
  }
 ],
 "metadata": {
  "kernelspec": {
   "display_name": "jupyter_env",
   "language": "python",
   "name": "python3"
  },
  "language_info": {
   "codemirror_mode": {
    "name": "ipython",
    "version": 3
   },
   "file_extension": ".py",
   "mimetype": "text/x-python",
   "name": "python",
   "nbconvert_exporter": "python",
   "pygments_lexer": "ipython3",
   "version": "3.12.11"
  }
 },
 "nbformat": 4,
 "nbformat_minor": 5
}
