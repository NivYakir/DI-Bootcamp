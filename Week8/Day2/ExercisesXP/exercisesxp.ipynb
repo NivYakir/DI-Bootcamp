{
 "cells": [
  {
   "cell_type": "markdown",
   "id": "0733d62c",
   "metadata": {},
   "source": [
    "# Loading the Dataset"
   ]
  },
  {
   "cell_type": "code",
   "execution_count": 2,
   "id": "5f18656f",
   "metadata": {},
   "outputs": [],
   "source": [
    "import numpy as np # linear algebra\n",
    "import pandas as pd # data manipulation and analysis\n",
    "import matplotlib.pyplot as plt # data visualization\n",
    "import seaborn as sns # data visualization\n",
    "sns.set_style('whitegrid') # set style for visualization\n",
    "import warnings # ignore warnings\n",
    "warnings.filterwarnings('ignore')\n",
    "import requests, zipfile, io\n",
    "from sklearn.impute import KNNImputer\n",
    "\n",
    "url = \"https://github.com/devtlv/Datasets-DA-Bootcamp-2-/raw/refs/heads/main/Week%204%20-%20Data%20Understanding/W4D4%20-%20Data%20Preprocessing%20&%20T/titanic%20dataset.zip\"  # replace with your link\n",
    "\n",
    "r = requests.get(url)\n",
    "z = zipfile.ZipFile(io.BytesIO(r.content))\n",
    "z.extractall(\"data\")"
   ]
  },
  {
   "cell_type": "markdown",
   "id": "e5dc2843",
   "metadata": {},
   "source": [
    "# Exercise 1: Duplicate Detection and Removal"
   ]
  },
  {
   "cell_type": "code",
   "execution_count": 3,
   "id": "e9afb223",
   "metadata": {},
   "outputs": [
    {
     "data": {
      "text/html": [
       "<div>\n",
       "<style scoped>\n",
       "    .dataframe tbody tr th:only-of-type {\n",
       "        vertical-align: middle;\n",
       "    }\n",
       "\n",
       "    .dataframe tbody tr th {\n",
       "        vertical-align: top;\n",
       "    }\n",
       "\n",
       "    .dataframe thead th {\n",
       "        text-align: right;\n",
       "    }\n",
       "</style>\n",
       "<table border=\"1\" class=\"dataframe\">\n",
       "  <thead>\n",
       "    <tr style=\"text-align: right;\">\n",
       "      <th></th>\n",
       "      <th>PassengerId</th>\n",
       "      <th>Survived</th>\n",
       "      <th>Pclass</th>\n",
       "      <th>Name</th>\n",
       "      <th>Sex</th>\n",
       "      <th>Age</th>\n",
       "      <th>SibSp</th>\n",
       "      <th>Parch</th>\n",
       "      <th>Ticket</th>\n",
       "      <th>Fare</th>\n",
       "      <th>Cabin</th>\n",
       "      <th>Embarked</th>\n",
       "    </tr>\n",
       "  </thead>\n",
       "  <tbody>\n",
       "    <tr>\n",
       "      <th>0</th>\n",
       "      <td>1</td>\n",
       "      <td>0</td>\n",
       "      <td>3</td>\n",
       "      <td>Braund, Mr. Owen Harris</td>\n",
       "      <td>male</td>\n",
       "      <td>22.0</td>\n",
       "      <td>1</td>\n",
       "      <td>0</td>\n",
       "      <td>A/5 21171</td>\n",
       "      <td>7.2500</td>\n",
       "      <td>NaN</td>\n",
       "      <td>S</td>\n",
       "    </tr>\n",
       "    <tr>\n",
       "      <th>1</th>\n",
       "      <td>2</td>\n",
       "      <td>1</td>\n",
       "      <td>1</td>\n",
       "      <td>Cumings, Mrs. John Bradley (Florence Briggs Th...</td>\n",
       "      <td>female</td>\n",
       "      <td>38.0</td>\n",
       "      <td>1</td>\n",
       "      <td>0</td>\n",
       "      <td>PC 17599</td>\n",
       "      <td>71.2833</td>\n",
       "      <td>C85</td>\n",
       "      <td>C</td>\n",
       "    </tr>\n",
       "    <tr>\n",
       "      <th>2</th>\n",
       "      <td>3</td>\n",
       "      <td>1</td>\n",
       "      <td>3</td>\n",
       "      <td>Heikkinen, Miss. Laina</td>\n",
       "      <td>female</td>\n",
       "      <td>26.0</td>\n",
       "      <td>0</td>\n",
       "      <td>0</td>\n",
       "      <td>STON/O2. 3101282</td>\n",
       "      <td>7.9250</td>\n",
       "      <td>NaN</td>\n",
       "      <td>S</td>\n",
       "    </tr>\n",
       "    <tr>\n",
       "      <th>3</th>\n",
       "      <td>4</td>\n",
       "      <td>1</td>\n",
       "      <td>1</td>\n",
       "      <td>Futrelle, Mrs. Jacques Heath (Lily May Peel)</td>\n",
       "      <td>female</td>\n",
       "      <td>35.0</td>\n",
       "      <td>1</td>\n",
       "      <td>0</td>\n",
       "      <td>113803</td>\n",
       "      <td>53.1000</td>\n",
       "      <td>C123</td>\n",
       "      <td>S</td>\n",
       "    </tr>\n",
       "    <tr>\n",
       "      <th>4</th>\n",
       "      <td>5</td>\n",
       "      <td>0</td>\n",
       "      <td>3</td>\n",
       "      <td>Allen, Mr. William Henry</td>\n",
       "      <td>male</td>\n",
       "      <td>35.0</td>\n",
       "      <td>0</td>\n",
       "      <td>0</td>\n",
       "      <td>373450</td>\n",
       "      <td>8.0500</td>\n",
       "      <td>NaN</td>\n",
       "      <td>S</td>\n",
       "    </tr>\n",
       "  </tbody>\n",
       "</table>\n",
       "</div>"
      ],
      "text/plain": [
       "   PassengerId  Survived  Pclass  \\\n",
       "0            1         0       3   \n",
       "1            2         1       1   \n",
       "2            3         1       3   \n",
       "3            4         1       1   \n",
       "4            5         0       3   \n",
       "\n",
       "                                                Name     Sex   Age  SibSp  \\\n",
       "0                            Braund, Mr. Owen Harris    male  22.0      1   \n",
       "1  Cumings, Mrs. John Bradley (Florence Briggs Th...  female  38.0      1   \n",
       "2                             Heikkinen, Miss. Laina  female  26.0      0   \n",
       "3       Futrelle, Mrs. Jacques Heath (Lily May Peel)  female  35.0      1   \n",
       "4                           Allen, Mr. William Henry    male  35.0      0   \n",
       "\n",
       "   Parch            Ticket     Fare Cabin Embarked  \n",
       "0      0         A/5 21171   7.2500   NaN        S  \n",
       "1      0          PC 17599  71.2833   C85        C  \n",
       "2      0  STON/O2. 3101282   7.9250   NaN        S  \n",
       "3      0            113803  53.1000  C123        S  \n",
       "4      0            373450   8.0500   NaN        S  "
      ]
     },
     "execution_count": 3,
     "metadata": {},
     "output_type": "execute_result"
    }
   ],
   "source": [
    "# Load the train.csv dataset\n",
    "titanic = pd.read_csv('./data/titanic dataset/train.csv')\n",
    "titanic.head()"
   ]
  },
  {
   "cell_type": "code",
   "execution_count": 4,
   "id": "f82f5525",
   "metadata": {},
   "outputs": [
    {
     "name": "stdout",
     "output_type": "stream",
     "text": [
      "<class 'pandas.core.frame.DataFrame'>\n",
      "RangeIndex: 891 entries, 0 to 890\n",
      "Data columns (total 12 columns):\n",
      " #   Column       Non-Null Count  Dtype  \n",
      "---  ------       --------------  -----  \n",
      " 0   PassengerId  891 non-null    int64  \n",
      " 1   Survived     891 non-null    int64  \n",
      " 2   Pclass       891 non-null    int64  \n",
      " 3   Name         891 non-null    object \n",
      " 4   Sex          891 non-null    object \n",
      " 5   Age          714 non-null    float64\n",
      " 6   SibSp        891 non-null    int64  \n",
      " 7   Parch        891 non-null    int64  \n",
      " 8   Ticket       891 non-null    object \n",
      " 9   Fare         891 non-null    float64\n",
      " 10  Cabin        204 non-null    object \n",
      " 11  Embarked     889 non-null    object \n",
      "dtypes: float64(2), int64(5), object(5)\n",
      "memory usage: 83.7+ KB\n"
     ]
    }
   ],
   "source": [
    "# Get additional info\n",
    "titanic.info()"
   ]
  },
  {
   "cell_type": "code",
   "execution_count": 5,
   "id": "8719977b",
   "metadata": {},
   "outputs": [
    {
     "name": "stdout",
     "output_type": "stream",
     "text": [
      "Number of duplicate rows (before): 1\n",
      "Number of duplicate rows (after): 0\n"
     ]
    }
   ],
   "source": [
    "# Add a duplicate of the first row to the end\n",
    "titanic = pd.concat([titanic, titanic.iloc[[0]]], ignore_index=True)\n",
    "\n",
    "# Determine if there are any duplicate rows based on all the columns\n",
    "duplicates = titanic.duplicated()\n",
    "print(\"Number of duplicate rows (before):\", duplicates.sum())\n",
    "\n",
    "# If there were duplicate rows\n",
    "titanic = titanic.drop_duplicates()\n",
    "print(\"Number of duplicate rows (after):\", titanic.duplicated().sum())"
   ]
  },
  {
   "cell_type": "markdown",
   "id": "74b71b4e",
   "metadata": {},
   "source": [
    "# Exercise 2: Handling Missing Values"
   ]
  },
  {
   "cell_type": "code",
   "execution_count": 6,
   "id": "9e457a61",
   "metadata": {},
   "outputs": [
    {
     "name": "stdout",
     "output_type": "stream",
     "text": [
      "Total Number of Rows: 891\n"
     ]
    },
    {
     "data": {
      "text/plain": [
       "PassengerId      0\n",
       "Survived         0\n",
       "Pclass           0\n",
       "Name             0\n",
       "Sex              0\n",
       "Age            177\n",
       "SibSp            0\n",
       "Parch            0\n",
       "Ticket           0\n",
       "Fare             0\n",
       "Cabin          687\n",
       "Embarked         2\n",
       "dtype: int64"
      ]
     },
     "execution_count": 6,
     "metadata": {},
     "output_type": "execute_result"
    }
   ],
   "source": [
    "# Identify columns with missing values\n",
    "print(\"Total Number of Rows:\", titanic.shape[0])\n",
    "titanic.isnull().sum()"
   ]
  },
  {
   "cell_type": "code",
   "execution_count": 7,
   "id": "c7c36a14",
   "metadata": {},
   "outputs": [
    {
     "data": {
      "text/plain": [
       "PassengerId      0\n",
       "Survived         0\n",
       "Pclass           0\n",
       "Name             0\n",
       "Sex              0\n",
       "Age            177\n",
       "SibSp            0\n",
       "Parch            0\n",
       "Fare             0\n",
       "dtype: int64"
      ]
     },
     "execution_count": 7,
     "metadata": {},
     "output_type": "execute_result"
    }
   ],
   "source": [
    "# Drop Unecessary Columns with Null Values\n",
    "titanic = titanic.drop(['Cabin', 'Ticket', 'Embarked'], axis=1, errors='ignore')\n",
    "titanic.isnull().sum()"
   ]
  },
  {
   "cell_type": "code",
   "execution_count": 8,
   "id": "f81a2b29",
   "metadata": {},
   "outputs": [],
   "source": [
    "# # Removal\n",
    "# titanic = titanic.dropna(subset=['Embarked'])\n",
    "\n",
    "# # Check\n",
    "# print(\"Total Rows:\", titanic.shape[0])\n",
    "# titanic.isnull().sum()"
   ]
  },
  {
   "cell_type": "code",
   "execution_count": 9,
   "id": "aa0d6c91",
   "metadata": {},
   "outputs": [
    {
     "name": "stdout",
     "output_type": "stream",
     "text": [
      "Number of Rows: 891\n"
     ]
    },
    {
     "data": {
      "text/plain": [
       "PassengerId    0\n",
       "Survived       0\n",
       "Pclass         0\n",
       "Name           0\n",
       "Sex            0\n",
       "Age            0\n",
       "SibSp          0\n",
       "Parch          0\n",
       "Fare           0\n",
       "dtype: int64"
      ]
     },
     "execution_count": 9,
     "metadata": {},
     "output_type": "execute_result"
    }
   ],
   "source": [
    "# Fill With a Constant Value\n",
    "titanic_avg_fill = titanic.copy()\n",
    "titanic_avg_fill['Age'] = titanic_avg_fill['Age'].fillna(titanic_avg_fill['Age'].mean())\n",
    "\n",
    "# Check\n",
    "print(\"Number of Rows:\", titanic_avg_fill.shape[0])\n",
    "titanic_avg_fill.isnull().sum()"
   ]
  },
  {
   "cell_type": "code",
   "execution_count": 10,
   "id": "849587d7",
   "metadata": {},
   "outputs": [
    {
     "name": "stdout",
     "output_type": "stream",
     "text": [
      "Number of Rows: 891\n",
      "<class 'pandas.core.frame.DataFrame'>\n",
      "Index: 891 entries, 0 to 890\n",
      "Data columns (total 9 columns):\n",
      " #   Column       Non-Null Count  Dtype  \n",
      "---  ------       --------------  -----  \n",
      " 0   PassengerId  891 non-null    float64\n",
      " 1   Survived     891 non-null    float64\n",
      " 2   Pclass       891 non-null    float64\n",
      " 3   Age          891 non-null    float64\n",
      " 4   SibSp        891 non-null    float64\n",
      " 5   Parch        891 non-null    float64\n",
      " 6   Fare         891 non-null    float64\n",
      " 7   Name         891 non-null    object \n",
      " 8   Sex          891 non-null    object \n",
      "dtypes: float64(7), object(2)\n",
      "memory usage: 69.6+ KB\n"
     ]
    }
   ],
   "source": [
    "# Fill with imputer\n",
    "imputer = KNNImputer(n_neighbors=3)\n",
    "\n",
    "# Separate numeric and non-numeric\n",
    "df_numeric = titanic.select_dtypes(include=['float64', 'int64'])\n",
    "df_non_numeric = titanic.drop(columns=df_numeric.columns)\n",
    "\n",
    "# Impute numeric part\n",
    "imputed_array = imputer.fit_transform(df_numeric)\n",
    "df_numeric_imputed = pd.DataFrame(imputed_array, columns=df_numeric.columns, index=df_numeric.index)\n",
    "\n",
    "# Combine back\n",
    "titanic_imputed = pd.concat([df_numeric_imputed, df_non_numeric], axis=1)\n",
    "\n",
    "# Check\n",
    "print(\"Number of Rows:\", titanic_imputed.shape[0])\n",
    "titanic_imputed.isnull().sum()\n",
    "\n",
    "# Since I prefer the imputation method over the constant, I will now set titanic equal to the imputed version\n",
    "titanic = titanic_imputed\n",
    "titanic.info()\n"
   ]
  },
  {
   "cell_type": "markdown",
   "id": "543939d2",
   "metadata": {},
   "source": [
    "# Exercise 3: Feature Engineering"
   ]
  },
  {
   "cell_type": "code",
   "execution_count": 11,
   "id": "b8162582",
   "metadata": {},
   "outputs": [
    {
     "name": "stdout",
     "output_type": "stream",
     "text": [
      "<class 'pandas.core.frame.DataFrame'>\n",
      "RangeIndex: 891 entries, 0 to 890\n",
      "Data columns (total 11 columns):\n",
      " #   Column       Non-Null Count  Dtype  \n",
      "---  ------       --------------  -----  \n",
      " 0   PassengerId  891 non-null    float64\n",
      " 1   Survived     891 non-null    float64\n",
      " 2   Pclass       891 non-null    float64\n",
      " 3   Age          891 non-null    float64\n",
      " 4   SibSp        891 non-null    float64\n",
      " 5   Parch        891 non-null    float64\n",
      " 6   Fare         891 non-null    float64\n",
      " 7   Name         891 non-null    object \n",
      " 8   Sex          891 non-null    object \n",
      " 9   Title        891 non-null    object \n",
      " 10  Family Size  891 non-null    float64\n",
      "dtypes: float64(8), object(3)\n",
      "memory usage: 76.7+ KB\n"
     ]
    }
   ],
   "source": [
    "# Create the new data you wish to merge into the titanic dataset\n",
    "merge_data = titanic[['PassengerId']].copy()\n",
    "merge_data['Title'] = titanic['Name'].str.extract(r',\\s*([^\\.]+)\\.', expand=False)\n",
    "merge_data['Title'] = merge_data['Title'].replace({\n",
    "    'Mlle': 'Miss',\n",
    "    'Ms': 'Miss',\n",
    "    'Mme': 'Mrs',\n",
    "    'Lady': 'Royalty',\n",
    "    'Countess': 'Royalty',\n",
    "    'Sir': 'Royalty',\n",
    "    'Don': 'Royalty',\n",
    "    'Jonkheer': 'Royalty',\n",
    "    'Capt': 'Officer',\n",
    "    'Col': 'Officer',\n",
    "    'Major': 'Officer',\n",
    "    'Dr': 'Officer',\n",
    "    'Rev': 'Officer'\n",
    "})\n",
    "merge_data['Family Size'] = titanic['SibSp'] + titanic['Parch'] + 1\n",
    "\n",
    "# merge_data['Title'] = titanic['Name'].str.split(',').str[1].str.split('.').str[0].str.strip() does the same as regex version\n",
    "\n",
    "# merge them into a new set\n",
    "titanic_merged = pd.merge(titanic, merge_data, on='PassengerId', how='left')\n",
    "titanic_merged.info()"
   ]
  },
  {
   "cell_type": "code",
   "execution_count": 12,
   "id": "2423bea9",
   "metadata": {},
   "outputs": [
    {
     "name": "stdout",
     "output_type": "stream",
     "text": [
      "<class 'pandas.core.frame.DataFrame'>\n",
      "RangeIndex: 891 entries, 0 to 890\n",
      "Data columns (total 17 columns):\n",
      " #   Column              Non-Null Count  Dtype  \n",
      "---  ------              --------------  -----  \n",
      " 0   PassengerId         891 non-null    float64\n",
      " 1   Survived            891 non-null    float64\n",
      " 2   Pclass              891 non-null    float64\n",
      " 3   Age                 891 non-null    float64\n",
      " 4   SibSp               891 non-null    float64\n",
      " 5   Parch               891 non-null    float64\n",
      " 6   Fare                891 non-null    float64\n",
      " 7   Name                891 non-null    object \n",
      " 8   Sex                 891 non-null    object \n",
      " 9   Family Size         891 non-null    float64\n",
      " 10  Encoded Sex         891 non-null    int64  \n",
      " 11  Title_Miss          891 non-null    bool   \n",
      " 12  Title_Mr            891 non-null    bool   \n",
      " 13  Title_Mrs           891 non-null    bool   \n",
      " 14  Title_Officer       891 non-null    bool   \n",
      " 15  Title_Royalty       891 non-null    bool   \n",
      " 16  Title_the Countess  891 non-null    bool   \n",
      "dtypes: bool(6), float64(8), int64(1), object(2)\n",
      "memory usage: 81.9+ KB\n"
     ]
    }
   ],
   "source": [
    "# Encoding\n",
    "from sklearn.preprocessing import LabelEncoder\n",
    "encoder = LabelEncoder()\n",
    "\n",
    "# Label Encoding 'Sex' Column\n",
    "titanic_merged['Encoded Sex'] = encoder.fit_transform(titanic_merged['Sex'])\n",
    "\n",
    "# One-Hot Encoding 'Titles Columns'\n",
    "titanic_merged = pd.get_dummies(titanic_merged, columns=['Title'], drop_first=True)\n",
    "\n",
    "titanic_merged.info()"
   ]
  },
  {
   "cell_type": "markdown",
   "id": "799c7b86",
   "metadata": {},
   "source": [
    "# Exercise 4: Outlier Detection and Handling"
   ]
  },
  {
   "cell_type": "markdown",
   "id": "0136f6a3",
   "metadata": {},
   "source": [
    "## Age Distribution"
   ]
  },
  {
   "cell_type": "code",
   "execution_count": 13,
   "id": "9a9679d1",
   "metadata": {},
   "outputs": [
    {
     "data": {
      "image/png": "[encoded data removed]",
      "text/plain": [
       "<Figure size 1000x400 with 1 Axes>"
      ]
     },
     "metadata": {},
     "output_type": "display_data"
    }
   ],
   "source": [
    "plt.figure(figsize=(10,4))\n",
    "sns.boxplot(x=titanic_merged.Age, orient='h')\n",
    "plt.title('Age Distribution', size=18)\n",
    "plt.xlabel('Age', size=12)\n",
    "plt.show()"
   ]
  },
  {
   "cell_type": "code",
   "execution_count": 30,
   "id": "a8a2d826",
   "metadata": {},
   "outputs": [
    {
     "name": "stdout",
     "output_type": "stream",
     "text": [
      "(891, 19)\n",
      "<class 'pandas.core.frame.DataFrame'>\n",
      "Index: 15 entries, 33 to 851\n",
      "Data columns (total 19 columns):\n",
      " #   Column              Non-Null Count  Dtype  \n",
      "---  ------              --------------  -----  \n",
      " 0   PassengerId         15 non-null     float64\n",
      " 1   Survived            15 non-null     float64\n",
      " 2   Pclass              15 non-null     float64\n",
      " 3   Age                 15 non-null     float64\n",
      " 4   SibSp               15 non-null     float64\n",
      " 5   Parch               15 non-null     float64\n",
      " 6   Fare                15 non-null     float64\n",
      " 7   Name                15 non-null     object \n",
      " 8   Sex                 15 non-null     object \n",
      " 9   Family Size         15 non-null     float64\n",
      " 10  Encoded Sex         15 non-null     int64  \n",
      " 11  Title_Miss          15 non-null     bool   \n",
      " 12  Title_Mr            15 non-null     bool   \n",
      " 13  Title_Mrs           15 non-null     bool   \n",
      " 14  Title_Officer       15 non-null     bool   \n",
      " 15  Title_Royalty       15 non-null     bool   \n",
      " 16  Title_the Countess  15 non-null     bool   \n",
      " 17  Age_Logged          15 non-null     float64\n",
      " 18  Fare_Logged         15 non-null     float64\n",
      "dtypes: bool(6), float64(10), int64(1), object(2)\n",
      "memory usage: 1.7+ KB\n"
     ]
    }
   ],
   "source": [
    "# Finding Outliers for Age\n",
    "Q1_age = titanic_merged['Age'].quantile(0.25)\n",
    "Q3_age = titanic_merged['Age'].quantile(0.75)\n",
    "IQR_age = Q3_age - Q1_age\n",
    "lower_bound_age = Q1_age - 1.5 * IQR_age\n",
    "upper_bound_age = Q3_age + 1.5 * IQR_age\n",
    "\n",
    "outliers_age = titanic_merged[(titanic_merged['Age'] < lower_bound_age) | (titanic_merged['Age'] > upper_bound_age)]\n",
    "print(titanic_merged.shape)\n",
    "outliers_age.info()\n"
   ]
  },
  {
   "cell_type": "code",
   "execution_count": 15,
   "id": "9d082728",
   "metadata": {},
   "outputs": [
    {
     "data": {
      "image/png": "[encoded data removed]",
      "text/plain": [
       "<Figure size 1000x400 with 1 Axes>"
      ]
     },
     "metadata": {},
     "output_type": "display_data"
    }
   ],
   "source": [
    "# Handling Outliers using Row Removal\n",
    "titanic_removed = titanic_merged[(titanic_merged['Age'] >= lower_bound_age) & (titanic_merged['Age'] <= upper_bound_age)]\n",
    "\n",
    "plt.figure(figsize=(10,4))\n",
    "sns.boxplot(x=titanic_removed.Age, orient='h')\n",
    "plt.title('Age Distribution', size=18)\n",
    "plt.xlabel('Age', size=12)\n",
    "plt.show()"
   ]
  },
  {
   "cell_type": "code",
   "execution_count": 29,
   "id": "06d007ef",
   "metadata": {},
   "outputs": [
    {
     "data": {
      "image/png": "[encoded data removed]",
      "text/plain": [
       "<Figure size 1000x400 with 1 Axes>"
      ]
     },
     "metadata": {},
     "output_type": "display_data"
    }
   ],
   "source": [
    "# Handling Outliers using Quantile Capping (0.98)\n",
    "titanic_capped = titanic_merged.copy()\n",
    "upper_cap_age = titanic_capped['Age'].quantile(0.98)\n",
    "\n",
    "# Apply quantile capping (replace values outside the bounds)\n",
    "titanic_capped['Age'] = titanic_capped['Age'].clip(upper=upper_cap_age)\n",
    "\n",
    "plt.figure(figsize=(10,4))\n",
    "sns.histplot(titanic_capped.Age)\n",
    "plt.title('Age Distribution', size=18)\n",
    "plt.xlabel('Age', size=12)\n",
    "plt.show()"
   ]
  },
  {
   "cell_type": "code",
   "execution_count": 17,
   "id": "8c9c5380",
   "metadata": {},
   "outputs": [
    {
     "data": {
      "image/png": "[encoded data removed]",
      "text/plain": [
       "<Figure size 1000x400 with 1 Axes>"
      ]
     },
     "metadata": {},
     "output_type": "display_data"
    }
   ],
   "source": [
    "# Handling Outliers by Log Transformation\n",
    "titanic_merged['Age_Logged'] = np.log1p(titanic_merged['Age'])\n",
    "\n",
    "plt.figure(figsize=(10,4))\n",
    "sns.histplot(x=titanic_merged.Age_Logged)\n",
    "plt.title('Age Distribution', size=18)\n",
    "plt.xlabel('Age Log', size=12)\n",
    "plt.show()"
   ]
  },
  {
   "cell_type": "markdown",
   "id": "dd186b18",
   "metadata": {},
   "source": [
    "## Fare Distribution"
   ]
  },
  {
   "cell_type": "code",
   "execution_count": 18,
   "id": "b55a55f6",
   "metadata": {},
   "outputs": [
    {
     "data": {
      "image/png": "[encoded data removed]",
      "text/plain": [
       "<Figure size 1000x400 with 1 Axes>"
      ]
     },
     "metadata": {},
     "output_type": "display_data"
    }
   ],
   "source": [
    "plt.figure(figsize=(10,4))\n",
    "sns.histplot(titanic_merged.Fare)\n",
    "plt.title('Fare Distribution', size=18)\n",
    "plt.xlabel('Fare', size=12)\n",
    "plt.show()"
   ]
  },
  {
   "cell_type": "code",
   "execution_count": 19,
   "id": "6041a559",
   "metadata": {},
   "outputs": [
    {
     "name": "stdout",
     "output_type": "stream",
     "text": [
      "<class 'pandas.core.frame.DataFrame'>\n",
      "Index: 116 entries, 1 to 879\n",
      "Data columns (total 18 columns):\n",
      " #   Column              Non-Null Count  Dtype  \n",
      "---  ------              --------------  -----  \n",
      " 0   PassengerId         116 non-null    float64\n",
      " 1   Survived            116 non-null    float64\n",
      " 2   Pclass              116 non-null    float64\n",
      " 3   Age                 116 non-null    float64\n",
      " 4   SibSp               116 non-null    float64\n",
      " 5   Parch               116 non-null    float64\n",
      " 6   Fare                116 non-null    float64\n",
      " 7   Name                116 non-null    object \n",
      " 8   Sex                 116 non-null    object \n",
      " 9   Family Size         116 non-null    float64\n",
      " 10  Encoded Sex         116 non-null    int64  \n",
      " 11  Title_Miss          116 non-null    bool   \n",
      " 12  Title_Mr            116 non-null    bool   \n",
      " 13  Title_Mrs           116 non-null    bool   \n",
      " 14  Title_Officer       116 non-null    bool   \n",
      " 15  Title_Royalty       116 non-null    bool   \n",
      " 16  Title_the Countess  116 non-null    bool   \n",
      " 17  Age_Logged          116 non-null    float64\n",
      "dtypes: bool(6), float64(9), int64(1), object(2)\n",
      "memory usage: 12.5+ KB\n"
     ]
    }
   ],
   "source": [
    "# Finding Outliers for Fare\n",
    "Q1_fare = titanic_merged['Fare'].quantile(0.25)\n",
    "Q3_fare = titanic_merged['Fare'].quantile(0.75)\n",
    "IQR_fare = Q3_fare - Q1_fare\n",
    "lower_bound_fare = Q1_fare - 1.5 * IQR_fare\n",
    "upper_bound_fare = Q3_fare + 1.5 * IQR_fare\n",
    "\n",
    "outliers_fare = titanic_merged[(titanic_merged['Fare'] < lower_bound_fare) | (titanic_merged['Fare'] > upper_bound_fare)]\n",
    "outliers_fare.info()"
   ]
  },
  {
   "cell_type": "code",
   "execution_count": 20,
   "id": "52f89b4d",
   "metadata": {},
   "outputs": [],
   "source": [
    "# Handling Outliers using Row Removal\n",
    "titanic_removed = titanic_merged[(titanic_merged['Fare'] >= lower_bound_fare) & (titanic_merged['Fare'] <= upper_bound_fare)]"
   ]
  },
  {
   "cell_type": "code",
   "execution_count": 21,
   "id": "0cd0b413",
   "metadata": {},
   "outputs": [
    {
     "data": {
      "image/png": "[encoded data removed]",
      "text/plain": [
       "<Figure size 1000x400 with 1 Axes>"
      ]
     },
     "metadata": {},
     "output_type": "display_data"
    }
   ],
   "source": [
    "# Handling Outliers using Quantile Capping (0.98)\n",
    "upper_cap_fare = titanic_merged['Fare'].quantile(0.98)\n",
    "titanic_capped['Fare'] = titanic_merged['Fare'].clip(upper=upper_cap_fare)\n",
    "\n",
    "plt.figure(figsize=(10,4))\n",
    "sns.histplot(titanic_capped.Fare)\n",
    "plt.title('Fare Distribution', size=18)\n",
    "plt.xlabel('Fare', size=12)\n",
    "plt.show()\n"
   ]
  },
  {
   "cell_type": "code",
   "execution_count": 22,
   "id": "1dfab236",
   "metadata": {},
   "outputs": [
    {
     "data": {
      "image/png": "[encoded data removed]",
      "text/plain": [
       "<Figure size 1000x400 with 1 Axes>"
      ]
     },
     "metadata": {},
     "output_type": "display_data"
    }
   ],
   "source": [
    "# Handling Outliers using Log Transformation\n",
    "titanic_merged['Fare_Logged'] = np.log1p(titanic_merged['Fare'])\n",
    "\n",
    "plt.figure(figsize=(10,4))\n",
    "sns.histplot(titanic_merged.Fare_Logged)\n",
    "plt.title('Fare Distribution', size=18)\n",
    "plt.xlabel('Fare', size=12)\n",
    "plt.show()\n"
   ]
  },
  {
   "cell_type": "markdown",
   "id": "1c424ae4",
   "metadata": {},
   "source": [
    "## Updating Dataset with outliers from Age/Fare removed"
   ]
  },
  {
   "cell_type": "code",
   "execution_count": 23,
   "id": "785d16ee",
   "metadata": {},
   "outputs": [
    {
     "data": {
      "text/html": [
       "<div>\n",
       "<style scoped>\n",
       "    .dataframe tbody tr th:only-of-type {\n",
       "        vertical-align: middle;\n",
       "    }\n",
       "\n",
       "    .dataframe tbody tr th {\n",
       "        vertical-align: top;\n",
       "    }\n",
       "\n",
       "    .dataframe thead th {\n",
       "        text-align: right;\n",
       "    }\n",
       "</style>\n",
       "<table border=\"1\" class=\"dataframe\">\n",
       "  <thead>\n",
       "    <tr style=\"text-align: right;\">\n",
       "      <th></th>\n",
       "      <th>PassengerId</th>\n",
       "      <th>Survived</th>\n",
       "      <th>Pclass</th>\n",
       "      <th>Age</th>\n",
       "      <th>SibSp</th>\n",
       "      <th>Parch</th>\n",
       "      <th>Fare</th>\n",
       "      <th>Family Size</th>\n",
       "      <th>Encoded Sex</th>\n",
       "      <th>Age_Logged</th>\n",
       "      <th>Fare_Logged</th>\n",
       "    </tr>\n",
       "  </thead>\n",
       "  <tbody>\n",
       "    <tr>\n",
       "      <th>count</th>\n",
       "      <td>891.000000</td>\n",
       "      <td>891.000000</td>\n",
       "      <td>891.000000</td>\n",
       "      <td>891.000000</td>\n",
       "      <td>891.000000</td>\n",
       "      <td>891.000000</td>\n",
       "      <td>891.000000</td>\n",
       "      <td>891.000000</td>\n",
       "      <td>891.000000</td>\n",
       "      <td>891.000000</td>\n",
       "      <td>891.000000</td>\n",
       "    </tr>\n",
       "    <tr>\n",
       "      <th>mean</th>\n",
       "      <td>446.000000</td>\n",
       "      <td>0.383838</td>\n",
       "      <td>2.308642</td>\n",
       "      <td>29.668324</td>\n",
       "      <td>0.523008</td>\n",
       "      <td>0.381594</td>\n",
       "      <td>30.678483</td>\n",
       "      <td>1.904602</td>\n",
       "      <td>0.647587</td>\n",
       "      <td>3.285207</td>\n",
       "      <td>2.962246</td>\n",
       "    </tr>\n",
       "    <tr>\n",
       "      <th>std</th>\n",
       "      <td>257.353842</td>\n",
       "      <td>0.486592</td>\n",
       "      <td>0.836071</td>\n",
       "      <td>13.322119</td>\n",
       "      <td>1.102743</td>\n",
       "      <td>0.806057</td>\n",
       "      <td>39.904946</td>\n",
       "      <td>1.613459</td>\n",
       "      <td>0.477990</td>\n",
       "      <td>0.627212</td>\n",
       "      <td>0.969048</td>\n",
       "    </tr>\n",
       "    <tr>\n",
       "      <th>min</th>\n",
       "      <td>1.000000</td>\n",
       "      <td>0.000000</td>\n",
       "      <td>1.000000</td>\n",
       "      <td>0.420000</td>\n",
       "      <td>0.000000</td>\n",
       "      <td>0.000000</td>\n",
       "      <td>0.000000</td>\n",
       "      <td>1.000000</td>\n",
       "      <td>0.000000</td>\n",
       "      <td>0.350657</td>\n",
       "      <td>0.000000</td>\n",
       "    </tr>\n",
       "    <tr>\n",
       "      <th>25%</th>\n",
       "      <td>223.500000</td>\n",
       "      <td>0.000000</td>\n",
       "      <td>2.000000</td>\n",
       "      <td>21.000000</td>\n",
       "      <td>0.000000</td>\n",
       "      <td>0.000000</td>\n",
       "      <td>7.910400</td>\n",
       "      <td>1.000000</td>\n",
       "      <td>0.000000</td>\n",
       "      <td>3.091042</td>\n",
       "      <td>2.187218</td>\n",
       "    </tr>\n",
       "    <tr>\n",
       "      <th>50%</th>\n",
       "      <td>446.000000</td>\n",
       "      <td>0.000000</td>\n",
       "      <td>3.000000</td>\n",
       "      <td>28.500000</td>\n",
       "      <td>0.000000</td>\n",
       "      <td>0.000000</td>\n",
       "      <td>14.454200</td>\n",
       "      <td>1.000000</td>\n",
       "      <td>1.000000</td>\n",
       "      <td>3.384390</td>\n",
       "      <td>2.737881</td>\n",
       "    </tr>\n",
       "    <tr>\n",
       "      <th>75%</th>\n",
       "      <td>668.500000</td>\n",
       "      <td>1.000000</td>\n",
       "      <td>3.000000</td>\n",
       "      <td>37.666667</td>\n",
       "      <td>1.000000</td>\n",
       "      <td>0.000000</td>\n",
       "      <td>31.000000</td>\n",
       "      <td>2.000000</td>\n",
       "      <td>1.000000</td>\n",
       "      <td>3.654978</td>\n",
       "      <td>3.465736</td>\n",
       "    </tr>\n",
       "    <tr>\n",
       "      <th>max</th>\n",
       "      <td>891.000000</td>\n",
       "      <td>1.000000</td>\n",
       "      <td>3.000000</td>\n",
       "      <td>65.000000</td>\n",
       "      <td>8.000000</td>\n",
       "      <td>6.000000</td>\n",
       "      <td>211.337500</td>\n",
       "      <td>11.000000</td>\n",
       "      <td>1.000000</td>\n",
       "      <td>4.394449</td>\n",
       "      <td>6.240917</td>\n",
       "    </tr>\n",
       "  </tbody>\n",
       "</table>\n",
       "</div>"
      ],
      "text/plain": [
       "       PassengerId    Survived      Pclass         Age       SibSp  \\\n",
       "count   891.000000  891.000000  891.000000  891.000000  891.000000   \n",
       "mean    446.000000    0.383838    2.308642   29.668324    0.523008   \n",
       "std     257.353842    0.486592    0.836071   13.322119    1.102743   \n",
       "min       1.000000    0.000000    1.000000    0.420000    0.000000   \n",
       "25%     223.500000    0.000000    2.000000   21.000000    0.000000   \n",
       "50%     446.000000    0.000000    3.000000   28.500000    0.000000   \n",
       "75%     668.500000    1.000000    3.000000   37.666667    1.000000   \n",
       "max     891.000000    1.000000    3.000000   65.000000    8.000000   \n",
       "\n",
       "            Parch        Fare  Family Size  Encoded Sex  Age_Logged  \\\n",
       "count  891.000000  891.000000   891.000000   891.000000  891.000000   \n",
       "mean     0.381594   30.678483     1.904602     0.647587    3.285207   \n",
       "std      0.806057   39.904946     1.613459     0.477990    0.627212   \n",
       "min      0.000000    0.000000     1.000000     0.000000    0.350657   \n",
       "25%      0.000000    7.910400     1.000000     0.000000    3.091042   \n",
       "50%      0.000000   14.454200     1.000000     1.000000    3.384390   \n",
       "75%      0.000000   31.000000     2.000000     1.000000    3.654978   \n",
       "max      6.000000  211.337500    11.000000     1.000000    4.394449   \n",
       "\n",
       "       Fare_Logged  \n",
       "count   891.000000  \n",
       "mean      2.962246  \n",
       "std       0.969048  \n",
       "min       0.000000  \n",
       "25%       2.187218  \n",
       "50%       2.737881  \n",
       "75%       3.465736  \n",
       "max       6.240917  "
      ]
     },
     "execution_count": 23,
     "metadata": {},
     "output_type": "execute_result"
    }
   ],
   "source": [
    "# Create a Copy to not destroy the partially cleaned data\n",
    "titanic_cleaned = titanic_merged.copy()\n",
    "\n",
    "# Quantile Capping was the Best Solution for handling Age and Fare Outliers\n",
    "titanic_cleaned['Age'] = titanic_cleaned['Age'].clip(upper=upper_cap_age)\n",
    "titanic_cleaned['Fare'] = titanic_cleaned['Fare'].clip(upper=upper_cap_fare)\n",
    "\n",
    "# Check Cleaned Columns\n",
    "titanic_cleaned.describe()"
   ]
  },
  {
   "cell_type": "markdown",
   "id": "30f203f9",
   "metadata": {},
   "source": [
    "# Exercise 5: Data Standardization and Normalization"
   ]
  },
  {
   "cell_type": "code",
   "execution_count": 24,
   "id": "16e702a4",
   "metadata": {},
   "outputs": [
    {
     "data": {
      "text/html": [
       "<div>\n",
       "<style scoped>\n",
       "    .dataframe tbody tr th:only-of-type {\n",
       "        vertical-align: middle;\n",
       "    }\n",
       "\n",
       "    .dataframe tbody tr th {\n",
       "        vertical-align: top;\n",
       "    }\n",
       "\n",
       "    .dataframe thead th {\n",
       "        text-align: right;\n",
       "    }\n",
       "</style>\n",
       "<table border=\"1\" class=\"dataframe\">\n",
       "  <thead>\n",
       "    <tr style=\"text-align: right;\">\n",
       "      <th></th>\n",
       "      <th>PassengerId</th>\n",
       "      <th>Survived</th>\n",
       "      <th>Pclass</th>\n",
       "      <th>Age</th>\n",
       "      <th>SibSp</th>\n",
       "      <th>Parch</th>\n",
       "      <th>Fare</th>\n",
       "      <th>Family Size</th>\n",
       "      <th>Encoded Sex</th>\n",
       "      <th>Age_Logged</th>\n",
       "      <th>Fare_Logged</th>\n",
       "      <th>Age_Scaled</th>\n",
       "      <th>Fare_Scaled</th>\n",
       "    </tr>\n",
       "  </thead>\n",
       "  <tbody>\n",
       "    <tr>\n",
       "      <th>count</th>\n",
       "      <td>891.000000</td>\n",
       "      <td>891.000000</td>\n",
       "      <td>891.000000</td>\n",
       "      <td>891.000000</td>\n",
       "      <td>891.000000</td>\n",
       "      <td>891.000000</td>\n",
       "      <td>891.000000</td>\n",
       "      <td>891.000000</td>\n",
       "      <td>891.000000</td>\n",
       "      <td>891.000000</td>\n",
       "      <td>891.000000</td>\n",
       "      <td>8.910000e+02</td>\n",
       "      <td>891.000000</td>\n",
       "    </tr>\n",
       "    <tr>\n",
       "      <th>mean</th>\n",
       "      <td>446.000000</td>\n",
       "      <td>0.383838</td>\n",
       "      <td>2.308642</td>\n",
       "      <td>29.668324</td>\n",
       "      <td>0.523008</td>\n",
       "      <td>0.381594</td>\n",
       "      <td>30.678483</td>\n",
       "      <td>1.904602</td>\n",
       "      <td>0.647587</td>\n",
       "      <td>3.285207</td>\n",
       "      <td>2.962246</td>\n",
       "      <td>-1.794300e-16</td>\n",
       "      <td>0.145163</td>\n",
       "    </tr>\n",
       "    <tr>\n",
       "      <th>std</th>\n",
       "      <td>257.353842</td>\n",
       "      <td>0.486592</td>\n",
       "      <td>0.836071</td>\n",
       "      <td>13.322119</td>\n",
       "      <td>1.102743</td>\n",
       "      <td>0.806057</td>\n",
       "      <td>39.904946</td>\n",
       "      <td>1.613459</td>\n",
       "      <td>0.477990</td>\n",
       "      <td>0.627212</td>\n",
       "      <td>0.969048</td>\n",
       "      <td>1.000562e+00</td>\n",
       "      <td>0.188821</td>\n",
       "    </tr>\n",
       "    <tr>\n",
       "      <th>min</th>\n",
       "      <td>1.000000</td>\n",
       "      <td>0.000000</td>\n",
       "      <td>1.000000</td>\n",
       "      <td>0.420000</td>\n",
       "      <td>0.000000</td>\n",
       "      <td>0.000000</td>\n",
       "      <td>0.000000</td>\n",
       "      <td>1.000000</td>\n",
       "      <td>0.000000</td>\n",
       "      <td>0.350657</td>\n",
       "      <td>0.000000</td>\n",
       "      <td>-2.196704e+00</td>\n",
       "      <td>0.000000</td>\n",
       "    </tr>\n",
       "    <tr>\n",
       "      <th>25%</th>\n",
       "      <td>223.500000</td>\n",
       "      <td>0.000000</td>\n",
       "      <td>2.000000</td>\n",
       "      <td>21.000000</td>\n",
       "      <td>0.000000</td>\n",
       "      <td>0.000000</td>\n",
       "      <td>7.910400</td>\n",
       "      <td>1.000000</td>\n",
       "      <td>0.000000</td>\n",
       "      <td>3.091042</td>\n",
       "      <td>2.187218</td>\n",
       "      <td>-6.510370e-01</td>\n",
       "      <td>0.037430</td>\n",
       "    </tr>\n",
       "    <tr>\n",
       "      <th>50%</th>\n",
       "      <td>446.000000</td>\n",
       "      <td>0.000000</td>\n",
       "      <td>3.000000</td>\n",
       "      <td>28.500000</td>\n",
       "      <td>0.000000</td>\n",
       "      <td>0.000000</td>\n",
       "      <td>14.454200</td>\n",
       "      <td>1.000000</td>\n",
       "      <td>1.000000</td>\n",
       "      <td>3.384390</td>\n",
       "      <td>2.737881</td>\n",
       "      <td>-8.774731e-02</td>\n",
       "      <td>0.068394</td>\n",
       "    </tr>\n",
       "    <tr>\n",
       "      <th>75%</th>\n",
       "      <td>668.500000</td>\n",
       "      <td>1.000000</td>\n",
       "      <td>3.000000</td>\n",
       "      <td>37.666667</td>\n",
       "      <td>1.000000</td>\n",
       "      <td>0.000000</td>\n",
       "      <td>31.000000</td>\n",
       "      <td>2.000000</td>\n",
       "      <td>1.000000</td>\n",
       "      <td>3.654978</td>\n",
       "      <td>3.465736</td>\n",
       "      <td>6.007179e-01</td>\n",
       "      <td>0.146685</td>\n",
       "    </tr>\n",
       "    <tr>\n",
       "      <th>max</th>\n",
       "      <td>891.000000</td>\n",
       "      <td>1.000000</td>\n",
       "      <td>3.000000</td>\n",
       "      <td>65.000000</td>\n",
       "      <td>8.000000</td>\n",
       "      <td>6.000000</td>\n",
       "      <td>211.337500</td>\n",
       "      <td>11.000000</td>\n",
       "      <td>1.000000</td>\n",
       "      <td>4.394449</td>\n",
       "      <td>6.240917</td>\n",
       "      <td>2.653596e+00</td>\n",
       "      <td>1.000000</td>\n",
       "    </tr>\n",
       "  </tbody>\n",
       "</table>\n",
       "</div>"
      ],
      "text/plain": [
       "       PassengerId    Survived      Pclass         Age       SibSp  \\\n",
       "count   891.000000  891.000000  891.000000  891.000000  891.000000   \n",
       "mean    446.000000    0.383838    2.308642   29.668324    0.523008   \n",
       "std     257.353842    0.486592    0.836071   13.322119    1.102743   \n",
       "min       1.000000    0.000000    1.000000    0.420000    0.000000   \n",
       "25%     223.500000    0.000000    2.000000   21.000000    0.000000   \n",
       "50%     446.000000    0.000000    3.000000   28.500000    0.000000   \n",
       "75%     668.500000    1.000000    3.000000   37.666667    1.000000   \n",
       "max     891.000000    1.000000    3.000000   65.000000    8.000000   \n",
       "\n",
       "            Parch        Fare  Family Size  Encoded Sex  Age_Logged  \\\n",
       "count  891.000000  891.000000   891.000000   891.000000  891.000000   \n",
       "mean     0.381594   30.678483     1.904602     0.647587    3.285207   \n",
       "std      0.806057   39.904946     1.613459     0.477990    0.627212   \n",
       "min      0.000000    0.000000     1.000000     0.000000    0.350657   \n",
       "25%      0.000000    7.910400     1.000000     0.000000    3.091042   \n",
       "50%      0.000000   14.454200     1.000000     1.000000    3.384390   \n",
       "75%      0.000000   31.000000     2.000000     1.000000    3.654978   \n",
       "max      6.000000  211.337500    11.000000     1.000000    4.394449   \n",
       "\n",
       "       Fare_Logged    Age_Scaled  Fare_Scaled  \n",
       "count   891.000000  8.910000e+02   891.000000  \n",
       "mean      2.962246 -1.794300e-16     0.145163  \n",
       "std       0.969048  1.000562e+00     0.188821  \n",
       "min       0.000000 -2.196704e+00     0.000000  \n",
       "25%       2.187218 -6.510370e-01     0.037430  \n",
       "50%       2.737881 -8.774731e-02     0.068394  \n",
       "75%       3.465736  6.007179e-01     0.146685  \n",
       "max       6.240917  2.653596e+00     1.000000  "
      ]
     },
     "execution_count": 24,
     "metadata": {},
     "output_type": "execute_result"
    }
   ],
   "source": [
    "from sklearn.preprocessing import StandardScaler, MinMaxScaler\n",
    "scaler_std = StandardScaler()\n",
    "scaler_mm = MinMaxScaler()\n",
    "\n",
    "# Use StandardScaler (mean = 0, std = 1) for normally distributed features\n",
    "titanic_cleaned['Age_Scaled'] = scaler_std.fit_transform(titanic_cleaned[['Age']])\n",
    "\n",
    "# Use MinMaxScaler (range [0, 1]) for features that are skewed or bounded\n",
    "titanic_cleaned['Fare_Scaled'] = scaler_mm.fit_transform(titanic_cleaned[['Fare']])\n",
    "\n",
    "# Check\n",
    "titanic_cleaned.describe()\n"
   ]
  },
  {
   "cell_type": "markdown",
   "id": "297b044c",
   "metadata": {},
   "source": [
    "# Exercise 6: Feature Encoding"
   ]
  },
  {
   "cell_type": "markdown",
   "id": "3d11478f",
   "metadata": {},
   "source": [
    "Feature encoding was already completed in Exercise 3"
   ]
  },
  {
   "cell_type": "code",
   "execution_count": 25,
   "id": "9b876e46",
   "metadata": {},
   "outputs": [],
   "source": [
    "# # Feature Encoding was already completed in Exercise 3\n",
    "# # Encoding\n",
    "# from sklearn.preprocessing import LabelEncoder\n",
    "# encoder = LabelEncoder()\n",
    "\n",
    "# # Label Encoding 'Sex' Column\n",
    "# titanic_merged['Encoded Sex'] = encoder.fit_transform(titanic_merged['Sex'])\n",
    "\n",
    "# # One-Hot Encoding 'Titles Columns'\n",
    "# titanic_merged = pd.get_dummies(titanic_merged, columns=['Title'], drop_first=True)\n",
    "\n",
    "# titanic_merged.info()"
   ]
  },
  {
   "cell_type": "markdown",
   "id": "508d2a36",
   "metadata": {},
   "source": [
    "# Exercise 7: Data Transforming For Age Feature"
   ]
  },
  {
   "cell_type": "code",
   "execution_count": 26,
   "id": "34ae727a",
   "metadata": {},
   "outputs": [
    {
     "data": {
      "text/plain": [
       "Age_bins\n",
       "Child      71\n",
       "Teen       80\n",
       "Adult     718\n",
       "Senior     22\n",
       "Name: count, dtype: int64"
      ]
     },
     "execution_count": 26,
     "metadata": {},
     "output_type": "execute_result"
    }
   ],
   "source": [
    "# Use pd.cut() to create bins for life stages (e.g. child, teen, adult, senior)\n",
    "age_bins = [0, 12, 18, 60, 100]\n",
    "age_labels = ['Child', 'Teen', 'Adult', 'Senior']\n",
    "\n",
    "titanic_cleaned['Age_bins'] = pd.cut(titanic_cleaned['Age'], bins=age_bins, labels=age_labels, right=True)\n",
    "\n",
    "titanic_cleaned['Age_bins'].value_counts(sort=False)"
   ]
  },
  {
   "cell_type": "code",
   "execution_count": 27,
   "id": "5ff81359",
   "metadata": {},
   "outputs": [
    {
     "data": {
      "text/html": [
       "<div>\n",
       "<style scoped>\n",
       "    .dataframe tbody tr th:only-of-type {\n",
       "        vertical-align: middle;\n",
       "    }\n",
       "\n",
       "    .dataframe tbody tr th {\n",
       "        vertical-align: top;\n",
       "    }\n",
       "\n",
       "    .dataframe thead th {\n",
       "        text-align: right;\n",
       "    }\n",
       "</style>\n",
       "<table border=\"1\" class=\"dataframe\">\n",
       "  <thead>\n",
       "    <tr style=\"text-align: right;\">\n",
       "      <th></th>\n",
       "      <th>PassengerId</th>\n",
       "      <th>Survived</th>\n",
       "      <th>Pclass</th>\n",
       "      <th>Age</th>\n",
       "      <th>SibSp</th>\n",
       "      <th>Parch</th>\n",
       "      <th>Fare</th>\n",
       "      <th>Name</th>\n",
       "      <th>Sex</th>\n",
       "      <th>Family Size</th>\n",
       "      <th>...</th>\n",
       "      <th>Title_the Countess</th>\n",
       "      <th>Age_Logged</th>\n",
       "      <th>Fare_Logged</th>\n",
       "      <th>Age_Scaled</th>\n",
       "      <th>Fare_Scaled</th>\n",
       "      <th>Age_bins</th>\n",
       "      <th>Age_Child</th>\n",
       "      <th>Age_Teen</th>\n",
       "      <th>Age_Adult</th>\n",
       "      <th>Age_Senior</th>\n",
       "    </tr>\n",
       "  </thead>\n",
       "  <tbody>\n",
       "    <tr>\n",
       "      <th>0</th>\n",
       "      <td>1.0</td>\n",
       "      <td>0.0</td>\n",
       "      <td>3.0</td>\n",
       "      <td>22.0</td>\n",
       "      <td>1.0</td>\n",
       "      <td>0.0</td>\n",
       "      <td>7.2500</td>\n",
       "      <td>Braund, Mr. Owen Harris</td>\n",
       "      <td>male</td>\n",
       "      <td>2.0</td>\n",
       "      <td>...</td>\n",
       "      <td>False</td>\n",
       "      <td>3.135494</td>\n",
       "      <td>2.110213</td>\n",
       "      <td>-0.575932</td>\n",
       "      <td>0.034305</td>\n",
       "      <td>Adult</td>\n",
       "      <td>False</td>\n",
       "      <td>False</td>\n",
       "      <td>True</td>\n",
       "      <td>False</td>\n",
       "    </tr>\n",
       "    <tr>\n",
       "      <th>1</th>\n",
       "      <td>2.0</td>\n",
       "      <td>1.0</td>\n",
       "      <td>1.0</td>\n",
       "      <td>38.0</td>\n",
       "      <td>1.0</td>\n",
       "      <td>0.0</td>\n",
       "      <td>71.2833</td>\n",
       "      <td>Cumings, Mrs. John Bradley (Florence Briggs Th...</td>\n",
       "      <td>female</td>\n",
       "      <td>2.0</td>\n",
       "      <td>...</td>\n",
       "      <td>False</td>\n",
       "      <td>3.663562</td>\n",
       "      <td>4.280593</td>\n",
       "      <td>0.625753</td>\n",
       "      <td>0.337296</td>\n",
       "      <td>Adult</td>\n",
       "      <td>False</td>\n",
       "      <td>False</td>\n",
       "      <td>True</td>\n",
       "      <td>False</td>\n",
       "    </tr>\n",
       "    <tr>\n",
       "      <th>2</th>\n",
       "      <td>3.0</td>\n",
       "      <td>1.0</td>\n",
       "      <td>3.0</td>\n",
       "      <td>26.0</td>\n",
       "      <td>0.0</td>\n",
       "      <td>0.0</td>\n",
       "      <td>7.9250</td>\n",
       "      <td>Heikkinen, Miss. Laina</td>\n",
       "      <td>female</td>\n",
       "      <td>1.0</td>\n",
       "      <td>...</td>\n",
       "      <td>False</td>\n",
       "      <td>3.295837</td>\n",
       "      <td>2.188856</td>\n",
       "      <td>-0.275511</td>\n",
       "      <td>0.037499</td>\n",
       "      <td>Adult</td>\n",
       "      <td>False</td>\n",
       "      <td>False</td>\n",
       "      <td>True</td>\n",
       "      <td>False</td>\n",
       "    </tr>\n",
       "    <tr>\n",
       "      <th>3</th>\n",
       "      <td>4.0</td>\n",
       "      <td>1.0</td>\n",
       "      <td>1.0</td>\n",
       "      <td>35.0</td>\n",
       "      <td>1.0</td>\n",
       "      <td>0.0</td>\n",
       "      <td>53.1000</td>\n",
       "      <td>Futrelle, Mrs. Jacques Heath (Lily May Peel)</td>\n",
       "      <td>female</td>\n",
       "      <td>2.0</td>\n",
       "      <td>...</td>\n",
       "      <td>False</td>\n",
       "      <td>3.583519</td>\n",
       "      <td>3.990834</td>\n",
       "      <td>0.400437</td>\n",
       "      <td>0.251257</td>\n",
       "      <td>Adult</td>\n",
       "      <td>False</td>\n",
       "      <td>False</td>\n",
       "      <td>True</td>\n",
       "      <td>False</td>\n",
       "    </tr>\n",
       "    <tr>\n",
       "      <th>4</th>\n",
       "      <td>5.0</td>\n",
       "      <td>0.0</td>\n",
       "      <td>3.0</td>\n",
       "      <td>35.0</td>\n",
       "      <td>0.0</td>\n",
       "      <td>0.0</td>\n",
       "      <td>8.0500</td>\n",
       "      <td>Allen, Mr. William Henry</td>\n",
       "      <td>male</td>\n",
       "      <td>1.0</td>\n",
       "      <td>...</td>\n",
       "      <td>False</td>\n",
       "      <td>3.583519</td>\n",
       "      <td>2.202765</td>\n",
       "      <td>0.400437</td>\n",
       "      <td>0.038091</td>\n",
       "      <td>Adult</td>\n",
       "      <td>False</td>\n",
       "      <td>False</td>\n",
       "      <td>True</td>\n",
       "      <td>False</td>\n",
       "    </tr>\n",
       "  </tbody>\n",
       "</table>\n",
       "<p>5 rows × 26 columns</p>\n",
       "</div>"
      ],
      "text/plain": [
       "   PassengerId  Survived  Pclass   Age  SibSp  Parch     Fare  \\\n",
       "0          1.0       0.0     3.0  22.0    1.0    0.0   7.2500   \n",
       "1          2.0       1.0     1.0  38.0    1.0    0.0  71.2833   \n",
       "2          3.0       1.0     3.0  26.0    0.0    0.0   7.9250   \n",
       "3          4.0       1.0     1.0  35.0    1.0    0.0  53.1000   \n",
       "4          5.0       0.0     3.0  35.0    0.0    0.0   8.0500   \n",
       "\n",
       "                                                Name     Sex  Family Size  \\\n",
       "0                            Braund, Mr. Owen Harris    male          2.0   \n",
       "1  Cumings, Mrs. John Bradley (Florence Briggs Th...  female          2.0   \n",
       "2                             Heikkinen, Miss. Laina  female          1.0   \n",
       "3       Futrelle, Mrs. Jacques Heath (Lily May Peel)  female          2.0   \n",
       "4                           Allen, Mr. William Henry    male          1.0   \n",
       "\n",
       "   ...  Title_the Countess  Age_Logged  Fare_Logged  Age_Scaled  Fare_Scaled  \\\n",
       "0  ...               False    3.135494     2.110213   -0.575932     0.034305   \n",
       "1  ...               False    3.663562     4.280593    0.625753     0.337296   \n",
       "2  ...               False    3.295837     2.188856   -0.275511     0.037499   \n",
       "3  ...               False    3.583519     3.990834    0.400437     0.251257   \n",
       "4  ...               False    3.583519     2.202765    0.400437     0.038091   \n",
       "\n",
       "   Age_bins  Age_Child  Age_Teen  Age_Adult  Age_Senior  \n",
       "0     Adult      False     False       True       False  \n",
       "1     Adult      False     False       True       False  \n",
       "2     Adult      False     False       True       False  \n",
       "3     Adult      False     False       True       False  \n",
       "4     Adult      False     False       True       False  \n",
       "\n",
       "[5 rows x 26 columns]"
      ]
     },
     "execution_count": 27,
     "metadata": {},
     "output_type": "execute_result"
    }
   ],
   "source": [
    "# Apply one-hot encoding\n",
    "age_dummies = pd.get_dummies(titanic_cleaned['Age_bins'], prefix='Age')\n",
    "\n",
    "# Combine with original DataFrame (optional)\n",
    "titanic_final = pd.concat([titanic_cleaned, age_dummies], axis=1)\n",
    "\n",
    "# Check the result\n",
    "titanic_final.head()"
   ]
  }
 ],
 "metadata": {
  "kernelspec": {
   "display_name": "jupyter_env",
   "language": "python",
   "name": "python3"
  },
  "language_info": {
   "codemirror_mode": {
    "name": "ipython",
    "version": 3
   },
   "file_extension": ".py",
   "mimetype": "text/x-python",
   "name": "python",
   "nbconvert_exporter": "python",
   "pygments_lexer": "ipython3",
   "version": "3.12.11"
  }
 },
 "nbformat": 4,
 "nbformat_minor": 5
}
