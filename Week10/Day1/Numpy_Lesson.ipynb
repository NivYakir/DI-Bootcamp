{
  "cells": [
    {
      "cell_type": "code",
      "execution_count": 6,
      "metadata": {
        "id": "Cd5_lisoS1Ig"
      },
      "outputs": [],
      "source": [
        "import numpy as np"
      ]
    },
    {
      "cell_type": "code",
      "execution_count": 7,
      "metadata": {
        "id": "B47qoDeHS3km"
      },
      "outputs": [
        {
          "name": "stdout",
          "output_type": "stream",
          "text": [
            "2.3.2\n"
          ]
        }
      ],
      "source": [
        "print(np.__version__)"
      ]
    },
    {
      "cell_type": "code",
      "execution_count": 8,
      "metadata": {
        "id": "gyKcC73A3ETW"
      },
      "outputs": [
        {
          "name": "stdout",
          "output_type": "stream",
          "text": [
            "1D Array: [1 2 3 4]\n",
            "\n",
            "2D Array:\n",
            " [[1 2 3]\n",
            " [4 5 6]]\n",
            "\n",
            "3D Array:\n",
            " [[[1 2]\n",
            "  [3 4]]\n",
            "\n",
            " [[5 6]\n",
            "  [7 8]]]\n"
          ]
        }
      ],
      "source": [
        "# Creating a 1D NumPy array\n",
        "array_1d = np.array([1, 2, 3, 4])\n",
        "print(\"1D Array:\", array_1d)\n",
        "\n",
        "# Creating a 2D NumPy array\n",
        "array_2d = np.array([[1, 2, 3], [4, 5, 6]])\n",
        "print(\"\\n2D Array:\\n\", array_2d)\n",
        "\n",
        "array_3d = np.array([[[1, 2], [3, 4]], [[5, 6], [7, 8]]])\n",
        "print(\"\\n3D Array:\\n\", array_3d)"
      ]
    },
    {
      "cell_type": "code",
      "execution_count": 12,
      "metadata": {
        "id": "CkXchNeF3Nty"
      },
      "outputs": [
        {
          "name": "stdout",
          "output_type": "stream",
          "text": [
            "Shape: (2, 2, 2)\n",
            "Size: 6\n",
            "Data Type: int64\n"
          ]
        }
      ],
      "source": [
        "\n",
        "# Array attributes\n",
        "print(\"Shape:\", array_3d.shape)  # Expected Output: Shape: (2, 3) - 2 rows and 3 columns\n",
        "print(\"Size:\", array_2d.size)   # Expected Output: Size: 6 - Total 6 elements\n",
        "print(\"Data Type:\", array_2d.dtype)  # Expected Output: Data Type: int64 (or similar, depending on system)"
      ]
    },
    {
      "cell_type": "code",
      "execution_count": 13,
      "metadata": {
        "id": "Te5jUC1L3WyT"
      },
      "outputs": [
        {
          "data": {
            "text/plain": [
              "array([1, 2, 3, 4])"
            ]
          },
          "execution_count": 13,
          "metadata": {},
          "output_type": "execute_result"
        }
      ],
      "source": [
        "array_1d = np.array([1, 2, 3, 4])\n",
        "# Output: 1D Array: [1 2 3 4], Shape: (4,), Size: 4\n",
        "array_1d"
      ]
    },
    {
      "cell_type": "code",
      "execution_count": 14,
      "metadata": {
        "id": "7i9hz8D-3Z91"
      },
      "outputs": [
        {
          "data": {
            "text/plain": [
              "array([[1, 2, 3],\n",
              "       [4, 5, 6]])"
            ]
          },
          "execution_count": 14,
          "metadata": {},
          "output_type": "execute_result"
        }
      ],
      "source": [
        "array_2d = np.array([[1, 2, 3], [4, 5, 6]])\n",
        "array_2d"
      ]
    },
    {
      "cell_type": "code",
      "execution_count": 17,
      "metadata": {
        "id": "TeFKupqpq3Ms"
      },
      "outputs": [
        {
          "data": {
            "text/plain": [
              "array([[1],\n",
              "       [2],\n",
              "       [3],\n",
              "       [4],\n",
              "       [5],\n",
              "       [6]])"
            ]
          },
          "execution_count": 17,
          "metadata": {},
          "output_type": "execute_result"
        }
      ],
      "source": [
        "array_2d.reshape(6, 1)"
      ]
    },
    {
      "cell_type": "code",
      "execution_count": 11,
      "metadata": {
        "id": "FOrLgUUb3kD4"
      },
      "outputs": [
        {
          "name": "stdout",
          "output_type": "stream",
          "text": [
            "(2, 2, 2)\n"
          ]
        }
      ],
      "source": [
        "array_3d = np.array([[[1, 2], [3, 4]], [[5, 6], [7, 8]]])\n",
        "print(array_3d.shape)\n",
        "\n"
      ]
    },
    {
      "cell_type": "code",
      "execution_count": 18,
      "metadata": {
        "id": "HuzNTF7oB-KR"
      },
      "outputs": [
        {
          "data": {
            "text/plain": [
              "array([[0., 0.],\n",
              "       [0., 0.],\n",
              "       [0., 0.]])"
            ]
          },
          "execution_count": 18,
          "metadata": {},
          "output_type": "execute_result"
        }
      ],
      "source": [
        "np.zeros((3, 2))  # 3 rows, 2 columns"
      ]
    },
    {
      "cell_type": "code",
      "execution_count": 19,
      "metadata": {
        "id": "J4BLrm50CBX7"
      },
      "outputs": [
        {
          "data": {
            "text/plain": [
              "array([[1., 1., 1.],\n",
              "       [1., 1., 1.]])"
            ]
          },
          "execution_count": 19,
          "metadata": {},
          "output_type": "execute_result"
        }
      ],
      "source": [
        "np.ones((2, 3))"
      ]
    },
    {
      "cell_type": "code",
      "execution_count": 20,
      "metadata": {
        "id": "bXqYnc82CEOD"
      },
      "outputs": [
        {
          "data": {
            "text/plain": [
              "array([[0, 0, 0],\n",
              "       [0, 0, 0]])"
            ]
          },
          "execution_count": 20,
          "metadata": {},
          "output_type": "execute_result"
        }
      ],
      "source": [
        "np.zeros((2, 3), dtype=int)\n",
        "\n"
      ]
    },
    {
      "cell_type": "code",
      "execution_count": 23,
      "metadata": {
        "id": "U0NC_lrsqXQ7"
      },
      "outputs": [
        {
          "data": {
            "text/plain": [
              "array([ 1.,  2.,  3.,  4.,  5.,  6.,  7.,  8.,  9., 10.])"
            ]
          },
          "execution_count": 23,
          "metadata": {},
          "output_type": "execute_result"
        }
      ],
      "source": [
        "arr1 = np.arange(1, 11, dtype=float)\n",
        "arr1"
      ]
    },
    {
      "cell_type": "markdown",
      "metadata": {
        "id": "LhK189x2pl_C"
      },
      "source": [
        "Exercise: Exploring NumPy Arrays"
      ]
    },
    {
      "cell_type": "code",
      "execution_count": 34,
      "metadata": {
        "id": "mW8NDdI2plir"
      },
      "outputs": [
        {
          "name": "stdout",
          "output_type": "stream",
          "text": [
            "(5,)\n",
            "5\n",
            "int64\n",
            "\n",
            "(2, 3)\n",
            "6\n",
            "int64\n",
            "[1. 2. 3.]\n"
          ]
        }
      ],
      "source": [
        "# 1\n",
        "arr = np.arange(1, 6, dtype=int)\n",
        "\n",
        "arr1 = np.arange(1, 7, dtype=int)\n",
        "arr1 = arr1.reshape(2,3)\n",
        "arr1\n",
        "\n",
        "# 2\n",
        "print(arr.shape)\n",
        "print(arr.size)\n",
        "print(arr.dtype)\n",
        "print()\n",
        "print(arr1.shape)\n",
        "print(arr1.size)\n",
        "print(arr1.dtype)\n",
        "\n",
        "# 3\n",
        "arr2 = np.arange(1, 4, dtype=float)\n",
        "print(arr2)"
      ]
    },
    {
      "cell_type": "markdown",
      "metadata": {
        "id": "D3jEvLQYrNE2"
      },
      "source": [
        "Exercise: Create the following arrays:"
      ]
    },
    {
      "cell_type": "code",
      "execution_count": 52,
      "metadata": {},
      "outputs": [
        {
          "name": "stdout",
          "output_type": "stream",
          "text": [
            "[[ 1  2  3  4  5]\n",
            " [ 6  7  8  9 10]]\n"
          ]
        }
      ],
      "source": [
        "# A two dimensional array of shape 2,5 with random values (choose them yourself) from 1 to 10.\n",
        "array = np.array([[1,2,3,4,5],[6,7,8,9,10]])\n",
        "print(array)"
      ]
    },
    {
      "cell_type": "code",
      "execution_count": 53,
      "metadata": {
        "id": "RXn7CfUR38gy"
      },
      "outputs": [
        {
          "name": "stdout",
          "output_type": "stream",
          "text": [
            "Element at row 1, column 2: 6\n",
            "Second row: [4 5 6]\n",
            "Third column: [3 6 9]\n"
          ]
        }
      ],
      "source": [
        "import numpy as np\n",
        "\n",
        "# Example 2D array\n",
        "array_2d = np.array([[1, 2, 3], [4, 5, 6], [7, 8, 9]])\n",
        "\n",
        "# Accessing a single element\n",
        "print(\"Element at row 1, column 2:\", array_2d[1, 2])  # Output: 6\n",
        "\n",
        "# Accessing a row\n",
        "print(\"Second row:\", array_2d[1, :])  # Output: [4 5 6]\n",
        "\n",
        "# Accessing a column\n",
        "print(\"Third column:\", array_2d[:, 2])  # Output: [3 6 9]"
      ]
    },
    {
      "cell_type": "code",
      "execution_count": 54,
      "metadata": {
        "id": "K3Z0fbIP4eAr"
      },
      "outputs": [
        {
          "name": "stdout",
          "output_type": "stream",
          "text": [
            "Slice of the array:\n",
            " [[2 3]\n",
            " [5 6]]\n"
          ]
        }
      ],
      "source": [
        "import numpy as np\n",
        "\n",
        "# Example 2D array\n",
        "array_2d = np.array([[1, 2, 3], [4, 5, 6], [7, 8, 9]])\n",
        "\n",
        "# Slicing a portion of the array\n",
        "print(\"Slice of the array:\\n\", array_2d[0:2, 1:3])"
      ]
    },
    {
      "cell_type": "code",
      "execution_count": 56,
      "metadata": {
        "id": "qsQhkLy24-aI"
      },
      "outputs": [
        {
          "name": "stdout",
          "output_type": "stream",
          "text": [
            "Result of Boolean Indexing: [4 5 6]\n"
          ]
        }
      ],
      "source": [
        "import numpy as np\n",
        "\n",
        "# Example array\n",
        "array = np.array([[1, 2], [3, 4], [5, 6]])\n",
        "\n",
        "# Boolean indexing\n",
        "result = array[array > 3]\n",
        "print(\"Result of Boolean Indexing:\", result)"
      ]
    },
    {
      "cell_type": "code",
      "execution_count": 57,
      "metadata": {
        "id": "r66-fZkI5H0S"
      },
      "outputs": [
        {
          "name": "stdout",
          "output_type": "stream",
          "text": [
            "First element: 10\n",
            "First three elements: [10 20 30]\n"
          ]
        }
      ],
      "source": [
        "import numpy as np\n",
        "\n",
        "# Creating a sample array\n",
        "array = np.array([10, 20, 30, 40, 50])\n",
        "\n",
        "# Indexing (accessing a single element)\n",
        "print(\"First element:\", array[0])\n",
        "\n",
        "# Slicing (accessing multiple elements)\n",
        "print(\"First three elements:\", array[:3])"
      ]
    },
    {
      "cell_type": "code",
      "execution_count": 58,
      "metadata": {
        "id": "Yk3WNQ525oOl"
      },
      "outputs": [
        {
          "name": "stdout",
          "output_type": "stream",
          "text": [
            "Elements greater than 25: [30 40 50]\n",
            "Select specific elements: [20 40]\n"
          ]
        }
      ],
      "source": [
        "# Boolean indexing\n",
        "print(\"Elements greater than 25:\", array[array > 25])\n",
        "\n",
        "# Fancy indexing (using a list of indices)\n",
        "print(\"Select specific elements:\", array[[1, 3]])"
      ]
    },
    {
      "cell_type": "markdown",
      "metadata": {
        "id": "txq4qjpaxglr"
      },
      "source": [
        "Exercise: Practicing Indexing and Slicing"
      ]
    },
    {
      "cell_type": "code",
      "execution_count": null,
      "metadata": {
        "id": "zJYIIvEG58rj"
      },
      "outputs": [
        {
          "name": "stdout",
          "output_type": "stream",
          "text": [
            "5\n",
            "[3 4 5 6 7 8]\n",
            "[21 10 35 29 18 36]\n",
            "[35 36]\n",
            "[10 29 36]\n"
          ]
        }
      ],
      "source": [
        "array = np.arange(1, 11)\n",
        "print(array[4])\n",
        "\n",
        "# Elements 3 - 8\n",
        "print(array[2:8])\n",
        "\n",
        "# Create an array with 6 random numbers between 10 and 50\n",
        "rand = np.random.randint(low=10, high=50, size=6)\n",
        "print(rand)\n",
        "\n",
        "# Elements greater than 30\n",
        "print(rand[rand > 30])\n",
        "\n",
        "# Fancy Indexing: 2nd, 4th, 6th elements\n",
        "print(rand[[1,3,5]])"
      ]
    },
    {
      "cell_type": "code",
      "execution_count": 82,
      "metadata": {
        "id": "R8dYd1lI5-oA"
      },
      "outputs": [
        {
          "name": "stdout",
          "output_type": "stream",
          "text": [
            "[21 13 14 45 21 12]\n",
            "[45]\n"
          ]
        }
      ],
      "source": [
        "rand = np.random.randint(10, 50, 6)\n",
        "print(rand)\n",
        "print(rand[rand>30])"
      ]
    },
    {
      "cell_type": "code",
      "execution_count": 94,
      "metadata": {
        "id": "l_sl7c9z6H7v"
      },
      "outputs": [
        {
          "data": {
            "text/plain": [
              "array([1, 7, 4, 2, 5, 3, 6])"
            ]
          },
          "execution_count": 94,
          "metadata": {},
          "output_type": "execute_result"
        }
      ],
      "source": [
        "x = np.array([1, 2, 3, 4, 5, 6, 7])\n",
        "new = np.random.permutation(x)\n",
        "new"
      ]
    },
    {
      "cell_type": "code",
      "execution_count": 104,
      "metadata": {
        "id": "sscwTHD66OE9"
      },
      "outputs": [
        {
          "data": {
            "text/plain": [
              "array([[1, 2],\n",
              "       [5, 6],\n",
              "       [3, 4]])"
            ]
          },
          "execution_count": 104,
          "metadata": {},
          "output_type": "execute_result"
        }
      ],
      "source": [
        "two = np.array([[1,2], [3,4], [5,6]])\n",
        "np.random.permutation(two)"
      ]
    },
    {
      "cell_type": "code",
      "execution_count": 105,
      "metadata": {
        "id": "jhccLxGe6RPi"
      },
      "outputs": [
        {
          "data": {
            "text/plain": [
              "array([0, 1, 2, 3, 4, 5, 6, 7, 8, 9])"
            ]
          },
          "execution_count": 105,
          "metadata": {},
          "output_type": "execute_result"
        }
      ],
      "source": [
        "x = np.arange(10)\n",
        "x"
      ]
    },
    {
      "cell_type": "code",
      "execution_count": 107,
      "metadata": {
        "id": "CqPLbJk36WZQ"
      },
      "outputs": [
        {
          "data": {
            "text/plain": [
              "array([ 1,  2, 10,  4,  5])"
            ]
          },
          "execution_count": 107,
          "metadata": {},
          "output_type": "execute_result"
        }
      ],
      "source": [
        "arr = np.array([1, 2, 3, 4, 5])\n",
        "arr[2] = 10\n",
        "arr"
      ]
    },
    {
      "cell_type": "code",
      "execution_count": 108,
      "metadata": {
        "id": "yVyW-Np56Zff"
      },
      "outputs": [
        {
          "name": "stdout",
          "output_type": "stream",
          "text": [
            "[ 1 20 30 40  5]\n"
          ]
        }
      ],
      "source": [
        "arr[1:4] = [20, 30, 40]\n",
        "print(arr)"
      ]
    },
    {
      "cell_type": "code",
      "execution_count": 109,
      "metadata": {
        "id": "yLNnO8o96gPU"
      },
      "outputs": [
        {
          "name": "stdout",
          "output_type": "stream",
          "text": [
            "[  1 100 100 100   5]\n"
          ]
        }
      ],
      "source": [
        "arr[arr > 10] = 100\n",
        "print(arr)"
      ]
    },
    {
      "cell_type": "code",
      "execution_count": 110,
      "metadata": {
        "id": "dl2yHaoi7Gwz"
      },
      "outputs": [
        {
          "name": "stdout",
          "output_type": "stream",
          "text": [
            "[  1 500 100 500   5]\n"
          ]
        }
      ],
      "source": [
        "arr[np.array([1, 3])] = 500\n",
        "print(arr)"
      ]
    },
    {
      "cell_type": "code",
      "execution_count": 111,
      "metadata": {
        "id": "ZPI08Hpb7LBx"
      },
      "outputs": [
        {
          "name": "stdout",
          "output_type": "stream",
          "text": [
            "[600 100]\n"
          ]
        }
      ],
      "source": [
        "sub_arr = arr[1:3]\n",
        "sub_arr[0] = 600\n",
        "print(sub_arr)"
      ]
    },
    {
      "cell_type": "markdown",
      "metadata": {
        "id": "VQEc8vhz0bk5"
      },
      "source": [
        "Exercises on Indexing and Slicing for Array Modification"
      ]
    },
    {
      "cell_type": "code",
      "execution_count": null,
      "metadata": {
        "id": "9dBlni5H0b9m"
      },
      "outputs": [],
      "source": []
    },
    {
      "cell_type": "code",
      "execution_count": null,
      "metadata": {
        "id": "rS-iLfar7hk6"
      },
      "outputs": [
        {
          "name": "stdout",
          "output_type": "stream",
          "text": [
            "Addition: [5 7 9]\n",
            "Multiplication: [ 4 10 18]\n",
            "Broadcasting with scalar: [3 6 9]\n"
          ]
        }
      ],
      "source": [
        "import numpy as np\n",
        "\n",
        "# Creating sample arrays\n",
        "a = np.array([1, 2, 3])\n",
        "b = np.array([4, 5, 6])\n",
        "\n",
        "# Element-wise addition\n",
        "print(\"Addition:\", a + b)\n",
        "\n",
        "# Element-wise multiplication\n",
        "print(\"Multiplication:\", a * b)\n",
        "\n",
        "# Broadcasting\n",
        "print(\"Broadcasting with scalar:\", a * 3)"
      ]
    },
    {
      "cell_type": "code",
      "execution_count": 118,
      "metadata": {
        "id": "7YrxnLMb75Im"
      },
      "outputs": [
        {
          "name": "stdout",
          "output_type": "stream",
          "text": [
            "1D Array:\n",
            " [0 1 2]\n",
            "2D Array:\n",
            " [[0 1 2]\n",
            " [3 4 5]]\n",
            "Broadcasted Addition:\n",
            " [[0 2 4]\n",
            " [3 5 7]]\n",
            "Broacasted Subtraction:\n",
            " [[ 0  0  0]\n",
            " [-3 -3 -3]]\n"
          ]
        }
      ],
      "source": [
        "import numpy as np\n",
        "\n",
        "# Creating a 1D array and a 2D array\n",
        "a = np.array([0, 1, 2])\n",
        "b = np.array([[0, 1, 2], [3, 4, 5]])\n",
        "\n",
        "# Adding the 1D array to each row of the 2D array\n",
        "result = a + b\n",
        "subtraction = a - b\n",
        "\n",
        "print(\"1D Array:\\n\", a)\n",
        "print(\"2D Array:\\n\", b)\n",
        "print(\"Broadcasted Addition:\\n\", result)\n",
        "print(\"Broacasted Subtraction:\\n\", subtraction)"
      ]
    },
    {
      "cell_type": "code",
      "execution_count": 117,
      "metadata": {
        "id": "uUUtegW0Iz47"
      },
      "outputs": [
        {
          "name": "stdout",
          "output_type": "stream",
          "text": [
            "[5 7 9]\n",
            "[-3 -3 -3]\n",
            "[ 4 10 18]\n",
            "[0.25 0.4  0.5 ]\n"
          ]
        }
      ],
      "source": [
        "import numpy as np\n",
        "\n",
        "a = np.array([1, 2, 3])\n",
        "b = np.array([4, 5, 6])\n",
        "\n",
        "print(a + b)\n",
        "print(a - b)\n",
        "print(a * b)\n",
        "print(a / b)\n"
      ]
    },
    {
      "cell_type": "code",
      "execution_count": 122,
      "metadata": {
        "id": "FyqWE7_J8L74"
      },
      "outputs": [
        {
          "name": "stdout",
          "output_type": "stream",
          "text": [
            "Error: operands could not be broadcast together with shapes (2,3) (2,) \n",
            "Addition After Reshape:\n",
            " [[2 4]\n",
            " [4 6]\n",
            " [6 8]]\n"
          ]
        }
      ],
      "source": [
        "import numpy as np\n",
        "\n",
        "# Creating two incompatible arrays\n",
        "a = np.array([[1, 2, 3], [4, 5, 6]])\n",
        "b = np.array([1, 2])\n",
        "\n",
        "try:\n",
        "    result = a + b\n",
        "except ValueError as e:\n",
        "    print(\"Error:\", e)\n",
        "\n",
        "a = a.reshape(3,2)\n",
        "result = a + b\n",
        "print(\"Addition After Reshape:\\n\", result)"
      ]
    },
    {
      "cell_type": "code",
      "execution_count": 125,
      "metadata": {
        "id": "gaM50qgx8TrH"
      },
      "outputs": [
        {
          "name": "stdout",
          "output_type": "stream",
          "text": [
            "2D Array:\n",
            " [[1 2 3]\n",
            " [4 5 6]]\n",
            "\n",
            "1D Array:\n",
            " [1 2 3]\n",
            "\n",
            "Broadcasted Multiplication:\n",
            " [[ 1  4  9]\n",
            " [ 4 10 18]]\n"
          ]
        }
      ],
      "source": [
        "import numpy as np\n",
        "\n",
        "# Creating a 2D array and a 1D array\n",
        "a = np.array([[1, 2, 3], [4, 5, 6]])\n",
        "b = np.array([1, 2, 3])\n",
        "\n",
        "# Element-wise multiplication\n",
        "result = a * b\n",
        "\n",
        "print(\"2D Array:\\n\", a)\n",
        "print(\"\\n1D Array:\\n\", b)\n",
        "print(\"\\nBroadcasted Multiplication:\\n\", result)"
      ]
    },
    {
      "cell_type": "code",
      "execution_count": 126,
      "metadata": {
        "id": "hSJ6pBIM8dxc"
      },
      "outputs": [
        {
          "name": "stdout",
          "output_type": "stream",
          "text": [
            "Sum: 21\n",
            "Mean: 3.5\n",
            "Min: 1 Max: 6\n"
          ]
        }
      ],
      "source": [
        "# Creating a sample array\n",
        "array = np.array([[1, 2, 3], [4, 5, 6]])\n",
        "\n",
        "# Sum of all elements\n",
        "print(\"Sum:\", np.sum(array))\n",
        "\n",
        "# Mean value\n",
        "print(\"Mean:\", np.mean(array))\n",
        "\n",
        "# Minimum and Maximum\n",
        "print(\"Min:\", np.min(array), \"Max:\", np.max(array))"
      ]
    },
    {
      "cell_type": "markdown",
      "metadata": {
        "id": "p8BMyxsi7VH6"
      },
      "source": [
        "Exercise: Basic Operations with Arrays"
      ]
    },
    {
      "cell_type": "code",
      "execution_count": 133,
      "metadata": {
        "id": "y-jCQ6ko8sfD"
      },
      "outputs": [
        {
          "name": "stdout",
          "output_type": "stream",
          "text": [
            "[4 6 8]\n",
            "[0 2 4]\n",
            "[ 4  8 12]\n",
            "[1. 2. 3.]\n",
            "Means\n",
            "4.0 2.0\n",
            "\n",
            "Sums\n",
            "12 6\n",
            "\n",
            "Mins\n",
            "2 2\n",
            "\n",
            "Max\n",
            "6 2\n"
          ]
        }
      ],
      "source": [
        "# Arithmetic Operations: Create two 1D arrays of 3 elements each and perform element-wise addition, subtraction, multiplication, and division.\n",
        "a = np.array([2,4,6])\n",
        "b = np.array([2,2,2])\n",
        "print(a + b)\n",
        "print(a - b)\n",
        "print(a * b)\n",
        "print(a / b)\n",
        "\n",
        "# Aggregation Functions: For the arrays created above, find the sum, mean, minimum, and maximum of each array.\n",
        "print(\"Means\")\n",
        "print(np.mean(a), np.mean(b))\n",
        "print(\"\\nSums\")\n",
        "print(np.sum(a), np.sum(b))\n",
        "print('\\nMins')\n",
        "print(np.min(a), np.min(b))\n",
        "print(\"\\nMax\")\n",
        "print(np.max(a), np.max(b))\n",
        "\n",
        "# Broadcasting with Scalar: Multiply one of the arrays by a scalar (e.g., 5) and observe the result."
      ]
    },
    {
      "cell_type": "code",
      "execution_count": 134,
      "metadata": {
        "id": "XxH2BBZ78skn"
      },
      "outputs": [
        {
          "name": "stdout",
          "output_type": "stream",
          "text": [
            "1D Array: [1 2 3 4 5 6 7 8 9]\n",
            "Reshaped to 3x3:\n",
            " [[1 2 3]\n",
            " [4 5 6]\n",
            " [7 8 9]]\n"
          ]
        }
      ],
      "source": [
        "import numpy as np\n",
        "\n",
        "# Creating a 1D array\n",
        "array = np.arange(1, 10)  # Array of numbers from 1 to 9\n",
        "print(\"1D Array:\", array)\n",
        "# Reshaping to a 3x3 matrix\n",
        "reshaped_array = array.reshape(3, 3)\n",
        "print(\"Reshaped to 3x3:\\n\", reshaped_array)"
      ]
    },
    {
      "cell_type": "code",
      "execution_count": 135,
      "metadata": {
        "id": "kvg4-oSC9L0f"
      },
      "outputs": [
        {
          "name": "stdout",
          "output_type": "stream",
          "text": [
            "Transposed array:\n",
            " [[1 4 7]\n",
            " [2 5 8]\n",
            " [3 6 9]]\n"
          ]
        }
      ],
      "source": [
        "# Transposing the reshaped array\n",
        "transposed_array = reshaped_array.T\n",
        "print(\"Transposed array:\\n\", transposed_array)"
      ]
    },
    {
      "cell_type": "markdown",
      "metadata": {
        "id": "UA0siuXUAK2B"
      },
      "source": [
        "Exercise: Reshaping and Transposing Arrays"
      ]
    },
    {
      "cell_type": "code",
      "execution_count": null,
      "metadata": {
        "id": "Y2nLaDuoKVwb"
      },
      "outputs": [
        {
          "name": "stdout",
          "output_type": "stream",
          "text": [
            "[[ 0  1  2]\n",
            " [ 3  4  5]\n",
            " [ 6  7  8]\n",
            " [ 9 10 11]]\n",
            "\n",
            " [[ 0  1  2  3  4  5]\n",
            " [ 6  7  8  9 10 11]]\n",
            "\n",
            " [[ 0  6]\n",
            " [ 1  7]\n",
            " [ 2  8]\n",
            " [ 3  9]\n",
            " [ 4 10]\n",
            " [ 5 11]]\n",
            "\n",
            " [[ 1  2  3  4]\n",
            " [ 5  6  7  8]\n",
            " [ 9 10 11 12]]\n",
            "\n",
            " [[ 1  5  9]\n",
            " [ 2  6 10]\n",
            " [ 3  7 11]\n",
            " [ 4  8 12]]\n",
            "\n",
            " [ 1  5  9  2  6 10  3  7 11  4  8 12]\n"
          ]
        }
      ],
      "source": [
        "# Reshape Array\n",
        "array_1d = np.arange(12)\n",
        "\n",
        "# 4x3 Matrix\n",
        "array_reshaped = array_1d.reshape(4,3)\n",
        "print(array_reshaped)\n",
        "\n",
        "# 2x6 Matrix\n",
        "array_reshaped = array_1d.reshape(2,6)\n",
        "print('\\n', array_reshaped)\n",
        "\n",
        "# Transpose\n",
        "transposed_array = array_reshaped.T\n",
        "print('\\n', transposed_array)\n",
        "\n",
        "# Create a 3x4 matrix, transpose it, and then reshape the transposed matrix to a 1D array.\n",
        "my_array = np.array([[1,2,3,4],[5,6,7,8],[9,10,11,12]])\n",
        "print('\\n', my_array)\n",
        "\n",
        "my_array_transposed = my_array.T\n",
        "print('\\n', my_array_transposed)\n",
        "\n",
        "my_array_reshaped = my_array_transposed.reshape(12,)\n",
        "print('\\n', my_array_reshaped)"
      ]
    },
    {
      "cell_type": "code",
      "execution_count": 136,
      "metadata": {
        "id": "fkyeP5j49X0j"
      },
      "outputs": [
        {
          "data": {
            "text/plain": [
              "array([[  1,   2,   3,   4,   5],\n",
              "       [  6,   7,   8,   9,  10],\n",
              "       [ 11,  12,  13,  14,  15],\n",
              "       [ 16,  17,  18,  19,  20],\n",
              "       [ 21,  22,  23,  24,  25],\n",
              "       [ 26,  27,  28,  29,  30],\n",
              "       [ 31,  32,  33,  34,  35],\n",
              "       [ 36,  37,  38,  39,  40],\n",
              "       [ 41,  42,  43,  44,  45],\n",
              "       [ 46,  47,  48,  49,  50],\n",
              "       [ 51,  52,  53,  54,  55],\n",
              "       [ 56,  57,  58,  59,  60],\n",
              "       [ 61,  62,  63,  64,  65],\n",
              "       [ 66,  67,  68,  69,  70],\n",
              "       [ 71,  72,  73,  74,  75],\n",
              "       [ 76,  77,  78,  79,  80],\n",
              "       [ 81,  82,  83,  84,  85],\n",
              "       [ 86,  87,  88,  89,  90],\n",
              "       [ 91,  92,  93,  94,  95],\n",
              "       [ 96,  97,  98,  99, 100]])"
            ]
          },
          "execution_count": 136,
          "metadata": {},
          "output_type": "execute_result"
        }
      ],
      "source": [
        "# Reshaping data for machine learning model\n",
        "data = np.arange(1, 101).reshape(20, 5)  # 20 samples, 5 features each\n",
        "data"
      ]
    },
    {
      "cell_type": "code",
      "execution_count": 137,
      "metadata": {
        "id": "sz0AXTsN9fXC"
      },
      "outputs": [
        {
          "name": "stdout",
          "output_type": "stream",
          "text": [
            "[[0.58496067 0.36419245 0.98616097 0.0899767  0.42964386 0.20408646\n",
            "  0.80240197 0.26361494 0.40896871 0.76556018]\n",
            " [0.80940219 0.96679123 0.02116518 0.02959532 0.10086186 0.01679069\n",
            "  0.35722682 0.58429727 0.0653239  0.88419172]\n",
            " [0.81732463 0.59838487 0.29105198 0.07576416 0.22477456 0.58156568\n",
            "  0.93788816 0.85319302 0.32273791 0.19133027]\n",
            " [0.7294679  0.81167687 0.18046201 0.36835354 0.29842171 0.61042048\n",
            "  0.15406498 0.40370238 0.83272039 0.33783581]\n",
            " [0.05105478 0.32436012 0.11781722 0.53515084 0.86205507 0.29323882\n",
            "  0.70120341 0.07560209 0.88996787 0.59659491]\n",
            " [0.22117258 0.21002688 0.00153843 0.69178528 0.76182599 0.39562142\n",
            "  0.1938689  0.35374074 0.89314331 0.58203225]\n",
            " [0.10249652 0.63565581 0.17876877 0.32639416 0.49047831 0.57629761\n",
            "  0.90438528 0.69606787 0.55724442 0.07493912]\n",
            " [0.94286399 0.08004968 0.29108073 0.95480454 0.20083396 0.27872048\n",
            "  0.53440839 0.57457411 0.53272674 0.7407465 ]\n",
            " [0.47049638 0.28618022 0.23446978 0.18433328 0.23633472 0.23051951\n",
            "  0.45775894 0.41434297 0.43494459 0.62200842]\n",
            " [0.10815417 0.67114911 0.80762706 0.32467665 0.58289958 0.99098869\n",
            "  0.41696169 0.79156752 0.69472476 0.44507155]]\n"
          ]
        },
        {
          "data": {
            "text/plain": [
              "array([[0.58496067, 0.36419245, 0.98616097, 0.0899767 , 0.42964386,\n",
              "        0.20408646, 0.80240197, 0.26361494, 0.40896871, 0.76556018,\n",
              "        0.80940219, 0.96679123, 0.02116518, 0.02959532, 0.10086186,\n",
              "        0.01679069, 0.35722682, 0.58429727, 0.0653239 , 0.88419172],\n",
              "       [0.81732463, 0.59838487, 0.29105198, 0.07576416, 0.22477456,\n",
              "        0.58156568, 0.93788816, 0.85319302, 0.32273791, 0.19133027,\n",
              "        0.7294679 , 0.81167687, 0.18046201, 0.36835354, 0.29842171,\n",
              "        0.61042048, 0.15406498, 0.40370238, 0.83272039, 0.33783581],\n",
              "       [0.05105478, 0.32436012, 0.11781722, 0.53515084, 0.86205507,\n",
              "        0.29323882, 0.70120341, 0.07560209, 0.88996787, 0.59659491,\n",
              "        0.22117258, 0.21002688, 0.00153843, 0.69178528, 0.76182599,\n",
              "        0.39562142, 0.1938689 , 0.35374074, 0.89314331, 0.58203225],\n",
              "       [0.10249652, 0.63565581, 0.17876877, 0.32639416, 0.49047831,\n",
              "        0.57629761, 0.90438528, 0.69606787, 0.55724442, 0.07493912,\n",
              "        0.94286399, 0.08004968, 0.29108073, 0.95480454, 0.20083396,\n",
              "        0.27872048, 0.53440839, 0.57457411, 0.53272674, 0.7407465 ],\n",
              "       [0.47049638, 0.28618022, 0.23446978, 0.18433328, 0.23633472,\n",
              "        0.23051951, 0.45775894, 0.41434297, 0.43494459, 0.62200842,\n",
              "        0.10815417, 0.67114911, 0.80762706, 0.32467665, 0.58289958,\n",
              "        0.99098869, 0.41696169, 0.79156752, 0.69472476, 0.44507155]])"
            ]
          },
          "execution_count": 137,
          "metadata": {},
          "output_type": "execute_result"
        }
      ],
      "source": [
        "# Preparing data for heatmap visualization\n",
        "matrix = np.random.rand(10, 10)\n",
        "print(matrix)\n",
        "reshaped_matrix = matrix.reshape(5, 20)  # Reshaping for a different visual representation\n",
        "reshaped_matrix"
      ]
    },
    {
      "cell_type": "code",
      "execution_count": 139,
      "metadata": {
        "id": "VEael1RmCka6"
      },
      "outputs": [
        {
          "data": {
            "text/plain": [
              "array([17, 39])"
            ]
          },
          "execution_count": 139,
          "metadata": {},
          "output_type": "execute_result"
        }
      ],
      "source": [
        "# Transposing for matrix multiplication\n",
        "A = np.array([[1, 2], [3, 4]])\n",
        "B = np.array([5, 6])\n",
        "product = A.dot(B.transpose())  # Transposing B to make multiplication possible\n",
        "product"
      ]
    },
    {
      "cell_type": "code",
      "execution_count": 141,
      "metadata": {
        "id": "nADaMJui9pjJ"
      },
      "outputs": [
        {
          "name": "stdout",
          "output_type": "stream",
          "text": [
            "[[0.00629567 0.56483624]\n",
            " [0.49540283 0.21340218]\n",
            " [0.32356707 0.02349041]\n",
            " [0.28414297 0.88789025]\n",
            " [0.58101345 0.95404482]\n",
            " [0.76472611 0.92222248]]\n",
            "\n",
            " [[0.00629567 0.56483624 0.49540283 0.21340218]\n",
            " [0.32356707 0.02349041 0.28414297 0.88789025]\n",
            " [0.58101345 0.95404482 0.76472611 0.92222248]]\n"
          ]
        },
        {
          "data": {
            "text/plain": [
              "array([0.31998423, 0.37977268, 0.80550171])"
            ]
          },
          "execution_count": 141,
          "metadata": {},
          "output_type": "execute_result"
        }
      ],
      "source": [
        "# Aggregating data after reshaping\n",
        "data = np.random.rand(6, 2)\n",
        "print(data)\n",
        "reshaped_data = data.reshape(3, 4)\n",
        "print('\\n', reshaped_data)\n",
        "mean_values = np.mean(reshaped_data, axis=1)  # Mean of each reshaped group\n",
        "mean_values"
      ]
    },
    {
      "cell_type": "code",
      "execution_count": 142,
      "metadata": {
        "id": "BMxF8lzi-PZy"
      },
      "outputs": [
        {
          "data": {
            "text/plain": [
              "array([[[2.18550626e-01, 4.20633498e-02],\n",
              "        [8.75503686e-01, 2.07595668e-01],\n",
              "        [1.99836630e-01, 9.41456786e-01],\n",
              "        [6.07054436e-01, 7.71924235e-01],\n",
              "        [5.52317217e-01, 4.58151192e-02]],\n",
              "\n",
              "       [[7.60267335e-01, 2.93948152e-01],\n",
              "        [2.40110944e-01, 9.43409774e-01],\n",
              "        [6.82521496e-01, 7.83517195e-01],\n",
              "        [8.86248383e-01, 1.49420370e-02],\n",
              "        [8.73488115e-01, 9.55383432e-02]],\n",
              "\n",
              "       [[6.13378752e-02, 7.11645496e-01],\n",
              "        [1.52734489e-01, 3.21482109e-01],\n",
              "        [4.01498162e-01, 3.21683069e-01],\n",
              "        [5.18341083e-01, 7.64908302e-01],\n",
              "        [5.81880512e-01, 4.11647496e-01]],\n",
              "\n",
              "       [[6.63715290e-01, 6.63366223e-01],\n",
              "        [6.45904883e-01, 8.40971957e-01],\n",
              "        [1.62928185e-01, 3.35629876e-01],\n",
              "        [2.10482004e-01, 3.53775113e-01],\n",
              "        [6.45283796e-01, 2.42424516e-02]],\n",
              "\n",
              "       [[3.13728496e-01, 3.06988073e-01],\n",
              "        [4.16054009e-01, 8.37031496e-01],\n",
              "        [5.04933655e-01, 2.73376828e-01],\n",
              "        [9.29957423e-01, 2.02845078e-01],\n",
              "        [8.98253094e-01, 3.02660550e-01]],\n",
              "\n",
              "       [[5.84906770e-01, 8.81327487e-01],\n",
              "        [1.56013972e-01, 4.99791044e-03],\n",
              "        [8.85258597e-01, 1.29767536e-01],\n",
              "        [5.36976447e-02, 9.84776084e-01],\n",
              "        [6.13407954e-01, 9.39409146e-01]],\n",
              "\n",
              "       [[4.25645844e-01, 4.20561423e-01],\n",
              "        [1.43229427e-01, 4.54928432e-01],\n",
              "        [8.18975498e-01, 9.53755887e-02],\n",
              "        [4.73683974e-01, 5.89383535e-02],\n",
              "        [6.46195286e-01, 7.38271305e-01]],\n",
              "\n",
              "       [[6.29994302e-01, 2.82103304e-01],\n",
              "        [3.40556753e-01, 4.30388217e-01],\n",
              "        [2.82324081e-01, 7.58798032e-02],\n",
              "        [3.07811987e-01, 2.78917381e-01],\n",
              "        [4.00072035e-01, 5.64305361e-02]],\n",
              "\n",
              "       [[1.77650209e-01, 8.44927772e-01],\n",
              "        [2.73130247e-01, 5.13981289e-01],\n",
              "        [3.16270203e-01, 2.25704520e-01],\n",
              "        [8.76253818e-01, 2.71597596e-01],\n",
              "        [6.51378500e-02, 9.01916680e-01]],\n",
              "\n",
              "       [[4.34692835e-01, 9.15075000e-01],\n",
              "        [4.49490532e-01, 7.55334895e-01],\n",
              "        [9.30967699e-01, 6.63506954e-01],\n",
              "        [8.88360391e-01, 8.54369974e-01],\n",
              "        [2.98976607e-02, 5.92204313e-01]],\n",
              "\n",
              "       [[9.33630723e-01, 5.30070010e-01],\n",
              "        [9.72981180e-03, 2.73949690e-02],\n",
              "        [2.56306715e-01, 7.76857613e-01],\n",
              "        [2.28001320e-01, 2.88464489e-02],\n",
              "        [7.65106076e-02, 7.14673495e-01]],\n",
              "\n",
              "       [[5.39965111e-01, 8.69299038e-01],\n",
              "        [2.53248836e-01, 9.44077175e-01],\n",
              "        [4.19993019e-01, 9.55235352e-01],\n",
              "        [9.34048799e-02, 8.04067916e-01],\n",
              "        [4.44057993e-01, 3.51612029e-01]],\n",
              "\n",
              "       [[4.31648898e-02, 3.13198186e-01],\n",
              "        [4.55033606e-01, 7.88835341e-01],\n",
              "        [2.10832401e-01, 9.51538690e-01],\n",
              "        [7.81301623e-01, 6.37224767e-01],\n",
              "        [4.21060014e-01, 5.89908767e-01]],\n",
              "\n",
              "       [[3.54992202e-01, 9.41167561e-01],\n",
              "        [4.40292197e-01, 9.58133700e-01],\n",
              "        [1.73479615e-01, 5.33508855e-01],\n",
              "        [2.66262631e-01, 2.66130646e-01],\n",
              "        [9.36102513e-01, 7.51159900e-01]],\n",
              "\n",
              "       [[4.89908446e-01, 1.48087602e-01],\n",
              "        [4.80384629e-01, 4.65780195e-02],\n",
              "        [4.35093890e-01, 6.80618785e-03],\n",
              "        [1.85543951e-01, 2.50371442e-01],\n",
              "        [9.90732132e-01, 5.87337962e-01]],\n",
              "\n",
              "       [[9.64566949e-01, 3.67215558e-01],\n",
              "        [6.87392348e-01, 1.25878935e-01],\n",
              "        [2.85165172e-01, 1.27938069e-01],\n",
              "        [1.28662201e-01, 1.46954404e-01],\n",
              "        [2.19176065e-02, 5.17819647e-01]],\n",
              "\n",
              "       [[1.20246842e-01, 6.59331209e-01],\n",
              "        [5.88753560e-01, 5.96064157e-01],\n",
              "        [5.68060361e-01, 2.14436301e-01],\n",
              "        [4.76281289e-03, 1.47839602e-01],\n",
              "        [5.55432638e-01, 3.47598272e-02]],\n",
              "\n",
              "       [[5.33740403e-01, 6.16718490e-01],\n",
              "        [8.70171686e-02, 3.13713238e-01],\n",
              "        [7.61581497e-03, 6.35892503e-01],\n",
              "        [7.98356099e-01, 3.20969459e-01],\n",
              "        [9.24480000e-01, 1.36634547e-01]],\n",
              "\n",
              "       [[5.37917320e-01, 8.57843483e-01],\n",
              "        [5.02389947e-01, 2.97526958e-01],\n",
              "        [6.58041361e-01, 1.12527944e-01],\n",
              "        [8.39305378e-01, 8.11042766e-01],\n",
              "        [1.42309152e-01, 9.89295647e-01]],\n",
              "\n",
              "       [[8.39838413e-01, 2.65757936e-01],\n",
              "        [3.26763458e-01, 1.71263858e-02],\n",
              "        [3.88053618e-01, 8.19123993e-01],\n",
              "        [7.61079545e-04, 1.71737938e-01],\n",
              "        [1.76535584e-01, 8.67157176e-01]],\n",
              "\n",
              "       [[9.85533363e-01, 2.26732202e-02],\n",
              "        [5.61273149e-01, 1.81938350e-01],\n",
              "        [6.34561474e-01, 8.08471740e-01],\n",
              "        [6.35257676e-01, 9.78859054e-01],\n",
              "        [2.04081852e-01, 5.98217717e-01]],\n",
              "\n",
              "       [[6.58167610e-01, 7.88981895e-01],\n",
              "        [9.19225223e-01, 7.06769196e-01],\n",
              "        [9.51595986e-01, 6.93003631e-01],\n",
              "        [3.47880588e-01, 1.86521945e-01],\n",
              "        [2.97700802e-01, 6.97993356e-01]],\n",
              "\n",
              "       [[3.46222760e-01, 8.03116064e-01],\n",
              "        [3.87881560e-01, 1.32952562e-01],\n",
              "        [1.54222492e-02, 7.97185078e-01],\n",
              "        [2.07439917e-01, 8.71816624e-01],\n",
              "        [4.70783396e-01, 4.52735252e-01]],\n",
              "\n",
              "       [[4.84520467e-01, 1.94481997e-01],\n",
              "        [4.37205428e-01, 2.82996851e-01],\n",
              "        [2.29749089e-01, 9.20676999e-01],\n",
              "        [7.70045734e-01, 8.24904908e-01],\n",
              "        [6.45041436e-01, 1.23474047e-04]],\n",
              "\n",
              "       [[9.30741918e-01, 7.87405830e-01],\n",
              "        [4.25284561e-01, 2.16177651e-01],\n",
              "        [1.32031854e-01, 4.94884230e-01],\n",
              "        [2.24114275e-01, 5.95728392e-01],\n",
              "        [9.06902803e-01, 6.23468442e-01]],\n",
              "\n",
              "       [[7.56493016e-01, 9.57917204e-01],\n",
              "        [9.90019541e-01, 1.52252868e-01],\n",
              "        [4.99024456e-01, 3.59141477e-01],\n",
              "        [8.52510445e-01, 8.66756738e-01],\n",
              "        [7.79843814e-01, 9.15793810e-01]],\n",
              "\n",
              "       [[5.87346693e-01, 6.55480670e-01],\n",
              "        [1.93234431e-01, 7.48039103e-01],\n",
              "        [1.25769809e-01, 7.40735273e-01],\n",
              "        [8.34752197e-01, 3.16648439e-01],\n",
              "        [1.23032622e-01, 6.12322237e-01]],\n",
              "\n",
              "       [[1.17337138e-01, 6.34060079e-01],\n",
              "        [1.98352023e-01, 3.95631434e-01],\n",
              "        [4.47658053e-01, 3.22973513e-02],\n",
              "        [7.33193964e-01, 1.66250870e-01],\n",
              "        [4.32144083e-01, 3.73164999e-01]],\n",
              "\n",
              "       [[7.21572350e-01, 3.28737922e-01],\n",
              "        [1.50209600e-02, 8.29694636e-02],\n",
              "        [9.21720058e-01, 9.97507326e-01],\n",
              "        [9.47977701e-01, 5.58135067e-01],\n",
              "        [8.90839018e-01, 1.69098536e-01]],\n",
              "\n",
              "       [[7.33652352e-01, 9.17320835e-01],\n",
              "        [4.04617637e-01, 3.94782538e-02],\n",
              "        [2.77603733e-01, 6.19905054e-01],\n",
              "        [6.70400972e-01, 7.05965627e-01],\n",
              "        [9.21560300e-01, 4.80629722e-01]],\n",
              "\n",
              "       [[6.11960417e-01, 9.04479306e-01],\n",
              "        [6.72228464e-01, 6.39707977e-01],\n",
              "        [1.95471244e-02, 8.79913276e-01],\n",
              "        [5.69715444e-01, 7.44929722e-01],\n",
              "        [4.72314696e-01, 6.35042858e-01]],\n",
              "\n",
              "       [[7.16369802e-01, 6.00621942e-01],\n",
              "        [5.10113763e-01, 4.08170463e-02],\n",
              "        [2.09465897e-01, 5.73972344e-02],\n",
              "        [8.98211347e-01, 1.38650714e-01],\n",
              "        [5.46720838e-01, 6.09082011e-01]],\n",
              "\n",
              "       [[5.97600606e-01, 7.52252003e-01],\n",
              "        [6.81927872e-01, 8.47174776e-01],\n",
              "        [9.96290168e-01, 5.11044514e-01],\n",
              "        [2.57364625e-01, 8.37069930e-02],\n",
              "        [1.71928242e-01, 2.44268514e-01]],\n",
              "\n",
              "       [[9.10264833e-01, 9.26188326e-01],\n",
              "        [5.69378510e-01, 7.89427500e-01],\n",
              "        [3.98324134e-01, 6.70562451e-01],\n",
              "        [2.45545470e-01, 7.81569797e-01],\n",
              "        [2.23424924e-01, 4.07498699e-01]],\n",
              "\n",
              "       [[2.47838040e-02, 1.00178753e-01],\n",
              "        [3.88504460e-01, 6.01291393e-01],\n",
              "        [5.86315145e-01, 2.84988129e-01],\n",
              "        [5.48134745e-01, 1.14921017e-01],\n",
              "        [2.33993312e-01, 5.95859056e-01]],\n",
              "\n",
              "       [[3.47858783e-01, 8.30588838e-01],\n",
              "        [1.58339688e-01, 6.53687918e-01],\n",
              "        [8.21346262e-01, 8.30254918e-01],\n",
              "        [8.84914227e-01, 2.37480080e-01],\n",
              "        [6.48212047e-01, 8.79804400e-01]],\n",
              "\n",
              "       [[5.23731307e-01, 2.83514868e-01],\n",
              "        [2.28381707e-01, 9.15424021e-01],\n",
              "        [3.50181265e-01, 1.21448851e-01],\n",
              "        [5.21395332e-01, 4.64855781e-01],\n",
              "        [9.17314226e-01, 4.76218236e-01]],\n",
              "\n",
              "       [[3.07849327e-01, 1.40159588e-01],\n",
              "        [3.73338604e-01, 4.01375571e-01],\n",
              "        [1.66275174e-01, 6.58904464e-01],\n",
              "        [6.28927523e-01, 4.00336989e-02],\n",
              "        [6.46210095e-02, 4.63322856e-01]],\n",
              "\n",
              "       [[5.51215381e-01, 7.81967500e-01],\n",
              "        [5.72741511e-01, 9.36310438e-01],\n",
              "        [5.80439702e-01, 3.79375381e-01],\n",
              "        [1.17086939e-01, 7.97576285e-01],\n",
              "        [1.62812491e-01, 2.63382258e-01]],\n",
              "\n",
              "       [[8.95385080e-01, 9.98867632e-01],\n",
              "        [9.48679042e-02, 7.10370879e-01],\n",
              "        [9.94968019e-01, 6.57262925e-01],\n",
              "        [7.66594637e-01, 5.81381155e-01],\n",
              "        [3.59088338e-01, 6.73598801e-01]],\n",
              "\n",
              "       [[5.15408683e-01, 6.70636303e-01],\n",
              "        [1.43939399e-01, 2.63919314e-01],\n",
              "        [2.58734278e-01, 9.59254158e-01],\n",
              "        [4.84166954e-01, 8.21748592e-01],\n",
              "        [1.20425712e-01, 8.34550387e-01]],\n",
              "\n",
              "       [[5.74121650e-01, 4.38012207e-01],\n",
              "        [1.51912735e-01, 2.44664926e-01],\n",
              "        [1.90785603e-01, 1.31438760e-01],\n",
              "        [5.55033812e-01, 7.56826623e-01],\n",
              "        [7.66952247e-01, 9.20346203e-01]],\n",
              "\n",
              "       [[7.34818886e-01, 6.72507664e-01],\n",
              "        [7.53996919e-01, 7.28294281e-01],\n",
              "        [4.45833689e-01, 1.98621021e-01],\n",
              "        [5.55765915e-01, 1.19357261e-02],\n",
              "        [1.33758326e-01, 4.55454844e-01]],\n",
              "\n",
              "       [[2.76534381e-01, 7.44686590e-01],\n",
              "        [4.99888252e-01, 4.64538120e-01],\n",
              "        [9.52106963e-02, 3.98220707e-01],\n",
              "        [9.10791055e-01, 1.28965180e-01],\n",
              "        [5.65703021e-01, 8.42007951e-01]],\n",
              "\n",
              "       [[4.07450970e-02, 2.04212575e-01],\n",
              "        [7.04650665e-01, 5.98157640e-01],\n",
              "        [2.11938500e-01, 4.15185711e-01],\n",
              "        [2.19349184e-01, 9.34055770e-01],\n",
              "        [6.01673024e-01, 8.66286906e-01]],\n",
              "\n",
              "       [[2.33631177e-01, 5.75127373e-01],\n",
              "        [3.95477030e-01, 2.08777307e-01],\n",
              "        [2.09322386e-02, 8.29134751e-01],\n",
              "        [1.36922464e-01, 1.10065461e-02],\n",
              "        [2.84565132e-01, 7.51932257e-01]],\n",
              "\n",
              "       [[2.40296629e-01, 7.57570650e-01],\n",
              "        [1.74033906e-01, 3.08402499e-01],\n",
              "        [4.58649978e-01, 6.81429547e-01],\n",
              "        [2.27708595e-01, 6.27685000e-01],\n",
              "        [4.17887414e-01, 3.51981829e-01]],\n",
              "\n",
              "       [[5.41761536e-01, 5.55360593e-01],\n",
              "        [9.39344459e-01, 9.82610347e-01],\n",
              "        [8.31588063e-01, 8.36408620e-01],\n",
              "        [6.14030972e-01, 4.35164051e-01],\n",
              "        [8.04675283e-01, 8.02452123e-01]],\n",
              "\n",
              "       [[5.98474554e-02, 8.39542859e-01],\n",
              "        [6.90569868e-01, 7.99908584e-01],\n",
              "        [2.69867804e-01, 4.43601960e-02],\n",
              "        [6.30572439e-01, 2.34111697e-01],\n",
              "        [7.37282592e-01, 5.65139509e-01]],\n",
              "\n",
              "       [[7.97753161e-01, 8.88418905e-01],\n",
              "        [8.52163905e-01, 2.23981478e-01],\n",
              "        [7.39051482e-01, 5.17728869e-02],\n",
              "        [8.74339729e-01, 8.74387704e-01],\n",
              "        [7.49939633e-01, 9.31491653e-01]],\n",
              "\n",
              "       [[4.09607971e-03, 8.29187263e-01],\n",
              "        [4.61685635e-01, 4.48497587e-01],\n",
              "        [6.09680623e-01, 5.70137040e-01],\n",
              "        [3.26133628e-03, 5.70288373e-01],\n",
              "        [7.10062085e-01, 4.54256001e-02]],\n",
              "\n",
              "       [[4.95502557e-01, 4.97320350e-01],\n",
              "        [4.19417515e-01, 7.27812096e-01],\n",
              "        [2.46785960e-01, 9.64063535e-01],\n",
              "        [1.07431473e-01, 8.45143273e-03],\n",
              "        [7.32662550e-01, 4.21918609e-01]],\n",
              "\n",
              "       [[7.61935914e-01, 4.55024899e-01],\n",
              "        [6.33993086e-01, 3.34910683e-01],\n",
              "        [7.97061636e-01, 2.09604105e-01],\n",
              "        [5.07584171e-01, 3.74235378e-01],\n",
              "        [4.77280071e-01, 4.40896354e-01]],\n",
              "\n",
              "       [[9.59983778e-01, 1.26310924e-01],\n",
              "        [4.44993147e-01, 8.48233598e-02],\n",
              "        [9.41616821e-01, 5.29946468e-01],\n",
              "        [4.23857897e-02, 6.45099570e-02],\n",
              "        [1.60852487e-02, 4.09292125e-01]],\n",
              "\n",
              "       [[5.78327336e-01, 8.59457995e-01],\n",
              "        [9.05099231e-02, 2.74261071e-01],\n",
              "        [3.60381869e-01, 1.92265511e-01],\n",
              "        [1.45798748e-01, 1.79414128e-01],\n",
              "        [6.73040012e-01, 2.59113454e-01]],\n",
              "\n",
              "       [[5.96591468e-01, 8.18144679e-01],\n",
              "        [4.22845154e-01, 2.14030945e-01],\n",
              "        [9.32348445e-01, 1.80922728e-01],\n",
              "        [2.84314241e-01, 7.10689863e-01],\n",
              "        [8.12994934e-01, 6.48586533e-01]],\n",
              "\n",
              "       [[9.58007384e-01, 5.05517523e-02],\n",
              "        [8.65292270e-01, 1.11990164e-01],\n",
              "        [7.68645292e-01, 2.14261223e-01],\n",
              "        [9.57974854e-01, 2.64573235e-01],\n",
              "        [2.87259104e-01, 3.84207788e-02]],\n",
              "\n",
              "       [[6.39155671e-02, 3.87181852e-01],\n",
              "        [9.15547346e-01, 3.86090077e-01],\n",
              "        [5.10227356e-01, 6.11452104e-01],\n",
              "        [3.12062048e-01, 7.30699410e-01],\n",
              "        [9.14178552e-01, 2.88870942e-01]],\n",
              "\n",
              "       [[9.48220180e-01, 5.51998125e-01],\n",
              "        [9.15649956e-01, 8.53629896e-01],\n",
              "        [5.94586214e-01, 8.05912287e-01],\n",
              "        [2.43452194e-01, 6.68944703e-01],\n",
              "        [7.22007597e-01, 5.72843580e-01]],\n",
              "\n",
              "       [[2.09404635e-01, 2.40730799e-01],\n",
              "        [3.91805516e-01, 4.88886413e-01],\n",
              "        [9.78163200e-01, 4.32174464e-01],\n",
              "        [4.04676975e-01, 2.87981065e-01],\n",
              "        [9.86820235e-01, 9.36040149e-01]],\n",
              "\n",
              "       [[4.57007376e-01, 8.94994667e-02],\n",
              "        [7.56898689e-01, 4.77950805e-01],\n",
              "        [2.98820675e-01, 5.24088711e-01],\n",
              "        [9.48558138e-01, 7.13725320e-01],\n",
              "        [3.49835778e-01, 7.62354178e-01]],\n",
              "\n",
              "       [[1.23862914e-01, 6.83174176e-01],\n",
              "        [5.63747558e-01, 3.04704209e-01],\n",
              "        [1.54330840e-01, 4.03694733e-01],\n",
              "        [7.36685945e-01, 4.27882582e-01],\n",
              "        [2.55848791e-01, 2.54808138e-01]],\n",
              "\n",
              "       [[2.47877201e-01, 6.46075303e-02],\n",
              "        [9.61639747e-01, 5.60812088e-01],\n",
              "        [1.69547784e-01, 3.46442664e-01],\n",
              "        [8.31485776e-01, 1.38086400e-02],\n",
              "        [4.60177706e-01, 8.65340008e-01]],\n",
              "\n",
              "       [[4.06151808e-01, 2.41929337e-01],\n",
              "        [6.50750537e-01, 9.09481262e-01],\n",
              "        [8.61500298e-01, 6.71503833e-01],\n",
              "        [8.97781866e-01, 2.95752056e-01],\n",
              "        [9.57130565e-01, 2.18899716e-01]],\n",
              "\n",
              "       [[4.37858620e-01, 8.03593492e-02],\n",
              "        [9.01005895e-01, 3.96498680e-01],\n",
              "        [6.85533851e-01, 3.54925357e-01],\n",
              "        [1.09776021e-01, 3.72089409e-01],\n",
              "        [4.56023953e-01, 2.75552368e-01]],\n",
              "\n",
              "       [[1.41175077e-01, 2.00751979e-01],\n",
              "        [7.36675364e-01, 5.54545184e-02],\n",
              "        [5.48348486e-01, 3.27812102e-01],\n",
              "        [4.94351683e-01, 1.23223325e-01],\n",
              "        [3.92456949e-01, 7.55716265e-01]],\n",
              "\n",
              "       [[2.06762415e-01, 7.46194142e-01],\n",
              "        [1.49359920e-01, 8.13930406e-01],\n",
              "        [7.24892904e-01, 3.91607689e-01],\n",
              "        [7.76903642e-01, 5.48454163e-02],\n",
              "        [3.35561245e-01, 1.74814430e-01]],\n",
              "\n",
              "       [[9.09125720e-01, 9.37024011e-01],\n",
              "        [9.15840613e-02, 9.44732074e-01],\n",
              "        [9.45697021e-01, 8.70511607e-01],\n",
              "        [4.31768587e-01, 9.07556908e-01],\n",
              "        [1.59536413e-04, 7.70855217e-02]],\n",
              "\n",
              "       [[3.03069388e-01, 7.89594657e-01],\n",
              "        [7.63927178e-01, 3.37182256e-01],\n",
              "        [9.49882853e-01, 2.31490806e-01],\n",
              "        [8.14123224e-01, 6.82284587e-01],\n",
              "        [4.25353583e-01, 4.79457430e-01]],\n",
              "\n",
              "       [[4.46483978e-01, 1.48706202e-01],\n",
              "        [7.66471611e-01, 4.98025342e-01],\n",
              "        [7.48916698e-01, 4.65977190e-01],\n",
              "        [4.63296629e-01, 3.12661265e-01],\n",
              "        [4.71406664e-01, 5.37228044e-01]],\n",
              "\n",
              "       [[3.11555975e-01, 8.24296982e-02],\n",
              "        [9.25383521e-01, 8.29455726e-01],\n",
              "        [5.77080096e-01, 9.35921134e-01],\n",
              "        [9.91893838e-01, 9.01498627e-01],\n",
              "        [1.42822844e-01, 2.72882099e-01]],\n",
              "\n",
              "       [[7.56695458e-01, 3.83127636e-01],\n",
              "        [1.22591112e-01, 6.99637135e-01],\n",
              "        [6.57073991e-01, 1.51174431e-01],\n",
              "        [1.61899524e-01, 5.60115806e-01],\n",
              "        [4.24376124e-01, 3.02546093e-01]],\n",
              "\n",
              "       [[1.12716313e-01, 5.50208588e-01],\n",
              "        [9.41390176e-01, 8.88530186e-01],\n",
              "        [4.21350379e-01, 8.46541888e-01],\n",
              "        [9.87272335e-01, 3.43264831e-01],\n",
              "        [7.22009276e-01, 1.89194432e-01]],\n",
              "\n",
              "       [[8.38757614e-01, 9.59640874e-01],\n",
              "        [7.73905101e-02, 3.45862054e-01],\n",
              "        [7.50239988e-02, 3.09962754e-01],\n",
              "        [2.89486183e-01, 9.14650266e-01],\n",
              "        [9.99528757e-01, 9.47797103e-01]],\n",
              "\n",
              "       [[2.99575939e-01, 6.67801751e-01],\n",
              "        [7.52534426e-01, 1.97236232e-01],\n",
              "        [7.42505793e-01, 8.02093545e-01],\n",
              "        [5.54270896e-01, 4.62776545e-01],\n",
              "        [3.27672764e-01, 4.37742692e-01]],\n",
              "\n",
              "       [[4.23135831e-01, 1.03277966e-01],\n",
              "        [6.48173948e-01, 6.45807298e-01],\n",
              "        [6.76576514e-01, 9.60201722e-01],\n",
              "        [3.29654702e-01, 8.20275597e-02],\n",
              "        [7.68341222e-01, 8.45475594e-01]],\n",
              "\n",
              "       [[3.78359438e-01, 3.99313304e-01],\n",
              "        [5.14366533e-01, 8.78209834e-01],\n",
              "        [2.00456790e-01, 3.51862552e-01],\n",
              "        [6.19695303e-01, 2.70407765e-01],\n",
              "        [5.99303503e-01, 5.47991970e-01]],\n",
              "\n",
              "       [[4.52986420e-01, 2.53610466e-01],\n",
              "        [8.32516130e-01, 3.38384739e-01],\n",
              "        [6.43483326e-01, 2.84165623e-01],\n",
              "        [2.35673946e-01, 4.05856266e-01],\n",
              "        [2.88918485e-02, 9.88958608e-01]],\n",
              "\n",
              "       [[7.07438606e-01, 5.91291941e-01],\n",
              "        [3.97949775e-01, 8.71660865e-01],\n",
              "        [8.27452912e-01, 4.10902467e-01],\n",
              "        [9.33270941e-02, 1.60192440e-01],\n",
              "        [3.72244204e-01, 1.73556395e-01]],\n",
              "\n",
              "       [[7.42014492e-01, 7.36172224e-01],\n",
              "        [9.43794435e-02, 8.59578600e-01],\n",
              "        [9.70281872e-01, 4.15202949e-01],\n",
              "        [5.50578551e-01, 1.90372882e-01],\n",
              "        [2.86611795e-01, 1.99198133e-01]],\n",
              "\n",
              "       [[8.64767708e-01, 1.02013780e-01],\n",
              "        [8.03522478e-01, 8.78879889e-01],\n",
              "        [6.79285642e-01, 2.30218553e-01],\n",
              "        [1.32515779e-01, 2.13603323e-01],\n",
              "        [6.68523662e-01, 6.42403339e-02]],\n",
              "\n",
              "       [[6.38934902e-01, 3.49321887e-01],\n",
              "        [1.07150375e-01, 7.74569897e-01],\n",
              "        [1.28092505e-01, 5.89133853e-02],\n",
              "        [1.46531642e-01, 1.19953286e-01],\n",
              "        [5.04800858e-01, 2.55029863e-01]],\n",
              "\n",
              "       [[6.28446464e-01, 6.41765572e-01],\n",
              "        [4.05757143e-01, 7.95229030e-01],\n",
              "        [4.29616066e-01, 8.30493188e-01],\n",
              "        [6.75208343e-01, 7.37579126e-01],\n",
              "        [7.17022545e-01, 4.82009543e-01]],\n",
              "\n",
              "       [[5.24181930e-02, 8.39119993e-01],\n",
              "        [3.21357229e-01, 9.60675724e-02],\n",
              "        [9.22482571e-01, 7.55907645e-01],\n",
              "        [7.62569482e-01, 1.33625502e-01],\n",
              "        [2.21500892e-01, 2.92592787e-01]],\n",
              "\n",
              "       [[3.01638999e-01, 8.08479363e-01],\n",
              "        [2.88454589e-01, 3.80479167e-01],\n",
              "        [3.67900549e-01, 9.35880859e-01],\n",
              "        [6.17151578e-01, 7.76038949e-01],\n",
              "        [3.29755069e-01, 8.48823498e-01]],\n",
              "\n",
              "       [[2.36318071e-01, 3.21315601e-01],\n",
              "        [7.68368435e-01, 6.33482150e-01],\n",
              "        [1.38932766e-01, 2.36446416e-01],\n",
              "        [2.07863646e-01, 3.28810092e-01],\n",
              "        [6.55911355e-02, 5.82523217e-02]],\n",
              "\n",
              "       [[4.71940011e-01, 6.37768411e-01],\n",
              "        [5.92211128e-01, 6.70681564e-01],\n",
              "        [3.61082537e-02, 5.10099915e-02],\n",
              "        [9.47943138e-01, 7.36263522e-01],\n",
              "        [4.62406744e-01, 3.08601544e-01]],\n",
              "\n",
              "       [[1.09135619e-01, 1.21146702e-01],\n",
              "        [6.66766980e-01, 9.99814269e-01],\n",
              "        [1.58936131e-01, 5.13849318e-01],\n",
              "        [3.49248818e-01, 4.39930690e-01],\n",
              "        [7.22956040e-01, 3.87365964e-01]],\n",
              "\n",
              "       [[1.93415638e-01, 6.27344353e-01],\n",
              "        [9.75796861e-01, 4.46682430e-01],\n",
              "        [1.71366262e-01, 8.33024750e-01],\n",
              "        [2.66337525e-01, 8.31906006e-01],\n",
              "        [5.08540182e-01, 1.79221187e-01]],\n",
              "\n",
              "       [[2.45616670e-01, 2.47825568e-01],\n",
              "        [4.55160858e-01, 5.00042928e-01],\n",
              "        [9.04507999e-01, 1.40924414e-01],\n",
              "        [5.86595206e-01, 6.48701658e-01],\n",
              "        [9.67554918e-01, 9.39786522e-03]],\n",
              "\n",
              "       [[6.90630496e-01, 4.00603832e-01],\n",
              "        [5.92784224e-01, 5.51097576e-01],\n",
              "        [9.74104744e-01, 5.58064307e-01],\n",
              "        [6.75904004e-01, 6.64076065e-01],\n",
              "        [4.41431363e-01, 4.56966302e-03]],\n",
              "\n",
              "       [[8.04344268e-01, 4.61329188e-01],\n",
              "        [9.98947490e-02, 6.44464455e-01],\n",
              "        [6.65268079e-02, 5.83733913e-01],\n",
              "        [2.70296141e-02, 7.50136755e-01],\n",
              "        [3.85510982e-01, 8.39593950e-01]],\n",
              "\n",
              "       [[3.32495748e-02, 9.57832639e-01],\n",
              "        [8.62343522e-01, 4.21885769e-02],\n",
              "        [5.98332507e-01, 3.96070317e-01],\n",
              "        [7.98227669e-01, 6.47873869e-01],\n",
              "        [1.18936568e-01, 7.86252381e-01]],\n",
              "\n",
              "       [[2.17905455e-01, 8.83365119e-01],\n",
              "        [7.86137488e-01, 9.28555737e-01],\n",
              "        [5.30301362e-01, 3.86062441e-01],\n",
              "        [1.85122570e-01, 2.98767333e-01],\n",
              "        [7.36517155e-01, 3.31721738e-01]],\n",
              "\n",
              "       [[4.76946558e-01, 6.82609415e-01],\n",
              "        [3.80237066e-01, 7.03197778e-01],\n",
              "        [7.81098434e-01, 4.62415629e-01],\n",
              "        [3.83936989e-01, 8.91874880e-01],\n",
              "        [7.09188311e-01, 4.55821880e-01]],\n",
              "\n",
              "       [[8.28939124e-01, 7.31666175e-01],\n",
              "        [4.71374824e-01, 6.03731675e-01],\n",
              "        [1.73570279e-01, 6.66475953e-01],\n",
              "        [3.72969698e-01, 1.71188456e-01],\n",
              "        [9.70770264e-01, 4.30408820e-01]],\n",
              "\n",
              "       [[7.59600448e-02, 6.26090838e-01],\n",
              "        [5.90247980e-01, 4.09944169e-01],\n",
              "        [5.46545006e-01, 5.81216461e-01],\n",
              "        [9.43883014e-01, 1.80913090e-02],\n",
              "        [6.36820603e-01, 9.02480539e-01]],\n",
              "\n",
              "       [[2.66511031e-01, 3.30949432e-01],\n",
              "        [6.43624539e-01, 3.87970283e-01],\n",
              "        [5.95931622e-01, 9.26789622e-01],\n",
              "        [5.01423088e-01, 4.30520056e-01],\n",
              "        [2.44625941e-01, 1.25278021e-01]],\n",
              "\n",
              "       [[4.53194155e-02, 4.61379375e-01],\n",
              "        [7.72730285e-01, 6.07737288e-01],\n",
              "        [5.55400312e-01, 2.39714320e-01],\n",
              "        [4.49187378e-01, 2.93504781e-01],\n",
              "        [8.84755061e-01, 8.84895846e-01]],\n",
              "\n",
              "       [[4.48323896e-01, 2.97262341e-01],\n",
              "        [8.44857277e-01, 2.51800357e-01],\n",
              "        [1.41791809e-01, 8.95891796e-01],\n",
              "        [7.17861914e-01, 2.92281966e-01],\n",
              "        [6.33591835e-01, 1.69898875e-01]]])"
            ]
          },
          "execution_count": 142,
          "metadata": {},
          "output_type": "execute_result"
        }
      ],
      "source": [
        "# Organizing data for feature selection\n",
        "data = np.random.rand(100, 10)  # 100 observations, 10 features\n",
        "reshaped_data = data.reshape(100, 5, 2)  # Grouping features for analysis\n",
        "reshaped_data"
      ]
    },
    {
      "cell_type": "code",
      "execution_count": 143,
      "metadata": {
        "id": "A0bgUg9a-gbD"
      },
      "outputs": [
        {
          "data": {
            "text/plain": [
              "np.int64(32)"
            ]
          },
          "execution_count": 143,
          "metadata": {},
          "output_type": "execute_result"
        }
      ],
      "source": [
        "import numpy as np\n",
        "\n",
        "a = np.array([1, 2, 3])\n",
        "b = np.array([4, 5, 6])\n",
        "\n",
        "result = np.dot(a, b)\n",
        "# or\n",
        "#t = a @ b #dot product\n",
        "result"
      ]
    },
    {
      "cell_type": "code",
      "execution_count": 144,
      "metadata": {
        "id": "l5n3ccf3K0z9"
      },
      "outputs": [
        {
          "data": {
            "text/plain": [
              "array([[0.16595162, 0.85937626, 0.02677293, 0.08209604, 0.66059617,\n",
              "        0.49161093, 0.65848761],\n",
              "       [0.47033599, 0.05609042, 0.62047148, 0.80666794, 0.2007274 ,\n",
              "        0.29764415, 0.39208982],\n",
              "       [0.42903761, 0.12742478, 0.38526943, 0.36477346, 0.14403062,\n",
              "        0.05096435, 0.22563432],\n",
              "       [0.84116731, 0.85155015, 0.97392041, 0.66289234, 0.19476298,\n",
              "        0.55094313, 0.95798373],\n",
              "       [0.4388117 , 0.61622584, 0.94512207, 0.1956413 , 0.18792754,\n",
              "        0.95771104, 0.18127545],\n",
              "       [0.50247054, 0.19982629, 0.62620456, 0.81564212, 0.79853689,\n",
              "        0.61259346, 0.28031164],\n",
              "       [0.06782942, 0.69902651, 0.37260535, 0.17142002, 0.79795162,\n",
              "        0.4587653 , 0.03865699],\n",
              "       [0.04753555, 0.36072711, 0.24919468, 0.72682192, 0.34806309,\n",
              "        0.53583565, 0.56161418],\n",
              "       [0.3036271 , 0.71039244, 0.61470315, 0.24190946, 0.90683236,\n",
              "        0.76891693, 0.64997516],\n",
              "       [0.18038015, 0.65758468, 0.1100992 , 0.73149539, 0.76448057,\n",
              "        0.72969681, 0.80617289],\n",
              "       [0.95589348, 0.95436617, 0.84043221, 0.45596479, 0.38531796,\n",
              "        0.33932777, 0.53653177],\n",
              "       [0.63254267, 0.41096317, 0.11358946, 0.39708877, 0.77432528,\n",
              "        0.55877416, 0.85629572],\n",
              "       [0.72800611, 0.64187877, 0.20397365, 0.12535624, 0.1760239 ,\n",
              "        0.88432941, 0.56157196],\n",
              "       [0.35743086, 0.97720847, 0.74455671, 0.91676364, 0.8633089 ,\n",
              "        0.80059393, 0.8911298 ],\n",
              "       [0.22864591, 0.97787774, 0.05484573, 0.37493517, 0.32872207,\n",
              "        0.91565596, 0.90608407],\n",
              "       [0.56441385, 0.133431  , 0.94583666, 0.42789117, 0.73920847,\n",
              "        0.20573009, 0.63843736],\n",
              "       [0.57084975, 0.64477002, 0.20431899, 0.10475995, 0.8927377 ,\n",
              "        0.40482528, 0.77396697],\n",
              "       [0.20815082, 0.70520241, 0.74861206, 0.50739239, 0.48139949,\n",
              "        0.73452263, 0.95167762],\n",
              "       [0.70401737, 0.09520007, 0.69679548, 0.77688981, 0.98962978,\n",
              "        0.97816108, 0.49403604],\n",
              "       [0.52103496, 0.78940571, 0.38361484, 0.45452255, 0.70703682,\n",
              "        0.24354568, 0.3626268 ],\n",
              "       [0.49822718, 0.5702119 , 0.41321303, 0.70714676, 0.15602403,\n",
              "        0.59988673, 0.21963036],\n",
              "       [0.72711939, 0.89912273, 0.67639225, 0.45588533, 0.23676542,\n",
              "        0.61041348, 0.80034138],\n",
              "       [0.28948303, 0.36915082, 0.36243441, 0.42685704, 0.13052357,\n",
              "        0.91720172, 0.65014119],\n",
              "       [0.66344594, 0.72893999, 0.19570482, 0.33029732, 0.48682993,\n",
              "        0.14404869, 0.88152215],\n",
              "       [0.64692615, 0.98808308, 0.29011004, 0.65705248, 0.75215387,\n",
              "        0.67136794, 0.67251589],\n",
              "       [0.82699064, 0.73563216, 0.19971356, 0.41728896, 0.8043565 ,\n",
              "        0.13058   , 0.89197534],\n",
              "       [0.93090077, 0.45160328, 0.68103061, 0.81391169, 0.02528863,\n",
              "        0.4957913 , 0.17748624],\n",
              "       [0.09806819, 0.90191244, 0.98688417, 0.62758898, 0.26575633,\n",
              "        0.69020939, 0.72775082],\n",
              "       [0.06475675, 0.08627487, 0.57415249, 0.65770773, 0.741137  ,\n",
              "        0.81900483, 0.25289131],\n",
              "       [0.13060861, 0.4856061 , 0.79654936, 0.13066849, 0.20809104,\n",
              "        0.64540536, 0.46643301],\n",
              "       [0.21509118, 0.1708193 , 0.18902221, 0.64766536, 0.36122543,\n",
              "        0.37135224, 0.83492192],\n",
              "       [0.32514111, 0.79306766, 0.20809715, 0.32761729, 0.10565042,\n",
              "        0.69055801, 0.29075974],\n",
              "       [0.79975177, 0.72267202, 0.60661569, 0.09955473, 0.28223515,\n",
              "        0.41435072, 0.60570336],\n",
              "       [0.25308325, 0.89863556, 0.83713409, 0.55505735, 0.72534408,\n",
              "        0.08359157, 0.42269473],\n",
              "       [0.66478024, 0.55524598, 0.25997588, 0.17903725, 0.90375668,\n",
              "        0.10610399, 0.2866908 ],\n",
              "       [0.47214383, 0.22471811, 0.92073607, 0.40618617, 0.61661835,\n",
              "        0.15156347, 0.56065919],\n",
              "       [0.19659493, 0.95325729, 0.12440613, 0.90333392, 0.4375366 ,\n",
              "        0.0668634 , 0.3354597 ],\n",
              "       [0.86163695, 0.63547956, 0.67464545, 0.22177094, 0.6803493 ,\n",
              "        0.76388849, 0.80422839],\n",
              "       [0.37440085, 0.20940958, 0.67672603, 0.14249196, 0.66751683,\n",
              "        0.80843739, 0.12323777],\n",
              "       [0.13589828, 0.53600492, 0.65747824, 0.93838871, 0.74406116,\n",
              "        0.10467015, 0.17140213],\n",
              "       [0.36264423, 0.7332733 , 0.08183655, 0.33233448, 0.96410952,\n",
              "        0.19859855, 0.59261075],\n",
              "       [0.34232173, 0.96345475, 0.78459251, 0.73213592, 0.9978705 ,\n",
              "        0.76578882, 0.8981415 ],\n",
              "       [0.92331797, 0.04403801, 0.24070811, 0.33907872, 0.64092611,\n",
              "        0.58824272, 0.04535993],\n",
              "       [0.18955938, 0.97380065, 0.10731783, 0.79180505, 0.61259758,\n",
              "        0.55008665, 0.36048745],\n",
              "       [0.30023869, 0.38408132, 0.3977295 , 0.06680776, 0.11708778,\n",
              "        0.24211364, 0.72355027],\n",
              "       [0.82661157, 0.57258737, 0.25600824, 0.4353308 , 0.99642373,\n",
              "        0.34745838, 0.4574772 ],\n",
              "       [0.46527268, 0.02948798, 0.35717997, 0.1960211 , 0.58801887,\n",
              "        0.0435391 , 0.41813472],\n",
              "       [0.46946872, 0.6600778 , 0.43740163, 0.02712498, 0.49311382,\n",
              "        0.02087074, 0.76209489],\n",
              "       [0.66573447, 0.89054222, 0.60283182, 0.74128176, 0.99487806,\n",
              "        0.02384268, 0.54913763],\n",
              "       [0.7309085 , 0.06843793, 0.93725231, 0.55297129, 0.3260795 ,\n",
              "        0.55764722, 0.38809146],\n",
              "       [0.44258853, 0.50300734, 0.30531748, 0.22374657, 0.62213388,\n",
              "        0.02347053, 0.49754179],\n",
              "       [0.3706038 , 0.08375216, 0.15815412, 0.28133439, 0.55426399,\n",
              "        0.51583886, 0.25041607]])"
            ]
          },
          "execution_count": 144,
          "metadata": {},
          "output_type": "execute_result"
        }
      ],
      "source": [
        "\n",
        "# Reshaping data for time-series analysis\n",
        "time_series_data = np.random.rand(365)  # Daily data for a year\n",
        "#reshaped_for_analysis = time_series_data.reshape(52, 7)  # Weekly data, 7 days a week\n",
        "reshaped_for_analysis = time_series_data[:364].reshape(52, 7)\n",
        "reshaped_for_analysis"
      ]
    }
  ],
  "metadata": {
    "colab": {
      "provenance": []
    },
    "kernelspec": {
      "display_name": "jupyter_env",
      "language": "python",
      "name": "python3"
    },
    "language_info": {
      "codemirror_mode": {
        "name": "ipython",
        "version": 3
      },
      "file_extension": ".py",
      "mimetype": "text/x-python",
      "name": "python",
      "nbconvert_exporter": "python",
      "pygments_lexer": "ipython3",
      "version": "3.12.11"
    }
  },
  "nbformat": 4,
  "nbformat_minor": 0
}
