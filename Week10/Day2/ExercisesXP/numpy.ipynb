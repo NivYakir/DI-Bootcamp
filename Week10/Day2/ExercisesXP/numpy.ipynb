{
 "cells": [
  {
   "cell_type": "code",
   "execution_count": 2,
   "id": "a25a4a71",
   "metadata": {},
   "outputs": [
    {
     "name": "stdout",
     "output_type": "stream",
     "text": [
      "2.3.2\n"
     ]
    }
   ],
   "source": [
    "import numpy as np\n",
    "print(np.__version__)"
   ]
  },
  {
   "cell_type": "markdown",
   "id": "11d93089",
   "metadata": {},
   "source": [
    "# Exercise 1: Array Creation and Manipulation"
   ]
  },
  {
   "cell_type": "code",
   "execution_count": 6,
   "id": "e78253fe",
   "metadata": {},
   "outputs": [
    {
     "data": {
      "text/plain": [
       "array([0, 1, 2, 3, 4, 5, 6, 7, 8, 9])"
      ]
     },
     "execution_count": 6,
     "metadata": {},
     "output_type": "execute_result"
    }
   ],
   "source": [
    "# Create a 1D NumPy array containing numbers from 0 to 9\n",
    "array_1d = np.arange(10)\n",
    "array_1d"
   ]
  },
  {
   "cell_type": "markdown",
   "id": "762000ee",
   "metadata": {},
   "source": [
    "# Exercise 2: Type Conversion and Array Operations"
   ]
  },
  {
   "cell_type": "code",
   "execution_count": 5,
   "id": "658a4988",
   "metadata": {},
   "outputs": [
    {
     "data": {
      "text/plain": [
       "array([3, 2, 0, 1, 2])"
      ]
     },
     "execution_count": 5,
     "metadata": {},
     "output_type": "execute_result"
    }
   ],
   "source": [
    "# Convert List to Numpy Array with Dtype Int\n",
    "list1 = [3.14, 2.17, 0, 1, 2]\n",
    "\n",
    "list1 = np.array(list1, dtype=int)\n",
    "list1"
   ]
  },
  {
   "cell_type": "markdown",
   "id": "7282da84",
   "metadata": {},
   "source": [
    "# Exercise 3 : Working with Multi-Dimensional Arrays"
   ]
  },
  {
   "cell_type": "code",
   "execution_count": 7,
   "id": "7b9361e2",
   "metadata": {},
   "outputs": [
    {
     "data": {
      "text/plain": [
       "array([[1, 2, 3],\n",
       "       [4, 5, 6],\n",
       "       [7, 8, 9]])"
      ]
     },
     "execution_count": 7,
     "metadata": {},
     "output_type": "execute_result"
    }
   ],
   "source": [
    "# Create a 3x3 NumPy array with values ranging from 1 to 9\n",
    "array = np.arange(1, 10).reshape(3, 3)\n",
    "array"
   ]
  },
  {
   "cell_type": "markdown",
   "id": "53f4d852",
   "metadata": {},
   "source": [
    "# Exercise 4: Creating Multi-Dimensional Array with Random Numbers"
   ]
  },
  {
   "cell_type": "code",
   "execution_count": 10,
   "id": "c49970e7",
   "metadata": {},
   "outputs": [
    {
     "data": {
      "text/plain": [
       "array([[0.56274697, 0.42256279, 0.07439396, 0.72711077, 0.75752173],\n",
       "       [0.17085148, 0.81940342, 0.26011686, 0.10264375, 0.40910002],\n",
       "       [0.67754138, 0.62802613, 0.1353075 , 0.8076217 , 0.49170697],\n",
       "       [0.49103982, 0.66210235, 0.95511538, 0.80967172, 0.04683661]])"
      ]
     },
     "execution_count": 10,
     "metadata": {},
     "output_type": "execute_result"
    }
   ],
   "source": [
    "# Create a 2D NumPy array of shape (4, 5) filled with random numbers.\n",
    "rand_array = np.random.rand(4,5)\n",
    "rand_array"
   ]
  },
  {
   "cell_type": "markdown",
   "id": "4eba3308",
   "metadata": {},
   "source": [
    "# Exercise 5: Indexing Arrays"
   ]
  },
  {
   "cell_type": "code",
   "execution_count": 13,
   "id": "37d491f6",
   "metadata": {},
   "outputs": [
    {
     "name": "stdout",
     "output_type": "stream",
     "text": [
      "Second Row: [20 21 22 23 24]\n"
     ]
    }
   ],
   "source": [
    "# Select the 2nd Row from a Given 2d Array\n",
    "array = np.array([[21,22,23,22,22],[20, 21, 22, 23, 24],[21,22,23,22,22]])\n",
    "\n",
    "print(\"Second Row:\", array[1, :])"
   ]
  },
  {
   "cell_type": "markdown",
   "id": "59116f4a",
   "metadata": {},
   "source": [
    "# Exercise 6: Reversing Elements"
   ]
  },
  {
   "cell_type": "code",
   "execution_count": null,
   "id": "89fe1fdb",
   "metadata": {},
   "outputs": [
    {
     "data": {
      "text/plain": [
       "array([9, 8, 7, 6, 5, 4, 3, 2, 1, 0])"
      ]
     },
     "execution_count": 18,
     "metadata": {},
     "output_type": "execute_result"
    }
   ],
   "source": [
    "# Reverse the order of elements in a given 1D NumPy array (first element becomes last)\n",
    "array = np.arange(10)\n",
    "array = array[::-1]\n",
    "array"
   ]
  },
  {
   "cell_type": "markdown",
   "id": "c2f51266",
   "metadata": {},
   "source": [
    "# Exercise 7 : Identity Matrix"
   ]
  },
  {
   "cell_type": "code",
   "execution_count": 19,
   "id": "c47474e7",
   "metadata": {},
   "outputs": [
    {
     "data": {
      "text/plain": [
       "array([[1., 0., 0., 0.],\n",
       "       [0., 1., 0., 0.],\n",
       "       [0., 0., 1., 0.],\n",
       "       [0., 0., 0., 1.]])"
      ]
     },
     "execution_count": 19,
     "metadata": {},
     "output_type": "execute_result"
    }
   ],
   "source": [
    "# Create a 4x4 identity matrix using NumPy\n",
    "imatrix = np.identity(4)\n",
    "imatrix"
   ]
  },
  {
   "cell_type": "markdown",
   "id": "0e3a2278",
   "metadata": {},
   "source": [
    "# Exercise 8: Simple Aggregate Functions"
   ]
  },
  {
   "cell_type": "code",
   "execution_count": 20,
   "id": "e1754d6e",
   "metadata": {},
   "outputs": [
    {
     "name": "stdout",
     "output_type": "stream",
     "text": [
      "Sum: 45\n",
      "Average: 4.5\n"
     ]
    }
   ],
   "source": [
    "# Find the sum and average of a given 1D array\n",
    "array = np.arange(10)\n",
    "print(\"Sum:\", np.sum(array))\n",
    "print(\"Average:\", np.mean(array))"
   ]
  },
  {
   "cell_type": "markdown",
   "id": "20e64061",
   "metadata": {},
   "source": [
    "# Exercise 9: Create Array and Change its Structure"
   ]
  },
  {
   "cell_type": "code",
   "execution_count": 23,
   "id": "716e27ec",
   "metadata": {},
   "outputs": [
    {
     "data": {
      "text/plain": [
       "array([[ 1,  2,  3,  4,  5],\n",
       "       [ 6,  7,  8,  9, 10],\n",
       "       [11, 12, 13, 14, 15],\n",
       "       [16, 17, 18, 19, 20]])"
      ]
     },
     "execution_count": 23,
     "metadata": {},
     "output_type": "execute_result"
    }
   ],
   "source": [
    "# Create a NumPy array with elements from 1 to 20; then reshape it into a 4x5 matrix\n",
    "array = np.arange(1,21).reshape(4,5)\n",
    "array\n"
   ]
  },
  {
   "cell_type": "markdown",
   "id": "c81b8b2d",
   "metadata": {},
   "source": [
    "# Exercise 10: Conditional Selection of Values"
   ]
  },
  {
   "cell_type": "code",
   "execution_count": 24,
   "id": "388b456d",
   "metadata": {},
   "outputs": [
    {
     "name": "stdout",
     "output_type": "stream",
     "text": [
      "[1 3 5 7 9]\n"
     ]
    }
   ],
   "source": [
    "# Extract all odd numbers from a given NumPy array\n",
    "array = np.arange(10)\n",
    "print(array[array % 2 == 1])"
   ]
  }
 ],
 "metadata": {
  "kernelspec": {
   "display_name": "jupyter_env",
   "language": "python",
   "name": "python3"
  },
  "language_info": {
   "codemirror_mode": {
    "name": "ipython",
    "version": 3
   },
   "file_extension": ".py",
   "mimetype": "text/x-python",
   "name": "python",
   "nbconvert_exporter": "python",
   "pygments_lexer": "ipython3",
   "version": "3.12.11"
  }
 },
 "nbformat": 4,
 "nbformat_minor": 5
}
