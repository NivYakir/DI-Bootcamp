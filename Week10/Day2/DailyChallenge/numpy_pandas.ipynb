{
 "cells": [
  {
   "cell_type": "code",
   "execution_count": 52,
   "id": "9151fef4",
   "metadata": {},
   "outputs": [],
   "source": [
    "import numpy as np\n",
    "import pandas as pd\n",
    "import plotly.express as px"
   ]
  },
  {
   "cell_type": "markdown",
   "id": "fbc3fd18",
   "metadata": {},
   "source": [
    "# Data Preparation:"
   ]
  },
  {
   "cell_type": "code",
   "execution_count": 53,
   "id": "37dd30ec",
   "metadata": {},
   "outputs": [
    {
     "data": {
      "text/html": [
       "<div>\n",
       "<style scoped>\n",
       "    .dataframe tbody tr th:only-of-type {\n",
       "        vertical-align: middle;\n",
       "    }\n",
       "\n",
       "    .dataframe tbody tr th {\n",
       "        vertical-align: top;\n",
       "    }\n",
       "\n",
       "    .dataframe thead th {\n",
       "        text-align: right;\n",
       "    }\n",
       "</style>\n",
       "<table border=\"1\" class=\"dataframe\">\n",
       "  <thead>\n",
       "    <tr style=\"text-align: right;\">\n",
       "      <th></th>\n",
       "      <th>Jan</th>\n",
       "      <th>Feb</th>\n",
       "      <th>Mar</th>\n",
       "      <th>Apr</th>\n",
       "      <th>May</th>\n",
       "      <th>Jun</th>\n",
       "      <th>Jul</th>\n",
       "      <th>Aug</th>\n",
       "      <th>Sep</th>\n",
       "      <th>Oct</th>\n",
       "      <th>Nov</th>\n",
       "      <th>Dec</th>\n",
       "    </tr>\n",
       "  </thead>\n",
       "  <tbody>\n",
       "    <tr>\n",
       "      <th>city_1</th>\n",
       "      <td>9.981605</td>\n",
       "      <td>33.028572</td>\n",
       "      <td>24.279758</td>\n",
       "      <td>18.946339</td>\n",
       "      <td>1.240746</td>\n",
       "      <td>1.239781</td>\n",
       "      <td>-2.676656</td>\n",
       "      <td>29.647046</td>\n",
       "      <td>19.044600</td>\n",
       "      <td>23.322903</td>\n",
       "      <td>-4.176620</td>\n",
       "      <td>33.796394</td>\n",
       "    </tr>\n",
       "    <tr>\n",
       "      <th>city_2</th>\n",
       "      <td>28.297706</td>\n",
       "      <td>3.493564</td>\n",
       "      <td>2.272999</td>\n",
       "      <td>2.336180</td>\n",
       "      <td>7.169690</td>\n",
       "      <td>15.990257</td>\n",
       "      <td>12.277801</td>\n",
       "      <td>6.649166</td>\n",
       "      <td>19.474116</td>\n",
       "      <td>0.579754</td>\n",
       "      <td>6.685786</td>\n",
       "      <td>9.654474</td>\n",
       "    </tr>\n",
       "    <tr>\n",
       "      <th>city_3</th>\n",
       "      <td>13.242799</td>\n",
       "      <td>26.407038</td>\n",
       "      <td>2.986951</td>\n",
       "      <td>15.569378</td>\n",
       "      <td>18.696583</td>\n",
       "      <td>-3.141983</td>\n",
       "      <td>19.301794</td>\n",
       "      <td>1.820965</td>\n",
       "      <td>-2.397936</td>\n",
       "      <td>32.955421</td>\n",
       "      <td>33.625281</td>\n",
       "      <td>27.335894</td>\n",
       "    </tr>\n",
       "    <tr>\n",
       "      <th>city_4</th>\n",
       "      <td>7.184551</td>\n",
       "      <td>-1.093115</td>\n",
       "      <td>22.369321</td>\n",
       "      <td>12.606100</td>\n",
       "      <td>-0.118471</td>\n",
       "      <td>14.807076</td>\n",
       "      <td>-3.624459</td>\n",
       "      <td>31.372816</td>\n",
       "      <td>5.351199</td>\n",
       "      <td>21.500891</td>\n",
       "      <td>7.468443</td>\n",
       "      <td>15.802721</td>\n",
       "    </tr>\n",
       "    <tr>\n",
       "      <th>city_5</th>\n",
       "      <td>16.868411</td>\n",
       "      <td>2.394178</td>\n",
       "      <td>33.783385</td>\n",
       "      <td>26.005313</td>\n",
       "      <td>32.579958</td>\n",
       "      <td>30.793094</td>\n",
       "      <td>18.915999</td>\n",
       "      <td>31.874969</td>\n",
       "      <td>-1.460300</td>\n",
       "      <td>2.839314</td>\n",
       "      <td>-3.190908</td>\n",
       "      <td>8.013213</td>\n",
       "    </tr>\n",
       "    <tr>\n",
       "      <th>city_6</th>\n",
       "      <td>10.547092</td>\n",
       "      <td>5.853961</td>\n",
       "      <td>28.149500</td>\n",
       "      <td>9.270133</td>\n",
       "      <td>6.237380</td>\n",
       "      <td>16.707843</td>\n",
       "      <td>0.636969</td>\n",
       "      <td>27.087879</td>\n",
       "      <td>-2.017974</td>\n",
       "      <td>34.475477</td>\n",
       "      <td>25.889791</td>\n",
       "      <td>2.948627</td>\n",
       "    </tr>\n",
       "    <tr>\n",
       "      <th>city_7</th>\n",
       "      <td>-4.779115</td>\n",
       "      <td>27.618457</td>\n",
       "      <td>23.274294</td>\n",
       "      <td>24.160287</td>\n",
       "      <td>25.850814</td>\n",
       "      <td>-2.038214</td>\n",
       "      <td>9.338629</td>\n",
       "      <td>-0.365238</td>\n",
       "      <td>29.524137</td>\n",
       "      <td>19.931925</td>\n",
       "      <td>8.235921</td>\n",
       "      <td>-2.457666</td>\n",
       "    </tr>\n",
       "    <tr>\n",
       "      <th>city_8</th>\n",
       "      <td>7.439293</td>\n",
       "      <td>8.007333</td>\n",
       "      <td>24.184247</td>\n",
       "      <td>20.502299</td>\n",
       "      <td>30.488510</td>\n",
       "      <td>13.888597</td>\n",
       "      <td>-0.216230</td>\n",
       "      <td>23.529791</td>\n",
       "      <td>25.431402</td>\n",
       "      <td>17.451088</td>\n",
       "      <td>25.838687</td>\n",
       "      <td>14.751824</td>\n",
       "    </tr>\n",
       "    <tr>\n",
       "      <th>city_9</th>\n",
       "      <td>15.909313</td>\n",
       "      <td>12.101641</td>\n",
       "      <td>-3.983235</td>\n",
       "      <td>-0.684343</td>\n",
       "      <td>-3.742833</td>\n",
       "      <td>20.456416</td>\n",
       "      <td>7.574239</td>\n",
       "      <td>15.342828</td>\n",
       "      <td>31.302659</td>\n",
       "      <td>4.971689</td>\n",
       "      <td>11.415317</td>\n",
       "      <td>25.222046</td>\n",
       "    </tr>\n",
       "    <tr>\n",
       "      <th>city_10</th>\n",
       "      <td>4.151927</td>\n",
       "      <td>-1.920804</td>\n",
       "      <td>6.590058</td>\n",
       "      <td>1.448851</td>\n",
       "      <td>32.187906</td>\n",
       "      <td>27.324815</td>\n",
       "      <td>20.336150</td>\n",
       "      <td>29.858424</td>\n",
       "      <td>27.146883</td>\n",
       "      <td>2.462802</td>\n",
       "      <td>30.702360</td>\n",
       "      <td>16.573690</td>\n",
       "    </tr>\n",
       "  </tbody>\n",
       "</table>\n",
       "</div>"
      ],
      "text/plain": [
       "               Jan        Feb        Mar        Apr        May        Jun  \\\n",
       "city_1    9.981605  33.028572  24.279758  18.946339   1.240746   1.239781   \n",
       "city_2   28.297706   3.493564   2.272999   2.336180   7.169690  15.990257   \n",
       "city_3   13.242799  26.407038   2.986951  15.569378  18.696583  -3.141983   \n",
       "city_4    7.184551  -1.093115  22.369321  12.606100  -0.118471  14.807076   \n",
       "city_5   16.868411   2.394178  33.783385  26.005313  32.579958  30.793094   \n",
       "city_6   10.547092   5.853961  28.149500   9.270133   6.237380  16.707843   \n",
       "city_7   -4.779115  27.618457  23.274294  24.160287  25.850814  -2.038214   \n",
       "city_8    7.439293   8.007333  24.184247  20.502299  30.488510  13.888597   \n",
       "city_9   15.909313  12.101641  -3.983235  -0.684343  -3.742833  20.456416   \n",
       "city_10   4.151927  -1.920804   6.590058   1.448851  32.187906  27.324815   \n",
       "\n",
       "               Jul        Aug        Sep        Oct        Nov        Dec  \n",
       "city_1   -2.676656  29.647046  19.044600  23.322903  -4.176620  33.796394  \n",
       "city_2   12.277801   6.649166  19.474116   0.579754   6.685786   9.654474  \n",
       "city_3   19.301794   1.820965  -2.397936  32.955421  33.625281  27.335894  \n",
       "city_4   -3.624459  31.372816   5.351199  21.500891   7.468443  15.802721  \n",
       "city_5   18.915999  31.874969  -1.460300   2.839314  -3.190908   8.013213  \n",
       "city_6    0.636969  27.087879  -2.017974  34.475477  25.889791   2.948627  \n",
       "city_7    9.338629  -0.365238  29.524137  19.931925   8.235921  -2.457666  \n",
       "city_8   -0.216230  23.529791  25.431402  17.451088  25.838687  14.751824  \n",
       "city_9    7.574239  15.342828  31.302659   4.971689  11.415317  25.222046  \n",
       "city_10  20.336150  29.858424  27.146883   2.462802  30.702360  16.573690  "
      ]
     },
     "execution_count": 53,
     "metadata": {},
     "output_type": "execute_result"
    }
   ],
   "source": [
    "import calendar\n",
    "# Use NumPy to generate a synthetic dataset representing average monthly temperatures (in degrees Celsius) for 12 months across 10 different cities. \n",
    "# The temperatures should range from -5 to 35 degrees.\n",
    "\n",
    "# Seed to ensure the generated numbers are the same throughout the exercise\n",
    "np.random.seed(42)\n",
    "\n",
    "# Create a 10x12 Array of Random Numbers Between -5 - 35 (10 entries, 12 features)\n",
    "temps = np.random.uniform(-5, 35, (10, 12))\n",
    "\n",
    "# Create a list of 10 cities and 12 months\n",
    "cities = [f\"city_{i+1}\" for i in range(10)]\n",
    "months = list(calendar.month_abbr)[1:]\n",
    "\n",
    "# Create the Dataframe using the array, cities and months\n",
    "df = pd.DataFrame(temps, index=cities, columns=months)\n",
    "\n",
    "df"
   ]
  },
  {
   "cell_type": "markdown",
   "id": "931e09eb",
   "metadata": {},
   "source": [
    "# Data Analysis"
   ]
  },
  {
   "cell_type": "code",
   "execution_count": 54,
   "id": "675f68e1",
   "metadata": {},
   "outputs": [
    {
     "name": "stdout",
     "output_type": "stream",
     "text": [
      "city_1     15.639539\n",
      "city_2      9.573458\n",
      "city_3     15.533515\n",
      "city_4     11.135589\n",
      "city_5     16.618052\n",
      "city_6     13.815557\n",
      "city_7     13.191186\n",
      "city_8     17.608070\n",
      "city_9     11.323811\n",
      "city_10    16.405255\n",
      "dtype: float64\n",
      "Coldest City: city_2 - 9.57 Degrees Celsius\n",
      "Hottest City: city_8 - 17.61 Degrees Celsius\n"
     ]
    }
   ],
   "source": [
    "# Calculate the Annual Average Temperature per City\n",
    "# Using Dataframe.mean(axis)\n",
    "averages = df.mean(axis=1)\n",
    "print(averages)\n",
    "\n",
    "# Identify the city with the highest and lowest average temperature for the year\n",
    "# Most complete version\n",
    "coldest = averages.idxmin()\n",
    "hottest = averages.idxmax()\n",
    "\n",
    "print(f\"Coldest City: {coldest} - {averages[coldest]:.2f} Degrees Celsius\")\n",
    "print(f\"Hottest City: {hottest} - {averages[hottest]:.2f} Degrees Celsius\")\n"
   ]
  },
  {
   "cell_type": "markdown",
   "id": "6100a333",
   "metadata": {},
   "source": [
    "# Data Visualization"
   ]
  },
  {
   "cell_type": "code",
   "execution_count": 55,
   "id": "7108a7ce",
   "metadata": {},
   "outputs": [
    {
     "data": {
      "text/html": [
       "<div>\n",
       "<style scoped>\n",
       "    .dataframe tbody tr th:only-of-type {\n",
       "        vertical-align: middle;\n",
       "    }\n",
       "\n",
       "    .dataframe tbody tr th {\n",
       "        vertical-align: top;\n",
       "    }\n",
       "\n",
       "    .dataframe thead th {\n",
       "        text-align: right;\n",
       "    }\n",
       "</style>\n",
       "<table border=\"1\" class=\"dataframe\">\n",
       "  <thead>\n",
       "    <tr style=\"text-align: right;\">\n",
       "      <th></th>\n",
       "      <th>index</th>\n",
       "      <th>Month</th>\n",
       "      <th>Temperature</th>\n",
       "    </tr>\n",
       "  </thead>\n",
       "  <tbody>\n",
       "    <tr>\n",
       "      <th>0</th>\n",
       "      <td>city_1</td>\n",
       "      <td>Jan</td>\n",
       "      <td>9.981605</td>\n",
       "    </tr>\n",
       "    <tr>\n",
       "      <th>1</th>\n",
       "      <td>city_2</td>\n",
       "      <td>Jan</td>\n",
       "      <td>28.297706</td>\n",
       "    </tr>\n",
       "    <tr>\n",
       "      <th>2</th>\n",
       "      <td>city_3</td>\n",
       "      <td>Jan</td>\n",
       "      <td>13.242799</td>\n",
       "    </tr>\n",
       "    <tr>\n",
       "      <th>3</th>\n",
       "      <td>city_4</td>\n",
       "      <td>Jan</td>\n",
       "      <td>7.184551</td>\n",
       "    </tr>\n",
       "    <tr>\n",
       "      <th>4</th>\n",
       "      <td>city_5</td>\n",
       "      <td>Jan</td>\n",
       "      <td>16.868411</td>\n",
       "    </tr>\n",
       "    <tr>\n",
       "      <th>...</th>\n",
       "      <td>...</td>\n",
       "      <td>...</td>\n",
       "      <td>...</td>\n",
       "    </tr>\n",
       "    <tr>\n",
       "      <th>115</th>\n",
       "      <td>city_6</td>\n",
       "      <td>Dec</td>\n",
       "      <td>2.948627</td>\n",
       "    </tr>\n",
       "    <tr>\n",
       "      <th>116</th>\n",
       "      <td>city_7</td>\n",
       "      <td>Dec</td>\n",
       "      <td>-2.457666</td>\n",
       "    </tr>\n",
       "    <tr>\n",
       "      <th>117</th>\n",
       "      <td>city_8</td>\n",
       "      <td>Dec</td>\n",
       "      <td>14.751824</td>\n",
       "    </tr>\n",
       "    <tr>\n",
       "      <th>118</th>\n",
       "      <td>city_9</td>\n",
       "      <td>Dec</td>\n",
       "      <td>25.222046</td>\n",
       "    </tr>\n",
       "    <tr>\n",
       "      <th>119</th>\n",
       "      <td>city_10</td>\n",
       "      <td>Dec</td>\n",
       "      <td>16.573690</td>\n",
       "    </tr>\n",
       "  </tbody>\n",
       "</table>\n",
       "<p>120 rows × 3 columns</p>\n",
       "</div>"
      ],
      "text/plain": [
       "       index Month  Temperature\n",
       "0     city_1   Jan     9.981605\n",
       "1     city_2   Jan    28.297706\n",
       "2     city_3   Jan    13.242799\n",
       "3     city_4   Jan     7.184551\n",
       "4     city_5   Jan    16.868411\n",
       "..       ...   ...          ...\n",
       "115   city_6   Dec     2.948627\n",
       "116   city_7   Dec    -2.457666\n",
       "117   city_8   Dec    14.751824\n",
       "118   city_9   Dec    25.222046\n",
       "119  city_10   Dec    16.573690\n",
       "\n",
       "[120 rows x 3 columns]"
      ]
     },
     "execution_count": 55,
     "metadata": {},
     "output_type": "execute_result"
    }
   ],
   "source": [
    "# First - Prepare the Dataframe for Visualization\n",
    "df = df.reset_index()\n",
    "melted_df = df.melt(\n",
    "    id_vars=['index'],           # Keep city names as identifier\n",
    "    var_name='Month',            # Name for the new column of old column names\n",
    "    value_name='Temperature'     # Name for the new column of cell values\n",
    ")\n",
    "melted_df"
   ]
  },
  {
   "cell_type": "code",
   "execution_count": 56,
   "id": "23154285",
   "metadata": {},
   "outputs": [
    {
     "data": {
      "application/vnd.plotly.v1+json": {
       "config": {
        "plotlyServerURL": "https://plot.ly"
       },
       "data": [
        {
         "hovertemplate": "City=city_1<br>Month=%{x}<br>Temperature (°C)=%{y}<extra></extra>",
         "legendgroup": "city_1",
         "line": {
          "color": "#636efa",
          "dash": "solid"
         },
         "marker": {
          "symbol": "circle"
         },
         "mode": "lines",
         "name": "city_1",
         "orientation": "v",
         "showlegend": true,
         "type": "scatter",
         "x": [
          "Jan",
          "Feb",
          "Mar",
          "Apr",
          "May",
          "Jun",
          "Jul",
          "Aug",
          "Sep",
          "Oct",
          "Nov",
          "Dec"
         ],
         "xaxis": "x",
         "y": {
          "bdata": "Zyb35ZT2I0D0ZXVBqINAQCUB5jKeRzhA3Pf7S0PyMkCUp6oTGNrzP3x8/2ck1vM/mkqhXcppBcCiJavLpKU9QJjetu9qCzNAIiNBx6lSN0A8LN/u27QQwEcUzj3w5UBA",
          "dtype": "f8"
         },
         "yaxis": "y"
        },
        {
         "hovertemplate": "City=city_2<br>Month=%{x}<br>Temperature (°C)=%{y}<extra></extra>",
         "legendgroup": "city_2",
         "line": {
          "color": "#EF553B",
          "dash": "solid"
         },
         "marker": {
          "symbol": "circle"
         },
         "mode": "lines",
         "name": "city_2",
         "orientation": "v",
         "showlegend": true,
         "type": "scatter",
         "x": [
          "Jan",
          "Feb",
          "Mar",
          "Apr",
          "May",
          "Jun",
          "Jul",
          "Aug",
          "Sep",
          "Oct",
          "Nov",
          "Dec"
         ],
         "xaxis": "x",
         "y": {
          "bdata": "9FixbzZMPEB8+Qfo0fILQAw/sO8ZLwJAtAKzWH+wAkAEqjskw60cQPgWEgAD+y9AMAo75juOKECk2H7evpgaQHHS/6ZfeTNA2Gx3J1mN4j/SoHmrPr4aQAblUy4XTyNA",
          "dtype": "f8"
         },
         "yaxis": "y"
        },
        {
         "hovertemplate": "City=city_3<br>Month=%{x}<br>Temperature (°C)=%{y}<extra></extra>",
         "legendgroup": "city_3",
         "line": {
          "color": "#00cc96",
          "dash": "solid"
         },
         "marker": {
          "symbol": "circle"
         },
         "mode": "lines",
         "name": "city_3",
         "orientation": "v",
         "showlegend": true,
         "type": "scatter",
         "x": [
          "Jan",
          "Feb",
          "Mar",
          "Apr",
          "May",
          "Jun",
          "Jul",
          "Aug",
          "Sep",
          "Oct",
          "Nov",
          "Dec"
         ],
         "xaxis": "x",
         "y": {
          "bdata": "1PPnMlB8KkC6iBesM2g6QCJpTLdG5QdAMBLVc4UjL0DddFU/U7IyQNo1mj3IIgnALMtmYEJNM0CEOQokrCL9P7gqeDf5LgPAVgJbQEt6QEAkgeg3CdBAQEZV7ST9VTtA",
          "dtype": "f8"
         },
         "yaxis": "y"
        },
        {
         "hovertemplate": "City=city_4<br>Month=%{x}<br>Temperature (°C)=%{y}<extra></extra>",
         "legendgroup": "city_4",
         "line": {
          "color": "#ab63fa",
          "dash": "solid"
         },
         "marker": {
          "symbol": "circle"
         },
         "mode": "lines",
         "name": "city_4",
         "orientation": "v",
         "showlegend": true,
         "type": "scatter",
         "x": [
          "Jan",
          "Feb",
          "Mar",
          "Apr",
          "May",
          "Jun",
          "Jul",
          "Aug",
          "Sep",
          "Oct",
          "Nov",
          "Dec"
         ],
         "xaxis": "x",
         "y": {
          "bdata": "SL9R4Pq8HEBoS4edZn3xvzmDNNOLXjZAlCfVtFI2KUCATDTzFlS+v576VB45nS1AAL8QceT+DMC+jvTfcF8/QHgMpcegZxVA1NzGajqANUBMzICIr98dQKRUFDr+mi9A",
          "dtype": "f8"
         },
         "yaxis": "y"
        },
        {
         "hovertemplate": "City=city_5<br>Month=%{x}<br>Temperature (°C)=%{y}<extra></extra>",
         "legendgroup": "city_5",
         "line": {
          "color": "#FFA15A",
          "dash": "solid"
         },
         "marker": {
          "symbol": "circle"
         },
         "mode": "lines",
         "name": "city_5",
         "orientation": "v",
         "showlegend": true,
         "type": "scatter",
         "x": [
          "Jan",
          "Feb",
          "Mar",
          "Apr",
          "May",
          "Jun",
          "Jul",
          "Aug",
          "Sep",
          "Oct",
          "Nov",
          "Dec"
         ],
         "xaxis": "x",
         "y": {
          "bdata": "C6jWMVDeMEDmpUDpRicDQPAPm/ZF5EBAbq8/MFwBOkBq5XwNPEpAQJIfojUIyz5AfOii637qMkDg+KH+/d8/QLROXXJjXfe/vlfVhOq2BkA8mY0B+4YJwLQBcuLDBiBA",
          "dtype": "f8"
         },
         "yaxis": "y"
        },
        {
         "hovertemplate": "City=city_6<br>Month=%{x}<br>Temperature (°C)=%{y}<extra></extra>",
         "legendgroup": "city_6",
         "line": {
          "color": "#19d3f3",
          "dash": "solid"
         },
         "marker": {
          "symbol": "circle"
         },
         "mode": "lines",
         "name": "city_6",
         "orientation": "v",
         "showlegend": true,
         "type": "scatter",
         "x": [
          "Jan",
          "Feb",
          "Mar",
          "Apr",
          "May",
          "Jun",
          "Jul",
          "Aug",
          "Sep",
          "Oct",
          "Nov",
          "Dec"
         ],
         "xaxis": "x",
         "y": {
          "bdata": "tCN5YxwYJUBAOcvSdGoXQKAK76dFJjxAuA2n4U6KIkDqAyTYE/MYQGlHYTg1tTBA0Fxnzwxi5D+sitNAfxY7QB7iX6/PJADAGfoOctw8QUDGcvlTyeM5QKRRvePJlgdA",
          "dtype": "f8"
         },
         "yaxis": "y"
        },
        {
         "hovertemplate": "City=city_7<br>Month=%{x}<br>Temperature (°C)=%{y}<extra></extra>",
         "legendgroup": "city_7",
         "line": {
          "color": "#FF6692",
          "dash": "solid"
         },
         "marker": {
          "symbol": "circle"
         },
         "mode": "lines",
         "name": "city_7",
         "orientation": "v",
         "showlegend": true,
         "type": "scatter",
         "x": [
          "Jan",
          "Feb",
          "Mar",
          "Apr",
          "May",
          "Jun",
          "Jul",
          "Aug",
          "Sep",
          "Oct",
          "Nov",
          "Dec"
         ],
         "xaxis": "x",
         "y": {
          "bdata": "UOm3Z9AdE8CshP40U547QIiEjh04RjdAuGzzjAgpOED2oAfwztk5QNqt8hpDTgDA1sGCzGCtIkAAgTabDWDXv6QMQNgthj1A/0s/pJLuM0D4P/SiynggQDrSKslMqQPA",
          "dtype": "f8"
         },
         "yaxis": "y"
        },
        {
         "hovertemplate": "City=city_8<br>Month=%{x}<br>Temperature (°C)=%{y}<extra></extra>",
         "legendgroup": "city_8",
         "line": {
          "color": "#B6E880",
          "dash": "solid"
         },
         "marker": {
          "symbol": "circle"
         },
         "mode": "lines",
         "name": "city_8",
         "orientation": "v",
         "showlegend": true,
         "type": "scatter",
         "x": [
          "Jan",
          "Feb",
          "Mar",
          "Apr",
          "May",
          "Jun",
          "Jul",
          "Aug",
          "Sep",
          "Oct",
          "Nov",
          "Dec"
         ],
         "xaxis": "x",
         "y": {
          "bdata": "mHdg/dXBHUDewqgiwQMgQHTc9NEqLzhA1qRfqJaANEA+ZM74Dn0+QPRK1C/2xitAQLEaEm6ty78UnD5qoIc3QFTQm1twbjlAiQ8uf3pzMUB4xEc0tNY5QI6CZw7vgC1A",
          "dtype": "f8"
         },
         "yaxis": "y"
        },
        {
         "hovertemplate": "City=city_9<br>Month=%{x}<br>Temperature (°C)=%{y}<extra></extra>",
         "legendgroup": "city_9",
         "line": {
          "color": "#FF97FF",
          "dash": "solid"
         },
         "marker": {
          "symbol": "circle"
         },
         "mode": "lines",
         "name": "city_9",
         "orientation": "v",
         "showlegend": true,
         "type": "scatter",
         "x": [
          "Jan",
          "Feb",
          "Mar",
          "Apr",
          "May",
          "Jun",
          "Jul",
          "Aug",
          "Sep",
          "Oct",
          "Nov",
          "Dec"
         ],
         "xaxis": "x",
         "y": {
          "bdata": "CEwbf5HRL0Bo4RtBCjQoQL4xbUaq3Q/A8JS5HyPm5b9+YSs0UvENwFB5YLXXdDRAjPhDXwVMHkBshfQah68uQCBYsg57TT9A8J0WfALjE0BA/mVrpNQmQBrrA/rXODlA",
          "dtype": "f8"
         },
         "yaxis": "y"
        },
        {
         "hovertemplate": "City=city_10<br>Month=%{x}<br>Temperature (°C)=%{y}<extra></extra>",
         "legendgroup": "city_10",
         "line": {
          "color": "#FECB52",
          "dash": "solid"
         },
         "marker": {
          "symbol": "circle"
         },
         "mode": "lines",
         "name": "city_10",
         "orientation": "v",
         "showlegend": true,
         "type": "scatter",
         "x": [
          "Jan",
          "Feb",
          "Mar",
          "Apr",
          "May",
          "Jun",
          "Jul",
          "Aug",
          "Sep",
          "Oct",
          "Nov",
          "Dec"
         ],
         "xaxis": "x",
         "y": {
          "bdata": "CGnbppKbEEA8PBeQnLv+v4BM5TE4XBpAMPtv5n4u9z8qlo9ODRhAQD5pehYnUztAWwiH8Q1WNEBAXUimwds9QJCaFyGaJTtA0g+puNGzA0BGmWrczbM+QF8pn1PdkjBA",
          "dtype": "f8"
         },
         "yaxis": "y"
        }
       ],
       "layout": {
        "font": {
         "size": 12
        },
        "height": 600,
        "legend": {
         "title": {
          "font": {
           "size": 14
          },
          "text": "City"
         },
         "tracegroupgap": 0
        },
        "template": {
         "data": {
          "bar": [
           {
            "error_x": {
             "color": "#2a3f5f"
            },
            "error_y": {
             "color": "#2a3f5f"
            },
            "marker": {
             "line": {
              "color": "#E5ECF6",
              "width": 0.5
             },
             "pattern": {
              "fillmode": "overlay",
              "size": 10,
              "solidity": 0.2
             }
            },
            "type": "bar"
           }
          ],
          "barpolar": [
           {
            "marker": {
             "line": {
              "color": "#E5ECF6",
              "width": 0.5
             },
             "pattern": {
              "fillmode": "overlay",
              "size": 10,
              "solidity": 0.2
             }
            },
            "type": "barpolar"
           }
          ],
          "carpet": [
           {
            "aaxis": {
             "endlinecolor": "#2a3f5f",
             "gridcolor": "white",
             "linecolor": "white",
             "minorgridcolor": "white",
             "startlinecolor": "#2a3f5f"
            },
            "baxis": {
             "endlinecolor": "#2a3f5f",
             "gridcolor": "white",
             "linecolor": "white",
             "minorgridcolor": "white",
             "startlinecolor": "#2a3f5f"
            },
            "type": "carpet"
           }
          ],
          "choropleth": [
           {
            "colorbar": {
             "outlinewidth": 0,
             "ticks": ""
            },
            "type": "choropleth"
           }
          ],
          "contour": [
           {
            "colorbar": {
             "outlinewidth": 0,
             "ticks": ""
            },
            "colorscale": [
             [
              0,
              "#0d0887"
             ],
             [
              0.1111111111111111,
              "#46039f"
             ],
             [
              0.2222222222222222,
              "#7201a8"
             ],
             [
              0.3333333333333333,
              "#9c179e"
             ],
             [
              0.4444444444444444,
              "#bd3786"
             ],
             [
              0.5555555555555556,
              "#d8576b"
             ],
             [
              0.6666666666666666,
              "#ed7953"
             ],
             [
              0.7777777777777778,
              "#fb9f3a"
             ],
             [
              0.8888888888888888,
              "#fdca26"
             ],
             [
              1,
              "#f0f921"
             ]
            ],
            "type": "contour"
           }
          ],
          "contourcarpet": [
           {
            "colorbar": {
             "outlinewidth": 0,
             "ticks": ""
            },
            "type": "contourcarpet"
           }
          ],
          "heatmap": [
           {
            "colorbar": {
             "outlinewidth": 0,
             "ticks": ""
            },
            "colorscale": [
             [
              0,
              "#0d0887"
             ],
             [
              0.1111111111111111,
              "#46039f"
             ],
             [
              0.2222222222222222,
              "#7201a8"
             ],
             [
              0.3333333333333333,
              "#9c179e"
             ],
             [
              0.4444444444444444,
              "#bd3786"
             ],
             [
              0.5555555555555556,
              "#d8576b"
             ],
             [
              0.6666666666666666,
              "#ed7953"
             ],
             [
              0.7777777777777778,
              "#fb9f3a"
             ],
             [
              0.8888888888888888,
              "#fdca26"
             ],
             [
              1,
              "#f0f921"
             ]
            ],
            "type": "heatmap"
           }
          ],
          "histogram": [
           {
            "marker": {
             "pattern": {
              "fillmode": "overlay",
              "size": 10,
              "solidity": 0.2
             }
            },
            "type": "histogram"
           }
          ],
          "histogram2d": [
           {
            "colorbar": {
             "outlinewidth": 0,
             "ticks": ""
            },
            "colorscale": [
             [
              0,
              "#0d0887"
             ],
             [
              0.1111111111111111,
              "#46039f"
             ],
             [
              0.2222222222222222,
              "#7201a8"
             ],
             [
              0.3333333333333333,
              "#9c179e"
             ],
             [
              0.4444444444444444,
              "#bd3786"
             ],
             [
              0.5555555555555556,
              "#d8576b"
             ],
             [
              0.6666666666666666,
              "#ed7953"
             ],
             [
              0.7777777777777778,
              "#fb9f3a"
             ],
             [
              0.8888888888888888,
              "#fdca26"
             ],
             [
              1,
              "#f0f921"
             ]
            ],
            "type": "histogram2d"
           }
          ],
          "histogram2dcontour": [
           {
            "colorbar": {
             "outlinewidth": 0,
             "ticks": ""
            },
            "colorscale": [
             [
              0,
              "#0d0887"
             ],
             [
              0.1111111111111111,
              "#46039f"
             ],
             [
              0.2222222222222222,
              "#7201a8"
             ],
             [
              0.3333333333333333,
              "#9c179e"
             ],
             [
              0.4444444444444444,
              "#bd3786"
             ],
             [
              0.5555555555555556,
              "#d8576b"
             ],
             [
              0.6666666666666666,
              "#ed7953"
             ],
             [
              0.7777777777777778,
              "#fb9f3a"
             ],
             [
              0.8888888888888888,
              "#fdca26"
             ],
             [
              1,
              "#f0f921"
             ]
            ],
            "type": "histogram2dcontour"
           }
          ],
          "mesh3d": [
           {
            "colorbar": {
             "outlinewidth": 0,
             "ticks": ""
            },
            "type": "mesh3d"
           }
          ],
          "parcoords": [
           {
            "line": {
             "colorbar": {
              "outlinewidth": 0,
              "ticks": ""
             }
            },
            "type": "parcoords"
           }
          ],
          "pie": [
           {
            "automargin": true,
            "type": "pie"
           }
          ],
          "scatter": [
           {
            "fillpattern": {
             "fillmode": "overlay",
             "size": 10,
             "solidity": 0.2
            },
            "type": "scatter"
           }
          ],
          "scatter3d": [
           {
            "line": {
             "colorbar": {
              "outlinewidth": 0,
              "ticks": ""
             }
            },
            "marker": {
             "colorbar": {
              "outlinewidth": 0,
              "ticks": ""
             }
            },
            "type": "scatter3d"
           }
          ],
          "scattercarpet": [
           {
            "marker": {
             "colorbar": {
              "outlinewidth": 0,
              "ticks": ""
             }
            },
            "type": "scattercarpet"
           }
          ],
          "scattergeo": [
           {
            "marker": {
             "colorbar": {
              "outlinewidth": 0,
              "ticks": ""
             }
            },
            "type": "scattergeo"
           }
          ],
          "scattergl": [
           {
            "marker": {
             "colorbar": {
              "outlinewidth": 0,
              "ticks": ""
             }
            },
            "type": "scattergl"
           }
          ],
          "scattermap": [
           {
            "marker": {
             "colorbar": {
              "outlinewidth": 0,
              "ticks": ""
             }
            },
            "type": "scattermap"
           }
          ],
          "scattermapbox": [
           {
            "marker": {
             "colorbar": {
              "outlinewidth": 0,
              "ticks": ""
             }
            },
            "type": "scattermapbox"
           }
          ],
          "scatterpolar": [
           {
            "marker": {
             "colorbar": {
              "outlinewidth": 0,
              "ticks": ""
             }
            },
            "type": "scatterpolar"
           }
          ],
          "scatterpolargl": [
           {
            "marker": {
             "colorbar": {
              "outlinewidth": 0,
              "ticks": ""
             }
            },
            "type": "scatterpolargl"
           }
          ],
          "scatterternary": [
           {
            "marker": {
             "colorbar": {
              "outlinewidth": 0,
              "ticks": ""
             }
            },
            "type": "scatterternary"
           }
          ],
          "surface": [
           {
            "colorbar": {
             "outlinewidth": 0,
             "ticks": ""
            },
            "colorscale": [
             [
              0,
              "#0d0887"
             ],
             [
              0.1111111111111111,
              "#46039f"
             ],
             [
              0.2222222222222222,
              "#7201a8"
             ],
             [
              0.3333333333333333,
              "#9c179e"
             ],
             [
              0.4444444444444444,
              "#bd3786"
             ],
             [
              0.5555555555555556,
              "#d8576b"
             ],
             [
              0.6666666666666666,
              "#ed7953"
             ],
             [
              0.7777777777777778,
              "#fb9f3a"
             ],
             [
              0.8888888888888888,
              "#fdca26"
             ],
             [
              1,
              "#f0f921"
             ]
            ],
            "type": "surface"
           }
          ],
          "table": [
           {
            "cells": {
             "fill": {
              "color": "#EBF0F8"
             },
             "line": {
              "color": "white"
             }
            },
            "header": {
             "fill": {
              "color": "#C8D4E3"
             },
             "line": {
              "color": "white"
             }
            },
            "type": "table"
           }
          ]
         },
         "layout": {
          "annotationdefaults": {
           "arrowcolor": "#2a3f5f",
           "arrowhead": 0,
           "arrowwidth": 1
          },
          "autotypenumbers": "strict",
          "coloraxis": {
           "colorbar": {
            "outlinewidth": 0,
            "ticks": ""
           }
          },
          "colorscale": {
           "diverging": [
            [
             0,
             "#8e0152"
            ],
            [
             0.1,
             "#c51b7d"
            ],
            [
             0.2,
             "#de77ae"
            ],
            [
             0.3,
             "#f1b6da"
            ],
            [
             0.4,
             "#fde0ef"
            ],
            [
             0.5,
             "#f7f7f7"
            ],
            [
             0.6,
             "#e6f5d0"
            ],
            [
             0.7,
             "#b8e186"
            ],
            [
             0.8,
             "#7fbc41"
            ],
            [
             0.9,
             "#4d9221"
            ],
            [
             1,
             "#276419"
            ]
           ],
           "sequential": [
            [
             0,
             "#0d0887"
            ],
            [
             0.1111111111111111,
             "#46039f"
            ],
            [
             0.2222222222222222,
             "#7201a8"
            ],
            [
             0.3333333333333333,
             "#9c179e"
            ],
            [
             0.4444444444444444,
             "#bd3786"
            ],
            [
             0.5555555555555556,
             "#d8576b"
            ],
            [
             0.6666666666666666,
             "#ed7953"
            ],
            [
             0.7777777777777778,
             "#fb9f3a"
            ],
            [
             0.8888888888888888,
             "#fdca26"
            ],
            [
             1,
             "#f0f921"
            ]
           ],
           "sequentialminus": [
            [
             0,
             "#0d0887"
            ],
            [
             0.1111111111111111,
             "#46039f"
            ],
            [
             0.2222222222222222,
             "#7201a8"
            ],
            [
             0.3333333333333333,
             "#9c179e"
            ],
            [
             0.4444444444444444,
             "#bd3786"
            ],
            [
             0.5555555555555556,
             "#d8576b"
            ],
            [
             0.6666666666666666,
             "#ed7953"
            ],
            [
             0.7777777777777778,
             "#fb9f3a"
            ],
            [
             0.8888888888888888,
             "#fdca26"
            ],
            [
             1,
             "#f0f921"
            ]
           ]
          },
          "colorway": [
           "#636efa",
           "#EF553B",
           "#00cc96",
           "#ab63fa",
           "#FFA15A",
           "#19d3f3",
           "#FF6692",
           "#B6E880",
           "#FF97FF",
           "#FECB52"
          ],
          "font": {
           "color": "#2a3f5f"
          },
          "geo": {
           "bgcolor": "white",
           "lakecolor": "white",
           "landcolor": "#E5ECF6",
           "showlakes": true,
           "showland": true,
           "subunitcolor": "white"
          },
          "hoverlabel": {
           "align": "left"
          },
          "hovermode": "closest",
          "mapbox": {
           "style": "light"
          },
          "paper_bgcolor": "white",
          "plot_bgcolor": "#E5ECF6",
          "polar": {
           "angularaxis": {
            "gridcolor": "white",
            "linecolor": "white",
            "ticks": ""
           },
           "bgcolor": "#E5ECF6",
           "radialaxis": {
            "gridcolor": "white",
            "linecolor": "white",
            "ticks": ""
           }
          },
          "scene": {
           "xaxis": {
            "backgroundcolor": "#E5ECF6",
            "gridcolor": "white",
            "gridwidth": 2,
            "linecolor": "white",
            "showbackground": true,
            "ticks": "",
            "zerolinecolor": "white"
           },
           "yaxis": {
            "backgroundcolor": "#E5ECF6",
            "gridcolor": "white",
            "gridwidth": 2,
            "linecolor": "white",
            "showbackground": true,
            "ticks": "",
            "zerolinecolor": "white"
           },
           "zaxis": {
            "backgroundcolor": "#E5ECF6",
            "gridcolor": "white",
            "gridwidth": 2,
            "linecolor": "white",
            "showbackground": true,
            "ticks": "",
            "zerolinecolor": "white"
           }
          },
          "shapedefaults": {
           "line": {
            "color": "#2a3f5f"
           }
          },
          "ternary": {
           "aaxis": {
            "gridcolor": "white",
            "linecolor": "white",
            "ticks": ""
           },
           "baxis": {
            "gridcolor": "white",
            "linecolor": "white",
            "ticks": ""
           },
           "bgcolor": "#E5ECF6",
           "caxis": {
            "gridcolor": "white",
            "linecolor": "white",
            "ticks": ""
           }
          },
          "title": {
           "x": 0.05
          },
          "xaxis": {
           "automargin": true,
           "gridcolor": "white",
           "linecolor": "white",
           "ticks": "",
           "title": {
            "standoff": 15
           },
           "zerolinecolor": "white",
           "zerolinewidth": 2
          },
          "yaxis": {
           "automargin": true,
           "gridcolor": "white",
           "linecolor": "white",
           "ticks": "",
           "title": {
            "standoff": 15
           },
           "zerolinecolor": "white",
           "zerolinewidth": 2
          }
         }
        },
        "title": {
         "font": {
          "size": 20
         },
         "text": "Monthly Temperature Variations Across Cities",
         "x": 0.5
        },
        "width": 900,
        "xaxis": {
         "anchor": "y",
         "domain": [
          0,
          1
         ],
         "title": {
          "font": {
           "size": 14
          },
          "text": "Month"
         }
        },
        "yaxis": {
         "anchor": "x",
         "domain": [
          0,
          1
         ],
         "title": {
          "font": {
           "size": 14
          },
          "text": "Temperature (°C)"
         }
        }
       }
      }
     },
     "metadata": {},
     "output_type": "display_data"
    }
   ],
   "source": [
    "# Plot the Average Monthly Temperatures per City\n",
    "fig = px.line(melted_df, x='Month', y='Temperature', color='index',\n",
    "              title=\"Monthly Temperature Variations Across Cities\",\n",
    "              labels={'index': 'City', 'Temperature': 'Temperature (°C)'})\n",
    "\n",
    "# Update layout for better appearance\n",
    "fig.update_layout(\n",
    "    title_font_size=20,\n",
    "    title_x=0.5,  # Center the title\n",
    "    xaxis_title_font_size=14,\n",
    "    yaxis_title_font_size=14,\n",
    "    legend_title_font_size=14,\n",
    "    font=dict(size=12),\n",
    "    width=900,\n",
    "    height=600\n",
    ")"
   ]
  }
 ],
 "metadata": {
  "kernelspec": {
   "display_name": "jupyter_env",
   "language": "python",
   "name": "python3"
  },
  "language_info": {
   "codemirror_mode": {
    "name": "ipython",
    "version": 3
   },
   "file_extension": ".py",
   "mimetype": "text/x-python",
   "name": "python",
   "nbconvert_exporter": "python",
   "pygments_lexer": "ipython3",
   "version": "3.12.11"
  }
 },
 "nbformat": 4,
 "nbformat_minor": 5
}
