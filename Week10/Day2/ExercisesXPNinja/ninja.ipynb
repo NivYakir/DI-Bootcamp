{
 "cells": [
  {
   "cell_type": "code",
   "execution_count": 1,
   "id": "d18ad4ac",
   "metadata": {},
   "outputs": [],
   "source": [
    "import numpy as np"
   ]
  },
  {
   "cell_type": "markdown",
   "id": "eed02e3d",
   "metadata": {},
   "source": [
    "# Exercise 1: Maximum Value Replacement in Matrix"
   ]
  },
  {
   "cell_type": "code",
   "execution_count": null,
   "id": "bc3e2ff1",
   "metadata": {},
   "outputs": [
    {
     "data": {
      "text/plain": [
       "array([[52,  0, 15, 72, 61],\n",
       "       [21, 83, 87, 75, 75],\n",
       "       [88, 24,  3, 22, 53],\n",
       "       [ 2, 88, 30, 38,  2],\n",
       "       [64, 60, 21, 33, 76]], dtype=int32)"
      ]
     },
     "execution_count": 15,
     "metadata": {},
     "output_type": "execute_result"
    }
   ],
   "source": [
    "# Create a random 5x5 matrix and replace the maximum value by 0.\n",
    "np.random.seed(42)\n",
    "array = np.random.randint(1, 100, (5, 5))\n",
    "\n",
    "# Create a Boolean Mask Showing Where the Max Value is Located, and set the value at that location equal to 0\n",
    "array[array == array.max()] = 0\n",
    "\n",
    "array"
   ]
  },
  {
   "cell_type": "markdown",
   "id": "a287486a",
   "metadata": {},
   "source": [
    "# Exercise 2: Finding Common Values in Arrays"
   ]
  },
  {
   "cell_type": "code",
   "execution_count": null,
   "id": "348051b3",
   "metadata": {},
   "outputs": [
    {
     "name": "stdout",
     "output_type": "stream",
     "text": [
      "[4 4 2 3 3] [1 3 1 3 2]\n",
      "[2 3]\n"
     ]
    }
   ],
   "source": [
    "# Find the common values between two random arrays of size 5\n",
    "a = np.random.randint(1, 5, (5,))\n",
    "b = np.random.randint(1, 5, (5,))\n",
    "print(a, b)\n",
    "\n",
    "common = np.intersect1d(a, b)\n",
    "print(common)"
   ]
  },
  {
   "cell_type": "markdown",
   "id": "c436f75f",
   "metadata": {},
   "source": [
    "# Exercise 3 : Sorting Array in Asc/Desc Order"
   ]
  },
  {
   "cell_type": "code",
   "execution_count": 32,
   "id": "2041bd80",
   "metadata": {},
   "outputs": [
    {
     "name": "stdout",
     "output_type": "stream",
     "text": [
      "[0.05808361 0.15599452 0.15601864 0.37454012 0.59865848 0.60111501\n",
      " 0.70807258 0.73199394 0.86617615 0.95071431]\n",
      "\n",
      "[0.95071431 0.86617615 0.73199394 0.70807258 0.60111501 0.59865848\n",
      " 0.37454012 0.15601864 0.15599452 0.05808361]\n"
     ]
    }
   ],
   "source": [
    "# Create a random 1D array of size 10 and sort it in ascending and then in descending order\n",
    "np.random.seed(42)\n",
    "array = np.random.rand(10)\n",
    "\n",
    "# Sort Ascending\n",
    "asc = np.sort(array)\n",
    "\n",
    "# Sort Descending\n",
    "desc = -np.sort(-array)\n",
    "\n",
    "print(f\"{asc}\\n\\n{desc}\")"
   ]
  }
 ],
 "metadata": {
  "kernelspec": {
   "display_name": "jupyter_env",
   "language": "python",
   "name": "python3"
  },
  "language_info": {
   "codemirror_mode": {
    "name": "ipython",
    "version": 3
   },
   "file_extension": ".py",
   "mimetype": "text/x-python",
   "name": "python",
   "nbconvert_exporter": "python",
   "pygments_lexer": "ipython3",
   "version": "3.12.11"
  }
 },
 "nbformat": 4,
 "nbformat_minor": 5
}
