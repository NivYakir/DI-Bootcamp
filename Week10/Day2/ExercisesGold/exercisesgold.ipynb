{
 "cells": [
  {
   "cell_type": "code",
   "execution_count": 2,
   "id": "ecab4dbd",
   "metadata": {},
   "outputs": [
    {
     "name": "stdout",
     "output_type": "stream",
     "text": [
      "2.3.2\n"
     ]
    }
   ],
   "source": [
    "import numpy as np\n",
    "print(np.__version__)"
   ]
  },
  {
   "cell_type": "markdown",
   "id": "19c46910",
   "metadata": {},
   "source": [
    "# Exercise 1 : Minimum and Maximum of Random Array"
   ]
  },
  {
   "cell_type": "code",
   "execution_count": 20,
   "id": "42715443",
   "metadata": {},
   "outputs": [
    {
     "name": "stdout",
     "output_type": "stream",
     "text": [
      "Min: 0.0370838109187992, Max: 0.944570487920368\n"
     ]
    }
   ],
   "source": [
    "# Create a 5x5 array with random values and find the minimum and maximum values.\n",
    "array = np.random.rand(5,5)\n",
    "print(f\"Min: {np.min(array)}, Max: {np.max(array)}\")"
   ]
  },
  {
   "cell_type": "markdown",
   "id": "414975b2",
   "metadata": {},
   "source": [
    "# Exercise 2 : Matrix Normalization"
   ]
  },
  {
   "cell_type": "code",
   "execution_count": 27,
   "id": "f6ad0745",
   "metadata": {},
   "outputs": [
    {
     "name": "stdout",
     "output_type": "stream",
     "text": [
      "mean: -9.868649107779169e-17\n",
      "Std. Dev: 1.0\n"
     ]
    }
   ],
   "source": [
    "# Normalize a 3x3 random matrix (subtract the mean and divide by the standard deviation of the matrix).\n",
    "# Create 3x3 Matrix with Random Integers between 1 and 10\n",
    "array = np.random.randint(1,10,(3,3))\n",
    "\n",
    "# Calculate Mean/Std. Dev of the Array\n",
    "mean = np.mean(array)\n",
    "se = np.std(array)\n",
    "\n",
    "# Normalize the Array with the Calculated Variables\n",
    "array = (array - mean) / se\n",
    "\n",
    "print(f\"mean: {np.mean(array)}\\nStd. Dev: {np.std(array)}\")"
   ]
  },
  {
   "cell_type": "markdown",
   "id": "098e1fd5",
   "metadata": {},
   "source": [
    "# Exercise 3: Evenly Spaced Elements in Array"
   ]
  },
  {
   "cell_type": "code",
   "execution_count": 29,
   "id": "badff6c0",
   "metadata": {},
   "outputs": [
    {
     "data": {
      "text/plain": [
       "array([0. , 0.2, 0.4, 0.6, 0.8, 1. , 1.2, 1.4, 1.6, 1.8, 2. , 2.2, 2.4,\n",
       "       2.6, 2.8, 3. , 3.2, 3.4, 3.6, 3.8, 4. , 4.2, 4.4, 4.6, 4.8, 5. ,\n",
       "       5.2, 5.4, 5.6, 5.8, 6. , 6.2, 6.4, 6.6, 6.8, 7. , 7.2, 7.4, 7.6,\n",
       "       7.8, 8. , 8.2, 8.4, 8.6, 8.8, 9. , 9.2, 9.4, 9.6, 9.8])"
      ]
     },
     "execution_count": 29,
     "metadata": {},
     "output_type": "execute_result"
    }
   ],
   "source": [
    "# Create a 1D array of 50 evenly spaced elements between 0 and 10, exclusive\n",
    "array = np.linspace(0, 10, 50, endpoint=False)\n",
    "array"
   ]
  },
  {
   "cell_type": "markdown",
   "id": "7c483567",
   "metadata": {},
   "source": [
    "# Exercise 4 : Matrix Multiplication"
   ]
  },
  {
   "cell_type": "markdown",
   "id": "61e57e15",
   "metadata": {},
   "source": [
    "* For Matrix Multiplication: The Number of Columns in the First Matrix must equal the Number of Rows in the Second Matrix.\n",
    "* The Output Matrix's Dimensions Will be equal to The Number of Rows of the First by the Number of Columns of the Second"
   ]
  },
  {
   "cell_type": "code",
   "execution_count": 54,
   "id": "15ae03ad",
   "metadata": {},
   "outputs": [
    {
     "name": "stdout",
     "output_type": "stream",
     "text": [
      "[[ 5380  6187]\n",
      " [10299  9227]\n",
      " [12286 12755]\n",
      " [ 3699  4611]\n",
      " [ 5205  5497]]\n"
     ]
    }
   ],
   "source": [
    "# Multiply a 5x3 matrix by a 3x2 matrix (real matrix product)\n",
    "# 5x3 Matrix\n",
    "a = np.random.randint(1, 100, (5, 3))\n",
    "\n",
    "# 3x2 Matrix\n",
    "b = np.random.randint(1, 100, (3, 2))\n",
    "\n",
    "# Matrix Multiplication\n",
    "result = a @ b\n",
    "print(result)"
   ]
  },
  {
   "cell_type": "markdown",
   "id": "647e150f",
   "metadata": {},
   "source": [
    "# Exercise 5: "
   ]
  },
  {
   "cell_type": "code",
   "execution_count": null,
   "id": "e724d37e",
   "metadata": {},
   "outputs": [
    {
     "name": "stdout",
     "output_type": "stream",
     "text": [
      "[[0.08741037 0.95669868 0.87703897 0.15609974 0.1528703  0.37579554\n",
      "  0.12580124]\n",
      " [0.87488335 0.90905377 0.05423199 0.93073382 0.87772982 0.82854321\n",
      "  0.66099383]\n",
      " [0.13688598 0.40732828 0.94093502 0.31615559 0.14523326 0.16807874\n",
      "  0.52847698]\n",
      " [0.01924654 0.67736666 0.10935661 0.37297207 0.13502291 0.6687849\n",
      "  0.24162364]] \n",
      "\n",
      "[[0.70396401 0.6282785  0.34493234]\n",
      " [0.04513405 0.99941571 0.64252724]\n",
      " [0.00702188 0.74737966 0.38334788]\n",
      " [0.04415653 0.2128969  0.89941071]\n",
      " [0.19746859 0.0911425  0.21045958]\n",
      " [0.99303522 0.62944057 0.56701145]\n",
      " [0.54064111 0.85731452 0.53380245]]\n",
      "\n",
      " [[0.58914334 2.05809714 1.43387083]\n",
      " [2.05185156 2.86507205 2.75112932]\n",
      " [0.61661814 1.83574053 1.36196569]\n",
      " [0.88277964 1.49061271 1.35584685]]\n"
     ]
    }
   ],
   "source": [
    "# Create two matrices of compatible dimensions.\n",
    "a = np.random.rand(4, 7)\n",
    "b = np.random.rand(7, 3)\n",
    "print(a, '\\n')\n",
    "print(b)\n",
    "\n",
    "# Perform matrix multiplication on these matrices and display the result.\n",
    "result = a @ b\n",
    "print('\\n', result) # 4x3 Matrix"
   ]
  },
  {
   "cell_type": "code",
   "execution_count": 60,
   "id": "db2a6273",
   "metadata": {},
   "outputs": [
    {
     "data": {
      "text/plain": [
       "array([[0.30858511, 0.41197905, 0.02893098, 0.89520541],\n",
       "       [0.58204713, 0.41172391, 0.41388304, 0.72392689],\n",
       "       [0.30503475, 0.05990835, 0.30719476, 0.8334448 ]])"
      ]
     },
     "execution_count": 60,
     "metadata": {},
     "output_type": "execute_result"
    }
   ],
   "source": [
    "np.random.random((3, 4))"
   ]
  },
  {
   "cell_type": "code",
   "execution_count": 61,
   "id": "dd36cb6b",
   "metadata": {},
   "outputs": [
    {
     "data": {
      "text/plain": [
       "array([[0.41637385, 0.5673734 , 0.27427078, 0.68454466],\n",
       "       [0.92811896, 0.99561276, 0.60402568, 0.88181462],\n",
       "       [0.99279257, 0.3667112 , 0.33743734, 0.15398343]])"
      ]
     },
     "execution_count": 61,
     "metadata": {},
     "output_type": "execute_result"
    }
   ],
   "source": [
    "np.random.rand(3,4)"
   ]
  }
 ],
 "metadata": {
  "kernelspec": {
   "display_name": "jupyter_env",
   "language": "python",
   "name": "python3"
  },
  "language_info": {
   "codemirror_mode": {
    "name": "ipython",
    "version": 3
   },
   "file_extension": ".py",
   "mimetype": "text/x-python",
   "name": "python",
   "nbconvert_exporter": "python",
   "pygments_lexer": "ipython3",
   "version": "3.12.11"
  }
 },
 "nbformat": 4,
 "nbformat_minor": 5
}
